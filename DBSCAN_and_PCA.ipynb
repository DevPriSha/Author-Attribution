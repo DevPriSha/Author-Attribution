{
  "nbformat": 4,
  "nbformat_minor": 0,
  "metadata": {
    "colab": {
      "provenance": []
    },
    "kernelspec": {
      "name": "python3",
      "display_name": "Python 3"
    },
    "language_info": {
      "name": "python"
    }
  },
  "cells": [
    {
      "cell_type": "code",
      "execution_count": 1,
      "metadata": {
        "colab": {
          "base_uri": "https://localhost:8080/"
        },
        "id": "1qLjRBiksV2n",
        "outputId": "5e5d0e04-7df6-4494-b656-6cc4ab7c8dc2"
      },
      "outputs": [
        {
          "output_type": "stream",
          "name": "stdout",
          "text": [
            "2022-11-13 11:13:41.059786: E tensorflow/stream_executor/cuda/cuda_driver.cc:271] failed call to cuInit: CUDA_ERROR_NO_DEVICE: no CUDA-capable device is detected\n",
            "Looking in indexes: https://pypi.org/simple, https://us-python.pkg.dev/colab-wheels/public/simple/\n",
            "Collecting en-core-web-sm==3.4.1\n",
            "  Downloading https://github.com/explosion/spacy-models/releases/download/en_core_web_sm-3.4.1/en_core_web_sm-3.4.1-py3-none-any.whl (12.8 MB)\n",
            "\u001b[K     |████████████████████████████████| 12.8 MB 5.0 MB/s \n",
            "\u001b[?25hRequirement already satisfied: spacy<3.5.0,>=3.4.0 in /usr/local/lib/python3.7/dist-packages (from en-core-web-sm==3.4.1) (3.4.2)\n",
            "Requirement already satisfied: thinc<8.2.0,>=8.1.0 in /usr/local/lib/python3.7/dist-packages (from spacy<3.5.0,>=3.4.0->en-core-web-sm==3.4.1) (8.1.5)\n",
            "Requirement already satisfied: jinja2 in /usr/local/lib/python3.7/dist-packages (from spacy<3.5.0,>=3.4.0->en-core-web-sm==3.4.1) (2.11.3)\n",
            "Requirement already satisfied: cymem<2.1.0,>=2.0.2 in /usr/local/lib/python3.7/dist-packages (from spacy<3.5.0,>=3.4.0->en-core-web-sm==3.4.1) (2.0.7)\n",
            "Requirement already satisfied: spacy-loggers<2.0.0,>=1.0.0 in /usr/local/lib/python3.7/dist-packages (from spacy<3.5.0,>=3.4.0->en-core-web-sm==3.4.1) (1.0.3)\n",
            "Requirement already satisfied: preshed<3.1.0,>=3.0.2 in /usr/local/lib/python3.7/dist-packages (from spacy<3.5.0,>=3.4.0->en-core-web-sm==3.4.1) (3.0.8)\n",
            "Requirement already satisfied: requests<3.0.0,>=2.13.0 in /usr/local/lib/python3.7/dist-packages (from spacy<3.5.0,>=3.4.0->en-core-web-sm==3.4.1) (2.23.0)\n",
            "Requirement already satisfied: murmurhash<1.1.0,>=0.28.0 in /usr/local/lib/python3.7/dist-packages (from spacy<3.5.0,>=3.4.0->en-core-web-sm==3.4.1) (1.0.9)\n",
            "Requirement already satisfied: srsly<3.0.0,>=2.4.3 in /usr/local/lib/python3.7/dist-packages (from spacy<3.5.0,>=3.4.0->en-core-web-sm==3.4.1) (2.4.5)\n",
            "Requirement already satisfied: pydantic!=1.8,!=1.8.1,<1.11.0,>=1.7.4 in /usr/local/lib/python3.7/dist-packages (from spacy<3.5.0,>=3.4.0->en-core-web-sm==3.4.1) (1.10.2)\n",
            "Requirement already satisfied: catalogue<2.1.0,>=2.0.6 in /usr/local/lib/python3.7/dist-packages (from spacy<3.5.0,>=3.4.0->en-core-web-sm==3.4.1) (2.0.8)\n",
            "Requirement already satisfied: spacy-legacy<3.1.0,>=3.0.10 in /usr/local/lib/python3.7/dist-packages (from spacy<3.5.0,>=3.4.0->en-core-web-sm==3.4.1) (3.0.10)\n",
            "Requirement already satisfied: wasabi<1.1.0,>=0.9.1 in /usr/local/lib/python3.7/dist-packages (from spacy<3.5.0,>=3.4.0->en-core-web-sm==3.4.1) (0.10.1)\n",
            "Requirement already satisfied: tqdm<5.0.0,>=4.38.0 in /usr/local/lib/python3.7/dist-packages (from spacy<3.5.0,>=3.4.0->en-core-web-sm==3.4.1) (4.64.1)\n",
            "Requirement already satisfied: numpy>=1.15.0 in /usr/local/lib/python3.7/dist-packages (from spacy<3.5.0,>=3.4.0->en-core-web-sm==3.4.1) (1.21.6)\n",
            "Requirement already satisfied: typer<0.5.0,>=0.3.0 in /usr/local/lib/python3.7/dist-packages (from spacy<3.5.0,>=3.4.0->en-core-web-sm==3.4.1) (0.4.2)\n",
            "Requirement already satisfied: packaging>=20.0 in /usr/local/lib/python3.7/dist-packages (from spacy<3.5.0,>=3.4.0->en-core-web-sm==3.4.1) (21.3)\n",
            "Requirement already satisfied: langcodes<4.0.0,>=3.2.0 in /usr/local/lib/python3.7/dist-packages (from spacy<3.5.0,>=3.4.0->en-core-web-sm==3.4.1) (3.3.0)\n",
            "Requirement already satisfied: setuptools in /usr/local/lib/python3.7/dist-packages (from spacy<3.5.0,>=3.4.0->en-core-web-sm==3.4.1) (57.4.0)\n",
            "Requirement already satisfied: pathy>=0.3.5 in /usr/local/lib/python3.7/dist-packages (from spacy<3.5.0,>=3.4.0->en-core-web-sm==3.4.1) (0.6.2)\n",
            "Requirement already satisfied: typing-extensions<4.2.0,>=3.7.4 in /usr/local/lib/python3.7/dist-packages (from spacy<3.5.0,>=3.4.0->en-core-web-sm==3.4.1) (4.1.1)\n",
            "Requirement already satisfied: zipp>=0.5 in /usr/local/lib/python3.7/dist-packages (from catalogue<2.1.0,>=2.0.6->spacy<3.5.0,>=3.4.0->en-core-web-sm==3.4.1) (3.10.0)\n",
            "Requirement already satisfied: pyparsing!=3.0.5,>=2.0.2 in /usr/local/lib/python3.7/dist-packages (from packaging>=20.0->spacy<3.5.0,>=3.4.0->en-core-web-sm==3.4.1) (3.0.9)\n",
            "Requirement already satisfied: smart-open<6.0.0,>=5.2.1 in /usr/local/lib/python3.7/dist-packages (from pathy>=0.3.5->spacy<3.5.0,>=3.4.0->en-core-web-sm==3.4.1) (5.2.1)\n",
            "Requirement already satisfied: chardet<4,>=3.0.2 in /usr/local/lib/python3.7/dist-packages (from requests<3.0.0,>=2.13.0->spacy<3.5.0,>=3.4.0->en-core-web-sm==3.4.1) (3.0.4)\n",
            "Requirement already satisfied: idna<3,>=2.5 in /usr/local/lib/python3.7/dist-packages (from requests<3.0.0,>=2.13.0->spacy<3.5.0,>=3.4.0->en-core-web-sm==3.4.1) (2.10)\n",
            "Requirement already satisfied: urllib3!=1.25.0,!=1.25.1,<1.26,>=1.21.1 in /usr/local/lib/python3.7/dist-packages (from requests<3.0.0,>=2.13.0->spacy<3.5.0,>=3.4.0->en-core-web-sm==3.4.1) (1.24.3)\n",
            "Requirement already satisfied: certifi>=2017.4.17 in /usr/local/lib/python3.7/dist-packages (from requests<3.0.0,>=2.13.0->spacy<3.5.0,>=3.4.0->en-core-web-sm==3.4.1) (2022.9.24)\n",
            "Requirement already satisfied: confection<1.0.0,>=0.0.1 in /usr/local/lib/python3.7/dist-packages (from thinc<8.2.0,>=8.1.0->spacy<3.5.0,>=3.4.0->en-core-web-sm==3.4.1) (0.0.3)\n",
            "Requirement already satisfied: blis<0.8.0,>=0.7.8 in /usr/local/lib/python3.7/dist-packages (from thinc<8.2.0,>=8.1.0->spacy<3.5.0,>=3.4.0->en-core-web-sm==3.4.1) (0.7.9)\n",
            "Requirement already satisfied: click<9.0.0,>=7.1.1 in /usr/local/lib/python3.7/dist-packages (from typer<0.5.0,>=0.3.0->spacy<3.5.0,>=3.4.0->en-core-web-sm==3.4.1) (7.1.2)\n",
            "Requirement already satisfied: MarkupSafe>=0.23 in /usr/local/lib/python3.7/dist-packages (from jinja2->spacy<3.5.0,>=3.4.0->en-core-web-sm==3.4.1) (2.0.1)\n",
            "\u001b[38;5;2m✔ Download and installation successful\u001b[0m\n",
            "You can now load the package via spacy.load('en_core_web_sm')\n"
          ]
        }
      ],
      "source": [
        "! python -m spacy download en_core_web_sm"
      ]
    },
    {
      "cell_type": "code",
      "source": [
        "! pip install texthero -q"
      ],
      "metadata": {
        "id": "ZXYDUjgdu0rd"
      },
      "execution_count": 8,
      "outputs": []
    },
    {
      "cell_type": "code",
      "source": [
        "import numpy as np\n",
        "import pandas as pd\n",
        "import texthero as hero\n",
        "\n",
        "\n",
        "import warnings\n",
        "warnings.filterwarnings(\"ignore\")"
      ],
      "metadata": {
        "colab": {
          "base_uri": "https://localhost:8080/",
          "height": 469
        },
        "id": "cqQgalRasmC8",
        "outputId": "347d7229-4386-471d-b5ec-d4ba5969cc8c"
      },
      "execution_count": 9,
      "outputs": [
        {
          "output_type": "stream",
          "name": "stderr",
          "text": [
            "/usr/local/lib/python3.7/dist-packages/spacy/util.py:275: UserWarning: [W031] Model 'en_core_web_sm' (3.4.1) requires spaCy v3.4 and is incompatible with the current spaCy version (2.3.8). This may lead to unexpected results or runtime errors. To resolve this, download a newer compatible model or retrain your custom model with the current spaCy version. For more details and available updates, run: python -m spacy validate\n",
            "  warnings.warn(warn_msg)\n"
          ]
        },
        {
          "output_type": "error",
          "ename": "KeyError",
          "evalue": "ignored",
          "traceback": [
            "\u001b[0;31m---------------------------------------------------------------------------\u001b[0m",
            "\u001b[0;31mKeyError\u001b[0m                                  Traceback (most recent call last)",
            "\u001b[0;32m<ipython-input-9-036367d7f24d>\u001b[0m in \u001b[0;36m<module>\u001b[0;34m\u001b[0m\n\u001b[1;32m      1\u001b[0m \u001b[0;32mimport\u001b[0m \u001b[0mnumpy\u001b[0m \u001b[0;32mas\u001b[0m \u001b[0mnp\u001b[0m\u001b[0;34m\u001b[0m\u001b[0;34m\u001b[0m\u001b[0m\n\u001b[1;32m      2\u001b[0m \u001b[0;32mimport\u001b[0m \u001b[0mpandas\u001b[0m \u001b[0;32mas\u001b[0m \u001b[0mpd\u001b[0m\u001b[0;34m\u001b[0m\u001b[0;34m\u001b[0m\u001b[0m\n\u001b[0;32m----> 3\u001b[0;31m \u001b[0;32mimport\u001b[0m \u001b[0mtexthero\u001b[0m \u001b[0;32mas\u001b[0m \u001b[0mhero\u001b[0m\u001b[0;34m\u001b[0m\u001b[0;34m\u001b[0m\u001b[0m\n\u001b[0m\u001b[1;32m      4\u001b[0m \u001b[0;34m\u001b[0m\u001b[0m\n\u001b[1;32m      5\u001b[0m \u001b[0;34m\u001b[0m\u001b[0m\n",
            "\u001b[0;32m/usr/local/lib/python3.7/dist-packages/texthero/__init__.py\u001b[0m in \u001b[0;36m<module>\u001b[0;34m\u001b[0m\n\u001b[1;32m     16\u001b[0m \u001b[0;32mfrom\u001b[0m \u001b[0;34m.\u001b[0m\u001b[0mnlp\u001b[0m \u001b[0;32mimport\u001b[0m \u001b[0;34m*\u001b[0m\u001b[0;34m\u001b[0m\u001b[0;34m\u001b[0m\u001b[0m\n\u001b[1;32m     17\u001b[0m \u001b[0;34m\u001b[0m\u001b[0m\n\u001b[0;32m---> 18\u001b[0;31m \u001b[0;32mfrom\u001b[0m \u001b[0;34m.\u001b[0m \u001b[0;32mimport\u001b[0m \u001b[0mstopwords\u001b[0m\u001b[0;34m\u001b[0m\u001b[0;34m\u001b[0m\u001b[0m\n\u001b[0m",
            "\u001b[0;32m/usr/local/lib/python3.7/dist-packages/texthero/stopwords.py\u001b[0m in \u001b[0;36m<module>\u001b[0;34m\u001b[0m\n\u001b[1;32m     12\u001b[0m \u001b[0;32mtry\u001b[0m\u001b[0;34m:\u001b[0m\u001b[0;34m\u001b[0m\u001b[0;34m\u001b[0m\u001b[0m\n\u001b[1;32m     13\u001b[0m     \u001b[0;31m# If not present, download 'en_core_web_sm'\u001b[0m\u001b[0;34m\u001b[0m\u001b[0;34m\u001b[0m\u001b[0;34m\u001b[0m\u001b[0m\n\u001b[0;32m---> 14\u001b[0;31m     \u001b[0mspacy_model\u001b[0m \u001b[0;34m=\u001b[0m \u001b[0mspacy\u001b[0m\u001b[0;34m.\u001b[0m\u001b[0mload\u001b[0m\u001b[0;34m(\u001b[0m\u001b[0;34m\"en_core_web_sm\"\u001b[0m\u001b[0;34m)\u001b[0m\u001b[0;34m\u001b[0m\u001b[0;34m\u001b[0m\u001b[0m\n\u001b[0m\u001b[1;32m     15\u001b[0m \u001b[0;32mexcept\u001b[0m \u001b[0mOSError\u001b[0m\u001b[0;34m:\u001b[0m\u001b[0;34m\u001b[0m\u001b[0;34m\u001b[0m\u001b[0m\n\u001b[1;32m     16\u001b[0m     \u001b[0;32mfrom\u001b[0m \u001b[0mspacy\u001b[0m\u001b[0;34m.\u001b[0m\u001b[0mcli\u001b[0m\u001b[0;34m.\u001b[0m\u001b[0mdownload\u001b[0m \u001b[0;32mimport\u001b[0m \u001b[0mdownload\u001b[0m \u001b[0;32mas\u001b[0m \u001b[0mspacy_download\u001b[0m\u001b[0;34m\u001b[0m\u001b[0;34m\u001b[0m\u001b[0m\n",
            "\u001b[0;32m/usr/local/lib/python3.7/dist-packages/spacy/__init__.py\u001b[0m in \u001b[0;36mload\u001b[0;34m(name, **overrides)\u001b[0m\n\u001b[1;32m     28\u001b[0m     \u001b[0;32mif\u001b[0m \u001b[0mdepr_path\u001b[0m \u001b[0;32mnot\u001b[0m \u001b[0;32min\u001b[0m \u001b[0;34m(\u001b[0m\u001b[0;32mTrue\u001b[0m\u001b[0;34m,\u001b[0m \u001b[0;32mFalse\u001b[0m\u001b[0;34m,\u001b[0m \u001b[0;32mNone\u001b[0m\u001b[0;34m)\u001b[0m\u001b[0;34m:\u001b[0m\u001b[0;34m\u001b[0m\u001b[0;34m\u001b[0m\u001b[0m\n\u001b[1;32m     29\u001b[0m         \u001b[0mwarnings\u001b[0m\u001b[0;34m.\u001b[0m\u001b[0mwarn\u001b[0m\u001b[0;34m(\u001b[0m\u001b[0mWarnings\u001b[0m\u001b[0;34m.\u001b[0m\u001b[0mW001\u001b[0m\u001b[0;34m.\u001b[0m\u001b[0mformat\u001b[0m\u001b[0;34m(\u001b[0m\u001b[0mpath\u001b[0m\u001b[0;34m=\u001b[0m\u001b[0mdepr_path\u001b[0m\u001b[0;34m)\u001b[0m\u001b[0;34m,\u001b[0m \u001b[0mDeprecationWarning\u001b[0m\u001b[0;34m)\u001b[0m\u001b[0;34m\u001b[0m\u001b[0;34m\u001b[0m\u001b[0m\n\u001b[0;32m---> 30\u001b[0;31m     \u001b[0;32mreturn\u001b[0m \u001b[0mutil\u001b[0m\u001b[0;34m.\u001b[0m\u001b[0mload_model\u001b[0m\u001b[0;34m(\u001b[0m\u001b[0mname\u001b[0m\u001b[0;34m,\u001b[0m \u001b[0;34m**\u001b[0m\u001b[0moverrides\u001b[0m\u001b[0;34m)\u001b[0m\u001b[0;34m\u001b[0m\u001b[0;34m\u001b[0m\u001b[0m\n\u001b[0m\u001b[1;32m     31\u001b[0m \u001b[0;34m\u001b[0m\u001b[0m\n\u001b[1;32m     32\u001b[0m \u001b[0;34m\u001b[0m\u001b[0m\n",
            "\u001b[0;32m/usr/local/lib/python3.7/dist-packages/spacy/util.py\u001b[0m in \u001b[0;36mload_model\u001b[0;34m(name, **overrides)\u001b[0m\n\u001b[1;32m    168\u001b[0m             \u001b[0;32mreturn\u001b[0m \u001b[0mload_model_from_link\u001b[0m\u001b[0;34m(\u001b[0m\u001b[0mname\u001b[0m\u001b[0;34m,\u001b[0m \u001b[0;34m**\u001b[0m\u001b[0moverrides\u001b[0m\u001b[0;34m)\u001b[0m\u001b[0;34m\u001b[0m\u001b[0;34m\u001b[0m\u001b[0m\n\u001b[1;32m    169\u001b[0m         \u001b[0;32mif\u001b[0m \u001b[0mis_package\u001b[0m\u001b[0;34m(\u001b[0m\u001b[0mname\u001b[0m\u001b[0;34m)\u001b[0m\u001b[0;34m:\u001b[0m  \u001b[0;31m# installed as package\u001b[0m\u001b[0;34m\u001b[0m\u001b[0;34m\u001b[0m\u001b[0m\n\u001b[0;32m--> 170\u001b[0;31m             \u001b[0;32mreturn\u001b[0m \u001b[0mload_model_from_package\u001b[0m\u001b[0;34m(\u001b[0m\u001b[0mname\u001b[0m\u001b[0;34m,\u001b[0m \u001b[0;34m**\u001b[0m\u001b[0moverrides\u001b[0m\u001b[0;34m)\u001b[0m\u001b[0;34m\u001b[0m\u001b[0;34m\u001b[0m\u001b[0m\n\u001b[0m\u001b[1;32m    171\u001b[0m         \u001b[0;32mif\u001b[0m \u001b[0mPath\u001b[0m\u001b[0;34m(\u001b[0m\u001b[0mname\u001b[0m\u001b[0;34m)\u001b[0m\u001b[0;34m.\u001b[0m\u001b[0mexists\u001b[0m\u001b[0;34m(\u001b[0m\u001b[0;34m)\u001b[0m\u001b[0;34m:\u001b[0m  \u001b[0;31m# path to model data directory\u001b[0m\u001b[0;34m\u001b[0m\u001b[0;34m\u001b[0m\u001b[0m\n\u001b[1;32m    172\u001b[0m             \u001b[0;32mreturn\u001b[0m \u001b[0mload_model_from_path\u001b[0m\u001b[0;34m(\u001b[0m\u001b[0mPath\u001b[0m\u001b[0;34m(\u001b[0m\u001b[0mname\u001b[0m\u001b[0;34m)\u001b[0m\u001b[0;34m,\u001b[0m \u001b[0;34m**\u001b[0m\u001b[0moverrides\u001b[0m\u001b[0;34m)\u001b[0m\u001b[0;34m\u001b[0m\u001b[0;34m\u001b[0m\u001b[0m\n",
            "\u001b[0;32m/usr/local/lib/python3.7/dist-packages/spacy/util.py\u001b[0m in \u001b[0;36mload_model_from_package\u001b[0;34m(name, **overrides)\u001b[0m\n\u001b[1;32m    189\u001b[0m     \u001b[0;34m\"\"\"Load a model from an installed package.\"\"\"\u001b[0m\u001b[0;34m\u001b[0m\u001b[0;34m\u001b[0m\u001b[0m\n\u001b[1;32m    190\u001b[0m     \u001b[0mcls\u001b[0m \u001b[0;34m=\u001b[0m \u001b[0mimportlib\u001b[0m\u001b[0;34m.\u001b[0m\u001b[0mimport_module\u001b[0m\u001b[0;34m(\u001b[0m\u001b[0mname\u001b[0m\u001b[0;34m)\u001b[0m\u001b[0;34m\u001b[0m\u001b[0;34m\u001b[0m\u001b[0m\n\u001b[0;32m--> 191\u001b[0;31m     \u001b[0;32mreturn\u001b[0m \u001b[0mcls\u001b[0m\u001b[0;34m.\u001b[0m\u001b[0mload\u001b[0m\u001b[0;34m(\u001b[0m\u001b[0;34m**\u001b[0m\u001b[0moverrides\u001b[0m\u001b[0;34m)\u001b[0m\u001b[0;34m\u001b[0m\u001b[0;34m\u001b[0m\u001b[0m\n\u001b[0m\u001b[1;32m    192\u001b[0m \u001b[0;34m\u001b[0m\u001b[0m\n\u001b[1;32m    193\u001b[0m \u001b[0;34m\u001b[0m\u001b[0m\n",
            "\u001b[0;32m/usr/local/lib/python3.7/dist-packages/en_core_web_sm/__init__.py\u001b[0m in \u001b[0;36mload\u001b[0;34m(**overrides)\u001b[0m\n\u001b[1;32m      8\u001b[0m \u001b[0;34m\u001b[0m\u001b[0m\n\u001b[1;32m      9\u001b[0m \u001b[0;32mdef\u001b[0m \u001b[0mload\u001b[0m\u001b[0;34m(\u001b[0m\u001b[0;34m**\u001b[0m\u001b[0moverrides\u001b[0m\u001b[0;34m)\u001b[0m\u001b[0;34m:\u001b[0m\u001b[0;34m\u001b[0m\u001b[0;34m\u001b[0m\u001b[0m\n\u001b[0;32m---> 10\u001b[0;31m     \u001b[0;32mreturn\u001b[0m \u001b[0mload_model_from_init_py\u001b[0m\u001b[0;34m(\u001b[0m\u001b[0m__file__\u001b[0m\u001b[0;34m,\u001b[0m \u001b[0;34m**\u001b[0m\u001b[0moverrides\u001b[0m\u001b[0;34m)\u001b[0m\u001b[0;34m\u001b[0m\u001b[0;34m\u001b[0m\u001b[0m\n\u001b[0m",
            "\u001b[0;32m/usr/local/lib/python3.7/dist-packages/spacy/util.py\u001b[0m in \u001b[0;36mload_model_from_init_py\u001b[0;34m(init_file, **overrides)\u001b[0m\n\u001b[1;32m    237\u001b[0m     \u001b[0;32mif\u001b[0m \u001b[0;32mnot\u001b[0m \u001b[0mmodel_path\u001b[0m\u001b[0;34m.\u001b[0m\u001b[0mexists\u001b[0m\u001b[0;34m(\u001b[0m\u001b[0;34m)\u001b[0m\u001b[0;34m:\u001b[0m\u001b[0;34m\u001b[0m\u001b[0;34m\u001b[0m\u001b[0m\n\u001b[1;32m    238\u001b[0m         \u001b[0;32mraise\u001b[0m \u001b[0mIOError\u001b[0m\u001b[0;34m(\u001b[0m\u001b[0mErrors\u001b[0m\u001b[0;34m.\u001b[0m\u001b[0mE052\u001b[0m\u001b[0;34m.\u001b[0m\u001b[0mformat\u001b[0m\u001b[0;34m(\u001b[0m\u001b[0mpath\u001b[0m\u001b[0;34m=\u001b[0m\u001b[0mpath2str\u001b[0m\u001b[0;34m(\u001b[0m\u001b[0mdata_path\u001b[0m\u001b[0;34m)\u001b[0m\u001b[0;34m)\u001b[0m\u001b[0;34m)\u001b[0m\u001b[0;34m\u001b[0m\u001b[0;34m\u001b[0m\u001b[0m\n\u001b[0;32m--> 239\u001b[0;31m     \u001b[0;32mreturn\u001b[0m \u001b[0mload_model_from_path\u001b[0m\u001b[0;34m(\u001b[0m\u001b[0mdata_path\u001b[0m\u001b[0;34m,\u001b[0m \u001b[0mmeta\u001b[0m\u001b[0;34m,\u001b[0m \u001b[0;34m**\u001b[0m\u001b[0moverrides\u001b[0m\u001b[0;34m)\u001b[0m\u001b[0;34m\u001b[0m\u001b[0;34m\u001b[0m\u001b[0m\n\u001b[0m\u001b[1;32m    240\u001b[0m \u001b[0;34m\u001b[0m\u001b[0m\n\u001b[1;32m    241\u001b[0m \u001b[0;34m\u001b[0m\u001b[0m\n",
            "\u001b[0;32m/usr/local/lib/python3.7/dist-packages/spacy/util.py\u001b[0m in \u001b[0;36mload_model_from_path\u001b[0;34m(model_path, meta, **overrides)\u001b[0m\n\u001b[1;32m    218\u001b[0m             \u001b[0mconfig\u001b[0m\u001b[0;34m.\u001b[0m\u001b[0mupdate\u001b[0m\u001b[0;34m(\u001b[0m\u001b[0moverrides\u001b[0m\u001b[0;34m)\u001b[0m\u001b[0;34m\u001b[0m\u001b[0;34m\u001b[0m\u001b[0m\n\u001b[1;32m    219\u001b[0m             \u001b[0mfactory\u001b[0m \u001b[0;34m=\u001b[0m \u001b[0mfactories\u001b[0m\u001b[0;34m.\u001b[0m\u001b[0mget\u001b[0m\u001b[0;34m(\u001b[0m\u001b[0mname\u001b[0m\u001b[0;34m,\u001b[0m \u001b[0mname\u001b[0m\u001b[0;34m)\u001b[0m\u001b[0;34m\u001b[0m\u001b[0;34m\u001b[0m\u001b[0m\n\u001b[0;32m--> 220\u001b[0;31m             \u001b[0mcomponent\u001b[0m \u001b[0;34m=\u001b[0m \u001b[0mnlp\u001b[0m\u001b[0;34m.\u001b[0m\u001b[0mcreate_pipe\u001b[0m\u001b[0;34m(\u001b[0m\u001b[0mfactory\u001b[0m\u001b[0;34m,\u001b[0m \u001b[0mconfig\u001b[0m\u001b[0;34m=\u001b[0m\u001b[0mconfig\u001b[0m\u001b[0;34m)\u001b[0m\u001b[0;34m\u001b[0m\u001b[0;34m\u001b[0m\u001b[0m\n\u001b[0m\u001b[1;32m    221\u001b[0m             \u001b[0mnlp\u001b[0m\u001b[0;34m.\u001b[0m\u001b[0madd_pipe\u001b[0m\u001b[0;34m(\u001b[0m\u001b[0mcomponent\u001b[0m\u001b[0;34m,\u001b[0m \u001b[0mname\u001b[0m\u001b[0;34m=\u001b[0m\u001b[0mname\u001b[0m\u001b[0;34m)\u001b[0m\u001b[0;34m\u001b[0m\u001b[0;34m\u001b[0m\u001b[0m\n\u001b[1;32m    222\u001b[0m     \u001b[0;32mreturn\u001b[0m \u001b[0mnlp\u001b[0m\u001b[0;34m.\u001b[0m\u001b[0mfrom_disk\u001b[0m\u001b[0;34m(\u001b[0m\u001b[0mmodel_path\u001b[0m\u001b[0;34m,\u001b[0m \u001b[0mexclude\u001b[0m\u001b[0;34m=\u001b[0m\u001b[0mdisable\u001b[0m\u001b[0;34m)\u001b[0m\u001b[0;34m\u001b[0m\u001b[0;34m\u001b[0m\u001b[0m\n",
            "\u001b[0;32m/usr/local/lib/python3.7/dist-packages/spacy/language.py\u001b[0m in \u001b[0;36mcreate_pipe\u001b[0;34m(self, name, config)\u001b[0m\n\u001b[1;32m    308\u001b[0m                 \u001b[0;32mraise\u001b[0m \u001b[0mKeyError\u001b[0m\u001b[0;34m(\u001b[0m\u001b[0mErrors\u001b[0m\u001b[0;34m.\u001b[0m\u001b[0mE108\u001b[0m\u001b[0;34m.\u001b[0m\u001b[0mformat\u001b[0m\u001b[0;34m(\u001b[0m\u001b[0mname\u001b[0m\u001b[0;34m=\u001b[0m\u001b[0mname\u001b[0m\u001b[0;34m)\u001b[0m\u001b[0;34m)\u001b[0m\u001b[0;34m\u001b[0m\u001b[0;34m\u001b[0m\u001b[0m\n\u001b[1;32m    309\u001b[0m             \u001b[0;32melse\u001b[0m\u001b[0;34m:\u001b[0m\u001b[0;34m\u001b[0m\u001b[0;34m\u001b[0m\u001b[0m\n\u001b[0;32m--> 310\u001b[0;31m                 \u001b[0;32mraise\u001b[0m \u001b[0mKeyError\u001b[0m\u001b[0;34m(\u001b[0m\u001b[0mErrors\u001b[0m\u001b[0;34m.\u001b[0m\u001b[0mE002\u001b[0m\u001b[0;34m.\u001b[0m\u001b[0mformat\u001b[0m\u001b[0;34m(\u001b[0m\u001b[0mname\u001b[0m\u001b[0;34m=\u001b[0m\u001b[0mname\u001b[0m\u001b[0;34m)\u001b[0m\u001b[0;34m)\u001b[0m\u001b[0;34m\u001b[0m\u001b[0;34m\u001b[0m\u001b[0m\n\u001b[0m\u001b[1;32m    311\u001b[0m         \u001b[0mfactory\u001b[0m \u001b[0;34m=\u001b[0m \u001b[0mself\u001b[0m\u001b[0;34m.\u001b[0m\u001b[0mfactories\u001b[0m\u001b[0;34m[\u001b[0m\u001b[0mname\u001b[0m\u001b[0;34m]\u001b[0m\u001b[0;34m\u001b[0m\u001b[0;34m\u001b[0m\u001b[0m\n\u001b[1;32m    312\u001b[0m         \u001b[0;32mreturn\u001b[0m \u001b[0mfactory\u001b[0m\u001b[0;34m(\u001b[0m\u001b[0mself\u001b[0m\u001b[0;34m,\u001b[0m \u001b[0;34m**\u001b[0m\u001b[0mconfig\u001b[0m\u001b[0;34m)\u001b[0m\u001b[0;34m\u001b[0m\u001b[0;34m\u001b[0m\u001b[0m\n",
            "\u001b[0;31mKeyError\u001b[0m: \"[E002] Can't find factory for 'tok2vec'. This usually happens when spaCy calls `nlp.create_pipe` with a component name that's not built in - for example, when constructing the pipeline from a model's meta.json. If you're using a custom component, you can write to `Language.factories['tok2vec']` or remove it from the model meta and add it via `nlp.add_pipe` instead.\""
          ]
        }
      ]
    },
    {
      "cell_type": "code",
      "source": [
        "!pip install -U pip setuptools wheel\n",
        "!pip install -U spacy\n"
      ],
      "metadata": {
        "colab": {
          "base_uri": "https://localhost:8080/",
          "height": 1000
        },
        "id": "tQRah1PGszq_",
        "outputId": "8aa8d890-6fd2-489c-9b1b-cd610e04bcc4"
      },
      "execution_count": 12,
      "outputs": [
        {
          "output_type": "stream",
          "name": "stdout",
          "text": [
            "Looking in indexes: https://pypi.org/simple, https://us-python.pkg.dev/colab-wheels/public/simple/\n",
            "Requirement already satisfied: pip in /usr/local/lib/python3.7/dist-packages (21.1.3)\n",
            "Collecting pip\n",
            "  Downloading pip-22.3.1-py3-none-any.whl (2.1 MB)\n",
            "\u001b[K     |████████████████████████████████| 2.1 MB 5.4 MB/s \n",
            "\u001b[?25hRequirement already satisfied: setuptools in /usr/local/lib/python3.7/dist-packages (57.4.0)\n",
            "Collecting setuptools\n",
            "  Downloading setuptools-65.5.1-py3-none-any.whl (1.2 MB)\n",
            "\u001b[K     |████████████████████████████████| 1.2 MB 50.8 MB/s \n",
            "\u001b[?25hRequirement already satisfied: wheel in /usr/local/lib/python3.7/dist-packages (0.38.3)\n",
            "Collecting wheel\n",
            "  Downloading wheel-0.38.4-py3-none-any.whl (36 kB)\n",
            "Installing collected packages: wheel, setuptools, pip\n",
            "  Attempting uninstall: wheel\n",
            "    Found existing installation: wheel 0.38.3\n",
            "    Uninstalling wheel-0.38.3:\n",
            "      Successfully uninstalled wheel-0.38.3\n",
            "  Attempting uninstall: setuptools\n",
            "    Found existing installation: setuptools 57.4.0\n",
            "    Uninstalling setuptools-57.4.0:\n",
            "      Successfully uninstalled setuptools-57.4.0\n",
            "  Attempting uninstall: pip\n",
            "    Found existing installation: pip 21.1.3\n",
            "    Uninstalling pip-21.1.3:\n",
            "      Successfully uninstalled pip-21.1.3\n",
            "\u001b[31mERROR: pip's dependency resolver does not currently take into account all the packages that are installed. This behaviour is the source of the following dependency conflicts.\n",
            "ipython 7.9.0 requires jedi>=0.10, which is not installed.\n",
            "en-core-web-sm 3.4.1 requires spacy<3.5.0,>=3.4.0, but you have spacy 2.3.8 which is incompatible.\u001b[0m\n",
            "Successfully installed pip-22.3.1 setuptools-65.5.1 wheel-0.38.4\n"
          ]
        },
        {
          "output_type": "display_data",
          "data": {
            "application/vnd.colab-display-data+json": {
              "pip_warning": {
                "packages": [
                  "pkg_resources"
                ]
              }
            }
          },
          "metadata": {}
        },
        {
          "output_type": "stream",
          "name": "stdout",
          "text": [
            "Looking in indexes: https://pypi.org/simple, https://us-python.pkg.dev/colab-wheels/public/simple/\n",
            "Requirement already satisfied: spacy in /usr/local/lib/python3.7/dist-packages (2.3.8)\n",
            "Collecting spacy\n",
            "  Downloading spacy-3.4.3-cp37-cp37m-manylinux_2_17_x86_64.manylinux2014_x86_64.whl (6.4 MB)\n",
            "\u001b[2K     \u001b[90m━━━━━━━━━━━━━━━━━━━━━━━━━━━━━━━━━━━━━━━━\u001b[0m \u001b[32m6.4/6.4 MB\u001b[0m \u001b[31m46.1 MB/s\u001b[0m eta \u001b[36m0:00:00\u001b[0m\n",
            "\u001b[?25hRequirement already satisfied: preshed<3.1.0,>=3.0.2 in /usr/local/lib/python3.7/dist-packages (from spacy) (3.0.8)\n",
            "Requirement already satisfied: spacy-legacy<3.1.0,>=3.0.10 in /usr/local/lib/python3.7/dist-packages (from spacy) (3.0.10)\n",
            "Requirement already satisfied: numpy>=1.15.0 in /usr/local/lib/python3.7/dist-packages (from spacy) (1.21.6)\n",
            "Requirement already satisfied: spacy-loggers<2.0.0,>=1.0.0 in /usr/local/lib/python3.7/dist-packages (from spacy) (1.0.3)\n",
            "Collecting srsly<3.0.0,>=2.4.3\n",
            "  Downloading srsly-2.4.5-cp37-cp37m-manylinux_2_17_x86_64.manylinux2014_x86_64.whl (490 kB)\n",
            "\u001b[2K     \u001b[90m━━━━━━━━━━━━━━━━━━━━━━━━━━━━━━━━━━━━━━\u001b[0m \u001b[32m490.0/490.0 kB\u001b[0m \u001b[31m35.8 MB/s\u001b[0m eta \u001b[36m0:00:00\u001b[0m\n",
            "\u001b[?25hRequirement already satisfied: murmurhash<1.1.0,>=0.28.0 in /usr/local/lib/python3.7/dist-packages (from spacy) (1.0.9)\n",
            "Requirement already satisfied: tqdm<5.0.0,>=4.38.0 in /usr/local/lib/python3.7/dist-packages (from spacy) (4.64.1)\n",
            "Requirement already satisfied: langcodes<4.0.0,>=3.2.0 in /usr/local/lib/python3.7/dist-packages (from spacy) (3.3.0)\n",
            "Requirement already satisfied: setuptools in /usr/local/lib/python3.7/dist-packages (from spacy) (65.5.1)\n",
            "Requirement already satisfied: cymem<2.1.0,>=2.0.2 in /usr/local/lib/python3.7/dist-packages (from spacy) (2.0.7)\n",
            "Requirement already satisfied: typing-extensions<4.2.0,>=3.7.4 in /usr/local/lib/python3.7/dist-packages (from spacy) (4.1.1)\n",
            "Requirement already satisfied: pathy>=0.3.5 in /usr/local/lib/python3.7/dist-packages (from spacy) (0.6.2)\n",
            "Requirement already satisfied: packaging>=20.0 in /usr/local/lib/python3.7/dist-packages (from spacy) (21.3)\n",
            "Requirement already satisfied: jinja2 in /usr/local/lib/python3.7/dist-packages (from spacy) (2.11.3)\n",
            "Requirement already satisfied: wasabi<1.1.0,>=0.9.1 in /usr/local/lib/python3.7/dist-packages (from spacy) (0.10.1)\n",
            "Collecting catalogue<2.1.0,>=2.0.6\n",
            "  Downloading catalogue-2.0.8-py3-none-any.whl (17 kB)\n",
            "Requirement already satisfied: typer<0.8.0,>=0.3.0 in /usr/local/lib/python3.7/dist-packages (from spacy) (0.4.2)\n",
            "Requirement already satisfied: requests<3.0.0,>=2.13.0 in /usr/local/lib/python3.7/dist-packages (from spacy) (2.23.0)\n",
            "Collecting thinc<8.2.0,>=8.1.0\n",
            "  Downloading thinc-8.1.5-cp37-cp37m-manylinux_2_17_x86_64.manylinux2014_x86_64.whl (806 kB)\n",
            "\u001b[2K     \u001b[90m━━━━━━━━━━━━━━━━━━━━━━━━━━━━━━━━━━━━━━\u001b[0m \u001b[32m806.2/806.2 kB\u001b[0m \u001b[31m44.2 MB/s\u001b[0m eta \u001b[36m0:00:00\u001b[0m\n",
            "\u001b[?25hRequirement already satisfied: pydantic!=1.8,!=1.8.1,<1.11.0,>=1.7.4 in /usr/local/lib/python3.7/dist-packages (from spacy) (1.10.2)\n",
            "Requirement already satisfied: zipp>=0.5 in /usr/local/lib/python3.7/dist-packages (from catalogue<2.1.0,>=2.0.6->spacy) (3.10.0)\n",
            "Requirement already satisfied: pyparsing!=3.0.5,>=2.0.2 in /usr/local/lib/python3.7/dist-packages (from packaging>=20.0->spacy) (3.0.9)\n",
            "Requirement already satisfied: smart-open<6.0.0,>=5.2.1 in /usr/local/lib/python3.7/dist-packages (from pathy>=0.3.5->spacy) (5.2.1)\n",
            "Requirement already satisfied: urllib3!=1.25.0,!=1.25.1,<1.26,>=1.21.1 in /usr/local/lib/python3.7/dist-packages (from requests<3.0.0,>=2.13.0->spacy) (1.24.3)\n",
            "Requirement already satisfied: chardet<4,>=3.0.2 in /usr/local/lib/python3.7/dist-packages (from requests<3.0.0,>=2.13.0->spacy) (3.0.4)\n",
            "Requirement already satisfied: certifi>=2017.4.17 in /usr/local/lib/python3.7/dist-packages (from requests<3.0.0,>=2.13.0->spacy) (2022.9.24)\n",
            "Requirement already satisfied: idna<3,>=2.5 in /usr/local/lib/python3.7/dist-packages (from requests<3.0.0,>=2.13.0->spacy) (2.10)\n",
            "Requirement already satisfied: blis<0.8.0,>=0.7.8 in /usr/local/lib/python3.7/dist-packages (from thinc<8.2.0,>=8.1.0->spacy) (0.7.9)\n",
            "Requirement already satisfied: confection<1.0.0,>=0.0.1 in /usr/local/lib/python3.7/dist-packages (from thinc<8.2.0,>=8.1.0->spacy) (0.0.3)\n",
            "Requirement already satisfied: click<9.0.0,>=7.1.1 in /usr/local/lib/python3.7/dist-packages (from typer<0.8.0,>=0.3.0->spacy) (7.1.2)\n",
            "Requirement already satisfied: MarkupSafe>=0.23 in /usr/local/lib/python3.7/dist-packages (from jinja2->spacy) (2.0.1)\n",
            "Installing collected packages: catalogue, srsly, thinc, spacy\n",
            "  Attempting uninstall: catalogue\n",
            "    Found existing installation: catalogue 1.0.2\n",
            "    Uninstalling catalogue-1.0.2:\n",
            "      Successfully uninstalled catalogue-1.0.2\n",
            "  Attempting uninstall: srsly\n",
            "    Found existing installation: srsly 1.0.6\n",
            "    Uninstalling srsly-1.0.6:\n",
            "      Successfully uninstalled srsly-1.0.6\n",
            "  Attempting uninstall: thinc\n",
            "    Found existing installation: thinc 7.4.6\n",
            "    Uninstalling thinc-7.4.6:\n",
            "      Successfully uninstalled thinc-7.4.6\n",
            "  Attempting uninstall: spacy\n",
            "    Found existing installation: spacy 2.3.8\n",
            "    Uninstalling spacy-2.3.8:\n",
            "      Successfully uninstalled spacy-2.3.8\n",
            "\u001b[31mERROR: pip's dependency resolver does not currently take into account all the packages that are installed. This behaviour is the source of the following dependency conflicts.\n",
            "texthero 1.1.0 requires spacy<3.0.0, but you have spacy 3.4.3 which is incompatible.\u001b[0m\u001b[31m\n",
            "\u001b[0mSuccessfully installed catalogue-2.0.8 spacy-3.4.3 srsly-2.4.5 thinc-8.1.5\n",
            "\u001b[33mWARNING: Running pip as the 'root' user can result in broken permissions and conflicting behaviour with the system package manager. It is recommended to use a virtual environment instead: https://pip.pypa.io/warnings/venv\u001b[0m\u001b[33m\n",
            "\u001b[0m"
          ]
        }
      ]
    },
    {
      "cell_type": "code",
      "source": [
        "!python -m spacy download en_core_web_sm"
      ],
      "metadata": {
        "colab": {
          "base_uri": "https://localhost:8080/"
        },
        "id": "gSOw3MZ32q_G",
        "outputId": "3513ac48-7bbb-4140-f893-bbd1041c9512"
      },
      "execution_count": 13,
      "outputs": [
        {
          "output_type": "stream",
          "name": "stdout",
          "text": [
            "2022-11-13 12:04:13.615695: E tensorflow/stream_executor/cuda/cuda_driver.cc:271] failed call to cuInit: CUDA_ERROR_NO_DEVICE: no CUDA-capable device is detected\n",
            "Looking in indexes: https://pypi.org/simple, https://us-python.pkg.dev/colab-wheels/public/simple/\n",
            "Collecting en-core-web-sm==3.4.1\n",
            "  Downloading https://github.com/explosion/spacy-models/releases/download/en_core_web_sm-3.4.1/en_core_web_sm-3.4.1-py3-none-any.whl (12.8 MB)\n",
            "\u001b[2K     \u001b[90m━━━━━━━━━━━━━━━━━━━━━━━━━━━━━━━━━━━━━━━━\u001b[0m \u001b[32m12.8/12.8 MB\u001b[0m \u001b[31m25.5 MB/s\u001b[0m eta \u001b[36m0:00:00\u001b[0m\n",
            "\u001b[?25hRequirement already satisfied: spacy<3.5.0,>=3.4.0 in /usr/local/lib/python3.7/dist-packages (from en-core-web-sm==3.4.1) (3.4.3)\n",
            "Requirement already satisfied: wasabi<1.1.0,>=0.9.1 in /usr/local/lib/python3.7/dist-packages (from spacy<3.5.0,>=3.4.0->en-core-web-sm==3.4.1) (0.10.1)\n",
            "Requirement already satisfied: spacy-loggers<2.0.0,>=1.0.0 in /usr/local/lib/python3.7/dist-packages (from spacy<3.5.0,>=3.4.0->en-core-web-sm==3.4.1) (1.0.3)\n",
            "Requirement already satisfied: spacy-legacy<3.1.0,>=3.0.10 in /usr/local/lib/python3.7/dist-packages (from spacy<3.5.0,>=3.4.0->en-core-web-sm==3.4.1) (3.0.10)\n",
            "Requirement already satisfied: tqdm<5.0.0,>=4.38.0 in /usr/local/lib/python3.7/dist-packages (from spacy<3.5.0,>=3.4.0->en-core-web-sm==3.4.1) (4.64.1)\n",
            "Requirement already satisfied: typer<0.8.0,>=0.3.0 in /usr/local/lib/python3.7/dist-packages (from spacy<3.5.0,>=3.4.0->en-core-web-sm==3.4.1) (0.4.2)\n",
            "Requirement already satisfied: pydantic!=1.8,!=1.8.1,<1.11.0,>=1.7.4 in /usr/local/lib/python3.7/dist-packages (from spacy<3.5.0,>=3.4.0->en-core-web-sm==3.4.1) (1.10.2)\n",
            "Requirement already satisfied: murmurhash<1.1.0,>=0.28.0 in /usr/local/lib/python3.7/dist-packages (from spacy<3.5.0,>=3.4.0->en-core-web-sm==3.4.1) (1.0.9)\n",
            "Requirement already satisfied: catalogue<2.1.0,>=2.0.6 in /usr/local/lib/python3.7/dist-packages (from spacy<3.5.0,>=3.4.0->en-core-web-sm==3.4.1) (2.0.8)\n",
            "Requirement already satisfied: preshed<3.1.0,>=3.0.2 in /usr/local/lib/python3.7/dist-packages (from spacy<3.5.0,>=3.4.0->en-core-web-sm==3.4.1) (3.0.8)\n",
            "Requirement already satisfied: typing-extensions<4.2.0,>=3.7.4 in /usr/local/lib/python3.7/dist-packages (from spacy<3.5.0,>=3.4.0->en-core-web-sm==3.4.1) (4.1.1)\n",
            "Requirement already satisfied: numpy>=1.15.0 in /usr/local/lib/python3.7/dist-packages (from spacy<3.5.0,>=3.4.0->en-core-web-sm==3.4.1) (1.21.6)\n",
            "Requirement already satisfied: packaging>=20.0 in /usr/local/lib/python3.7/dist-packages (from spacy<3.5.0,>=3.4.0->en-core-web-sm==3.4.1) (21.3)\n",
            "Requirement already satisfied: jinja2 in /usr/local/lib/python3.7/dist-packages (from spacy<3.5.0,>=3.4.0->en-core-web-sm==3.4.1) (2.11.3)\n",
            "Requirement already satisfied: thinc<8.2.0,>=8.1.0 in /usr/local/lib/python3.7/dist-packages (from spacy<3.5.0,>=3.4.0->en-core-web-sm==3.4.1) (8.1.5)\n",
            "Requirement already satisfied: setuptools in /usr/local/lib/python3.7/dist-packages (from spacy<3.5.0,>=3.4.0->en-core-web-sm==3.4.1) (65.5.1)\n",
            "Requirement already satisfied: langcodes<4.0.0,>=3.2.0 in /usr/local/lib/python3.7/dist-packages (from spacy<3.5.0,>=3.4.0->en-core-web-sm==3.4.1) (3.3.0)\n",
            "Requirement already satisfied: requests<3.0.0,>=2.13.0 in /usr/local/lib/python3.7/dist-packages (from spacy<3.5.0,>=3.4.0->en-core-web-sm==3.4.1) (2.23.0)\n",
            "Requirement already satisfied: cymem<2.1.0,>=2.0.2 in /usr/local/lib/python3.7/dist-packages (from spacy<3.5.0,>=3.4.0->en-core-web-sm==3.4.1) (2.0.7)\n",
            "Requirement already satisfied: srsly<3.0.0,>=2.4.3 in /usr/local/lib/python3.7/dist-packages (from spacy<3.5.0,>=3.4.0->en-core-web-sm==3.4.1) (2.4.5)\n",
            "Requirement already satisfied: pathy>=0.3.5 in /usr/local/lib/python3.7/dist-packages (from spacy<3.5.0,>=3.4.0->en-core-web-sm==3.4.1) (0.6.2)\n",
            "Requirement already satisfied: zipp>=0.5 in /usr/local/lib/python3.7/dist-packages (from catalogue<2.1.0,>=2.0.6->spacy<3.5.0,>=3.4.0->en-core-web-sm==3.4.1) (3.10.0)\n",
            "Requirement already satisfied: pyparsing!=3.0.5,>=2.0.2 in /usr/local/lib/python3.7/dist-packages (from packaging>=20.0->spacy<3.5.0,>=3.4.0->en-core-web-sm==3.4.1) (3.0.9)\n",
            "Requirement already satisfied: smart-open<6.0.0,>=5.2.1 in /usr/local/lib/python3.7/dist-packages (from pathy>=0.3.5->spacy<3.5.0,>=3.4.0->en-core-web-sm==3.4.1) (5.2.1)\n",
            "Requirement already satisfied: idna<3,>=2.5 in /usr/local/lib/python3.7/dist-packages (from requests<3.0.0,>=2.13.0->spacy<3.5.0,>=3.4.0->en-core-web-sm==3.4.1) (2.10)\n",
            "Requirement already satisfied: chardet<4,>=3.0.2 in /usr/local/lib/python3.7/dist-packages (from requests<3.0.0,>=2.13.0->spacy<3.5.0,>=3.4.0->en-core-web-sm==3.4.1) (3.0.4)\n",
            "Requirement already satisfied: urllib3!=1.25.0,!=1.25.1,<1.26,>=1.21.1 in /usr/local/lib/python3.7/dist-packages (from requests<3.0.0,>=2.13.0->spacy<3.5.0,>=3.4.0->en-core-web-sm==3.4.1) (1.24.3)\n",
            "Requirement already satisfied: certifi>=2017.4.17 in /usr/local/lib/python3.7/dist-packages (from requests<3.0.0,>=2.13.0->spacy<3.5.0,>=3.4.0->en-core-web-sm==3.4.1) (2022.9.24)\n",
            "Requirement already satisfied: confection<1.0.0,>=0.0.1 in /usr/local/lib/python3.7/dist-packages (from thinc<8.2.0,>=8.1.0->spacy<3.5.0,>=3.4.0->en-core-web-sm==3.4.1) (0.0.3)\n",
            "Requirement already satisfied: blis<0.8.0,>=0.7.8 in /usr/local/lib/python3.7/dist-packages (from thinc<8.2.0,>=8.1.0->spacy<3.5.0,>=3.4.0->en-core-web-sm==3.4.1) (0.7.9)\n",
            "Requirement already satisfied: click<9.0.0,>=7.1.1 in /usr/local/lib/python3.7/dist-packages (from typer<0.8.0,>=0.3.0->spacy<3.5.0,>=3.4.0->en-core-web-sm==3.4.1) (7.1.2)\n",
            "Requirement already satisfied: MarkupSafe>=0.23 in /usr/local/lib/python3.7/dist-packages (from jinja2->spacy<3.5.0,>=3.4.0->en-core-web-sm==3.4.1) (2.0.1)\n",
            "\u001b[33mWARNING: Running pip as the 'root' user can result in broken permissions and conflicting behaviour with the system package manager. It is recommended to use a virtual environment instead: https://pip.pypa.io/warnings/venv\u001b[0m\u001b[33m\n",
            "\u001b[0m\u001b[38;5;2m✔ Download and installation successful\u001b[0m\n",
            "You can now load the package via spacy.load('en_core_web_sm')\n"
          ]
        }
      ]
    },
    {
      "cell_type": "code",
      "source": [
        "! pip install texthero -q"
      ],
      "metadata": {
        "colab": {
          "base_uri": "https://localhost:8080/"
        },
        "id": "WOkAgWqp4Aq_",
        "outputId": "7a38f512-98d7-4f08-8960-7d96c879b094"
      },
      "execution_count": 14,
      "outputs": [
        {
          "output_type": "stream",
          "name": "stdout",
          "text": [
            "\u001b[31mERROR: pip's dependency resolver does not currently take into account all the packages that are installed. This behaviour is the source of the following dependency conflicts.\n",
            "en-core-web-sm 3.4.1 requires spacy<3.5.0,>=3.4.0, but you have spacy 2.3.8 which is incompatible.\n",
            "confection 0.0.3 requires srsly<3.0.0,>=2.4.0, but you have srsly 1.0.6 which is incompatible.\u001b[0m\u001b[31m\n",
            "\u001b[0m\u001b[33mWARNING: Running pip as the 'root' user can result in broken permissions and conflicting behaviour with the system package manager. It is recommended to use a virtual environment instead: https://pip.pypa.io/warnings/venv\u001b[0m\u001b[33m\n",
            "\u001b[0m"
          ]
        }
      ]
    },
    {
      "cell_type": "code",
      "source": [
        "import numpy as np\n",
        "import pandas as pd\n",
        "import texthero as hero"
      ],
      "metadata": {
        "colab": {
          "base_uri": "https://localhost:8080/",
          "height": 380
        },
        "id": "tD2OsZlb4G6L",
        "outputId": "bb3def55-4399-4c02-f927-46419c0ce12b"
      },
      "execution_count": 15,
      "outputs": [
        {
          "output_type": "error",
          "ename": "KeyError",
          "evalue": "ignored",
          "traceback": [
            "\u001b[0;31m---------------------------------------------------------------------------\u001b[0m",
            "\u001b[0;31mKeyError\u001b[0m                                  Traceback (most recent call last)",
            "\u001b[0;32m<ipython-input-15-a2c2d4412fc8>\u001b[0m in \u001b[0;36m<module>\u001b[0;34m\u001b[0m\n\u001b[1;32m      1\u001b[0m \u001b[0;32mimport\u001b[0m \u001b[0mnumpy\u001b[0m \u001b[0;32mas\u001b[0m \u001b[0mnp\u001b[0m\u001b[0;34m\u001b[0m\u001b[0;34m\u001b[0m\u001b[0m\n\u001b[1;32m      2\u001b[0m \u001b[0;32mimport\u001b[0m \u001b[0mpandas\u001b[0m \u001b[0;32mas\u001b[0m \u001b[0mpd\u001b[0m\u001b[0;34m\u001b[0m\u001b[0;34m\u001b[0m\u001b[0m\n\u001b[0;32m----> 3\u001b[0;31m \u001b[0;32mimport\u001b[0m \u001b[0mtexthero\u001b[0m \u001b[0;32mas\u001b[0m \u001b[0mhero\u001b[0m\u001b[0;34m\u001b[0m\u001b[0;34m\u001b[0m\u001b[0m\n\u001b[0m",
            "\u001b[0;32m/usr/local/lib/python3.7/dist-packages/texthero/__init__.py\u001b[0m in \u001b[0;36m<module>\u001b[0;34m\u001b[0m\n\u001b[1;32m     16\u001b[0m \u001b[0;32mfrom\u001b[0m \u001b[0;34m.\u001b[0m\u001b[0mnlp\u001b[0m \u001b[0;32mimport\u001b[0m \u001b[0;34m*\u001b[0m\u001b[0;34m\u001b[0m\u001b[0;34m\u001b[0m\u001b[0m\n\u001b[1;32m     17\u001b[0m \u001b[0;34m\u001b[0m\u001b[0m\n\u001b[0;32m---> 18\u001b[0;31m \u001b[0;32mfrom\u001b[0m \u001b[0;34m.\u001b[0m \u001b[0;32mimport\u001b[0m \u001b[0mstopwords\u001b[0m\u001b[0;34m\u001b[0m\u001b[0;34m\u001b[0m\u001b[0m\n\u001b[0m",
            "\u001b[0;32m/usr/local/lib/python3.7/dist-packages/texthero/stopwords.py\u001b[0m in \u001b[0;36m<module>\u001b[0;34m\u001b[0m\n\u001b[1;32m     12\u001b[0m \u001b[0;32mtry\u001b[0m\u001b[0;34m:\u001b[0m\u001b[0;34m\u001b[0m\u001b[0;34m\u001b[0m\u001b[0m\n\u001b[1;32m     13\u001b[0m     \u001b[0;31m# If not present, download 'en_core_web_sm'\u001b[0m\u001b[0;34m\u001b[0m\u001b[0;34m\u001b[0m\u001b[0;34m\u001b[0m\u001b[0m\n\u001b[0;32m---> 14\u001b[0;31m     \u001b[0mspacy_model\u001b[0m \u001b[0;34m=\u001b[0m \u001b[0mspacy\u001b[0m\u001b[0;34m.\u001b[0m\u001b[0mload\u001b[0m\u001b[0;34m(\u001b[0m\u001b[0;34m\"en_core_web_sm\"\u001b[0m\u001b[0;34m)\u001b[0m\u001b[0;34m\u001b[0m\u001b[0;34m\u001b[0m\u001b[0m\n\u001b[0m\u001b[1;32m     15\u001b[0m \u001b[0;32mexcept\u001b[0m \u001b[0mOSError\u001b[0m\u001b[0;34m:\u001b[0m\u001b[0;34m\u001b[0m\u001b[0;34m\u001b[0m\u001b[0m\n\u001b[1;32m     16\u001b[0m     \u001b[0;32mfrom\u001b[0m \u001b[0mspacy\u001b[0m\u001b[0;34m.\u001b[0m\u001b[0mcli\u001b[0m\u001b[0;34m.\u001b[0m\u001b[0mdownload\u001b[0m \u001b[0;32mimport\u001b[0m \u001b[0mdownload\u001b[0m \u001b[0;32mas\u001b[0m \u001b[0mspacy_download\u001b[0m\u001b[0;34m\u001b[0m\u001b[0;34m\u001b[0m\u001b[0m\n",
            "\u001b[0;32m/usr/local/lib/python3.7/dist-packages/spacy/__init__.py\u001b[0m in \u001b[0;36mload\u001b[0;34m(name, **overrides)\u001b[0m\n\u001b[1;32m     28\u001b[0m     \u001b[0;32mif\u001b[0m \u001b[0mdepr_path\u001b[0m \u001b[0;32mnot\u001b[0m \u001b[0;32min\u001b[0m \u001b[0;34m(\u001b[0m\u001b[0;32mTrue\u001b[0m\u001b[0;34m,\u001b[0m \u001b[0;32mFalse\u001b[0m\u001b[0;34m,\u001b[0m \u001b[0;32mNone\u001b[0m\u001b[0;34m)\u001b[0m\u001b[0;34m:\u001b[0m\u001b[0;34m\u001b[0m\u001b[0;34m\u001b[0m\u001b[0m\n\u001b[1;32m     29\u001b[0m         \u001b[0mwarnings\u001b[0m\u001b[0;34m.\u001b[0m\u001b[0mwarn\u001b[0m\u001b[0;34m(\u001b[0m\u001b[0mWarnings\u001b[0m\u001b[0;34m.\u001b[0m\u001b[0mW001\u001b[0m\u001b[0;34m.\u001b[0m\u001b[0mformat\u001b[0m\u001b[0;34m(\u001b[0m\u001b[0mpath\u001b[0m\u001b[0;34m=\u001b[0m\u001b[0mdepr_path\u001b[0m\u001b[0;34m)\u001b[0m\u001b[0;34m,\u001b[0m \u001b[0mDeprecationWarning\u001b[0m\u001b[0;34m)\u001b[0m\u001b[0;34m\u001b[0m\u001b[0;34m\u001b[0m\u001b[0m\n\u001b[0;32m---> 30\u001b[0;31m     \u001b[0;32mreturn\u001b[0m \u001b[0mutil\u001b[0m\u001b[0;34m.\u001b[0m\u001b[0mload_model\u001b[0m\u001b[0;34m(\u001b[0m\u001b[0mname\u001b[0m\u001b[0;34m,\u001b[0m \u001b[0;34m**\u001b[0m\u001b[0moverrides\u001b[0m\u001b[0;34m)\u001b[0m\u001b[0;34m\u001b[0m\u001b[0;34m\u001b[0m\u001b[0m\n\u001b[0m\u001b[1;32m     31\u001b[0m \u001b[0;34m\u001b[0m\u001b[0m\n\u001b[1;32m     32\u001b[0m \u001b[0;34m\u001b[0m\u001b[0m\n",
            "\u001b[0;32m/usr/local/lib/python3.7/dist-packages/spacy/util.py\u001b[0m in \u001b[0;36mload_model\u001b[0;34m(name, **overrides)\u001b[0m\n\u001b[1;32m    168\u001b[0m             \u001b[0;32mreturn\u001b[0m \u001b[0mload_model_from_link\u001b[0m\u001b[0;34m(\u001b[0m\u001b[0mname\u001b[0m\u001b[0;34m,\u001b[0m \u001b[0;34m**\u001b[0m\u001b[0moverrides\u001b[0m\u001b[0;34m)\u001b[0m\u001b[0;34m\u001b[0m\u001b[0;34m\u001b[0m\u001b[0m\n\u001b[1;32m    169\u001b[0m         \u001b[0;32mif\u001b[0m \u001b[0mis_package\u001b[0m\u001b[0;34m(\u001b[0m\u001b[0mname\u001b[0m\u001b[0;34m)\u001b[0m\u001b[0;34m:\u001b[0m  \u001b[0;31m# installed as package\u001b[0m\u001b[0;34m\u001b[0m\u001b[0;34m\u001b[0m\u001b[0m\n\u001b[0;32m--> 170\u001b[0;31m             \u001b[0;32mreturn\u001b[0m \u001b[0mload_model_from_package\u001b[0m\u001b[0;34m(\u001b[0m\u001b[0mname\u001b[0m\u001b[0;34m,\u001b[0m \u001b[0;34m**\u001b[0m\u001b[0moverrides\u001b[0m\u001b[0;34m)\u001b[0m\u001b[0;34m\u001b[0m\u001b[0;34m\u001b[0m\u001b[0m\n\u001b[0m\u001b[1;32m    171\u001b[0m         \u001b[0;32mif\u001b[0m \u001b[0mPath\u001b[0m\u001b[0;34m(\u001b[0m\u001b[0mname\u001b[0m\u001b[0;34m)\u001b[0m\u001b[0;34m.\u001b[0m\u001b[0mexists\u001b[0m\u001b[0;34m(\u001b[0m\u001b[0;34m)\u001b[0m\u001b[0;34m:\u001b[0m  \u001b[0;31m# path to model data directory\u001b[0m\u001b[0;34m\u001b[0m\u001b[0;34m\u001b[0m\u001b[0m\n\u001b[1;32m    172\u001b[0m             \u001b[0;32mreturn\u001b[0m \u001b[0mload_model_from_path\u001b[0m\u001b[0;34m(\u001b[0m\u001b[0mPath\u001b[0m\u001b[0;34m(\u001b[0m\u001b[0mname\u001b[0m\u001b[0;34m)\u001b[0m\u001b[0;34m,\u001b[0m \u001b[0;34m**\u001b[0m\u001b[0moverrides\u001b[0m\u001b[0;34m)\u001b[0m\u001b[0;34m\u001b[0m\u001b[0;34m\u001b[0m\u001b[0m\n",
            "\u001b[0;32m/usr/local/lib/python3.7/dist-packages/spacy/util.py\u001b[0m in \u001b[0;36mload_model_from_package\u001b[0;34m(name, **overrides)\u001b[0m\n\u001b[1;32m    189\u001b[0m     \u001b[0;34m\"\"\"Load a model from an installed package.\"\"\"\u001b[0m\u001b[0;34m\u001b[0m\u001b[0;34m\u001b[0m\u001b[0m\n\u001b[1;32m    190\u001b[0m     \u001b[0mcls\u001b[0m \u001b[0;34m=\u001b[0m \u001b[0mimportlib\u001b[0m\u001b[0;34m.\u001b[0m\u001b[0mimport_module\u001b[0m\u001b[0;34m(\u001b[0m\u001b[0mname\u001b[0m\u001b[0;34m)\u001b[0m\u001b[0;34m\u001b[0m\u001b[0;34m\u001b[0m\u001b[0m\n\u001b[0;32m--> 191\u001b[0;31m     \u001b[0;32mreturn\u001b[0m \u001b[0mcls\u001b[0m\u001b[0;34m.\u001b[0m\u001b[0mload\u001b[0m\u001b[0;34m(\u001b[0m\u001b[0;34m**\u001b[0m\u001b[0moverrides\u001b[0m\u001b[0;34m)\u001b[0m\u001b[0;34m\u001b[0m\u001b[0;34m\u001b[0m\u001b[0m\n\u001b[0m\u001b[1;32m    192\u001b[0m \u001b[0;34m\u001b[0m\u001b[0m\n\u001b[1;32m    193\u001b[0m \u001b[0;34m\u001b[0m\u001b[0m\n",
            "\u001b[0;32m/usr/local/lib/python3.7/dist-packages/en_core_web_sm/__init__.py\u001b[0m in \u001b[0;36mload\u001b[0;34m(**overrides)\u001b[0m\n\u001b[1;32m      8\u001b[0m \u001b[0;34m\u001b[0m\u001b[0m\n\u001b[1;32m      9\u001b[0m \u001b[0;32mdef\u001b[0m \u001b[0mload\u001b[0m\u001b[0;34m(\u001b[0m\u001b[0;34m**\u001b[0m\u001b[0moverrides\u001b[0m\u001b[0;34m)\u001b[0m\u001b[0;34m:\u001b[0m\u001b[0;34m\u001b[0m\u001b[0;34m\u001b[0m\u001b[0m\n\u001b[0;32m---> 10\u001b[0;31m     \u001b[0;32mreturn\u001b[0m \u001b[0mload_model_from_init_py\u001b[0m\u001b[0;34m(\u001b[0m\u001b[0m__file__\u001b[0m\u001b[0;34m,\u001b[0m \u001b[0;34m**\u001b[0m\u001b[0moverrides\u001b[0m\u001b[0;34m)\u001b[0m\u001b[0;34m\u001b[0m\u001b[0;34m\u001b[0m\u001b[0m\n\u001b[0m",
            "\u001b[0;32m/usr/local/lib/python3.7/dist-packages/spacy/util.py\u001b[0m in \u001b[0;36mload_model_from_init_py\u001b[0;34m(init_file, **overrides)\u001b[0m\n\u001b[1;32m    237\u001b[0m     \u001b[0;32mif\u001b[0m \u001b[0;32mnot\u001b[0m \u001b[0mmodel_path\u001b[0m\u001b[0;34m.\u001b[0m\u001b[0mexists\u001b[0m\u001b[0;34m(\u001b[0m\u001b[0;34m)\u001b[0m\u001b[0;34m:\u001b[0m\u001b[0;34m\u001b[0m\u001b[0;34m\u001b[0m\u001b[0m\n\u001b[1;32m    238\u001b[0m         \u001b[0;32mraise\u001b[0m \u001b[0mIOError\u001b[0m\u001b[0;34m(\u001b[0m\u001b[0mErrors\u001b[0m\u001b[0;34m.\u001b[0m\u001b[0mE052\u001b[0m\u001b[0;34m.\u001b[0m\u001b[0mformat\u001b[0m\u001b[0;34m(\u001b[0m\u001b[0mpath\u001b[0m\u001b[0;34m=\u001b[0m\u001b[0mpath2str\u001b[0m\u001b[0;34m(\u001b[0m\u001b[0mdata_path\u001b[0m\u001b[0;34m)\u001b[0m\u001b[0;34m)\u001b[0m\u001b[0;34m)\u001b[0m\u001b[0;34m\u001b[0m\u001b[0;34m\u001b[0m\u001b[0m\n\u001b[0;32m--> 239\u001b[0;31m     \u001b[0;32mreturn\u001b[0m \u001b[0mload_model_from_path\u001b[0m\u001b[0;34m(\u001b[0m\u001b[0mdata_path\u001b[0m\u001b[0;34m,\u001b[0m \u001b[0mmeta\u001b[0m\u001b[0;34m,\u001b[0m \u001b[0;34m**\u001b[0m\u001b[0moverrides\u001b[0m\u001b[0;34m)\u001b[0m\u001b[0;34m\u001b[0m\u001b[0;34m\u001b[0m\u001b[0m\n\u001b[0m\u001b[1;32m    240\u001b[0m \u001b[0;34m\u001b[0m\u001b[0m\n\u001b[1;32m    241\u001b[0m \u001b[0;34m\u001b[0m\u001b[0m\n",
            "\u001b[0;32m/usr/local/lib/python3.7/dist-packages/spacy/util.py\u001b[0m in \u001b[0;36mload_model_from_path\u001b[0;34m(model_path, meta, **overrides)\u001b[0m\n\u001b[1;32m    218\u001b[0m             \u001b[0mconfig\u001b[0m\u001b[0;34m.\u001b[0m\u001b[0mupdate\u001b[0m\u001b[0;34m(\u001b[0m\u001b[0moverrides\u001b[0m\u001b[0;34m)\u001b[0m\u001b[0;34m\u001b[0m\u001b[0;34m\u001b[0m\u001b[0m\n\u001b[1;32m    219\u001b[0m             \u001b[0mfactory\u001b[0m \u001b[0;34m=\u001b[0m \u001b[0mfactories\u001b[0m\u001b[0;34m.\u001b[0m\u001b[0mget\u001b[0m\u001b[0;34m(\u001b[0m\u001b[0mname\u001b[0m\u001b[0;34m,\u001b[0m \u001b[0mname\u001b[0m\u001b[0;34m)\u001b[0m\u001b[0;34m\u001b[0m\u001b[0;34m\u001b[0m\u001b[0m\n\u001b[0;32m--> 220\u001b[0;31m             \u001b[0mcomponent\u001b[0m \u001b[0;34m=\u001b[0m \u001b[0mnlp\u001b[0m\u001b[0;34m.\u001b[0m\u001b[0mcreate_pipe\u001b[0m\u001b[0;34m(\u001b[0m\u001b[0mfactory\u001b[0m\u001b[0;34m,\u001b[0m \u001b[0mconfig\u001b[0m\u001b[0;34m=\u001b[0m\u001b[0mconfig\u001b[0m\u001b[0;34m)\u001b[0m\u001b[0;34m\u001b[0m\u001b[0;34m\u001b[0m\u001b[0m\n\u001b[0m\u001b[1;32m    221\u001b[0m             \u001b[0mnlp\u001b[0m\u001b[0;34m.\u001b[0m\u001b[0madd_pipe\u001b[0m\u001b[0;34m(\u001b[0m\u001b[0mcomponent\u001b[0m\u001b[0;34m,\u001b[0m \u001b[0mname\u001b[0m\u001b[0;34m=\u001b[0m\u001b[0mname\u001b[0m\u001b[0;34m)\u001b[0m\u001b[0;34m\u001b[0m\u001b[0;34m\u001b[0m\u001b[0m\n\u001b[1;32m    222\u001b[0m     \u001b[0;32mreturn\u001b[0m \u001b[0mnlp\u001b[0m\u001b[0;34m.\u001b[0m\u001b[0mfrom_disk\u001b[0m\u001b[0;34m(\u001b[0m\u001b[0mmodel_path\u001b[0m\u001b[0;34m,\u001b[0m \u001b[0mexclude\u001b[0m\u001b[0;34m=\u001b[0m\u001b[0mdisable\u001b[0m\u001b[0;34m)\u001b[0m\u001b[0;34m\u001b[0m\u001b[0;34m\u001b[0m\u001b[0m\n",
            "\u001b[0;32m/usr/local/lib/python3.7/dist-packages/spacy/language.py\u001b[0m in \u001b[0;36mcreate_pipe\u001b[0;34m(self, name, config)\u001b[0m\n\u001b[1;32m    308\u001b[0m                 \u001b[0;32mraise\u001b[0m \u001b[0mKeyError\u001b[0m\u001b[0;34m(\u001b[0m\u001b[0mErrors\u001b[0m\u001b[0;34m.\u001b[0m\u001b[0mE108\u001b[0m\u001b[0;34m.\u001b[0m\u001b[0mformat\u001b[0m\u001b[0;34m(\u001b[0m\u001b[0mname\u001b[0m\u001b[0;34m=\u001b[0m\u001b[0mname\u001b[0m\u001b[0;34m)\u001b[0m\u001b[0;34m)\u001b[0m\u001b[0;34m\u001b[0m\u001b[0;34m\u001b[0m\u001b[0m\n\u001b[1;32m    309\u001b[0m             \u001b[0;32melse\u001b[0m\u001b[0;34m:\u001b[0m\u001b[0;34m\u001b[0m\u001b[0;34m\u001b[0m\u001b[0m\n\u001b[0;32m--> 310\u001b[0;31m                 \u001b[0;32mraise\u001b[0m \u001b[0mKeyError\u001b[0m\u001b[0;34m(\u001b[0m\u001b[0mErrors\u001b[0m\u001b[0;34m.\u001b[0m\u001b[0mE002\u001b[0m\u001b[0;34m.\u001b[0m\u001b[0mformat\u001b[0m\u001b[0;34m(\u001b[0m\u001b[0mname\u001b[0m\u001b[0;34m=\u001b[0m\u001b[0mname\u001b[0m\u001b[0;34m)\u001b[0m\u001b[0;34m)\u001b[0m\u001b[0;34m\u001b[0m\u001b[0;34m\u001b[0m\u001b[0m\n\u001b[0m\u001b[1;32m    311\u001b[0m         \u001b[0mfactory\u001b[0m \u001b[0;34m=\u001b[0m \u001b[0mself\u001b[0m\u001b[0;34m.\u001b[0m\u001b[0mfactories\u001b[0m\u001b[0;34m[\u001b[0m\u001b[0mname\u001b[0m\u001b[0;34m]\u001b[0m\u001b[0;34m\u001b[0m\u001b[0;34m\u001b[0m\u001b[0m\n\u001b[1;32m    312\u001b[0m         \u001b[0;32mreturn\u001b[0m \u001b[0mfactory\u001b[0m\u001b[0;34m(\u001b[0m\u001b[0mself\u001b[0m\u001b[0;34m,\u001b[0m \u001b[0;34m**\u001b[0m\u001b[0mconfig\u001b[0m\u001b[0;34m)\u001b[0m\u001b[0;34m\u001b[0m\u001b[0;34m\u001b[0m\u001b[0m\n",
            "\u001b[0;31mKeyError\u001b[0m: \"[E002] Can't find factory for 'tok2vec'. This usually happens when spaCy calls `nlp.create_pipe` with a component name that's not built in - for example, when constructing the pipeline from a model's meta.json. If you're using a custom component, you can write to `Language.factories['tok2vec']` or remove it from the model meta and add it via `nlp.add_pipe` instead.\""
          ]
        }
      ]
    },
    {
      "cell_type": "code",
      "source": [
        "pip install -U spacy"
      ],
      "metadata": {
        "colab": {
          "base_uri": "https://localhost:8080/"
        },
        "id": "qf42Aong4LrG",
        "outputId": "d84df92c-eced-42b7-c0ae-eb5bcf7f2ac6"
      },
      "execution_count": 16,
      "outputs": [
        {
          "output_type": "stream",
          "name": "stdout",
          "text": [
            "Looking in indexes: https://pypi.org/simple, https://us-python.pkg.dev/colab-wheels/public/simple/\n",
            "Requirement already satisfied: spacy in /usr/local/lib/python3.7/dist-packages (2.3.8)\n",
            "Collecting spacy\n",
            "  Using cached spacy-3.4.3-cp37-cp37m-manylinux_2_17_x86_64.manylinux2014_x86_64.whl (6.4 MB)\n",
            "Requirement already satisfied: tqdm<5.0.0,>=4.38.0 in /usr/local/lib/python3.7/dist-packages (from spacy) (4.64.1)\n",
            "Requirement already satisfied: typing-extensions<4.2.0,>=3.7.4 in /usr/local/lib/python3.7/dist-packages (from spacy) (4.1.1)\n",
            "Requirement already satisfied: preshed<3.1.0,>=3.0.2 in /usr/local/lib/python3.7/dist-packages (from spacy) (3.0.8)\n",
            "Collecting thinc<8.2.0,>=8.1.0\n",
            "  Using cached thinc-8.1.5-cp37-cp37m-manylinux_2_17_x86_64.manylinux2014_x86_64.whl (806 kB)\n",
            "Requirement already satisfied: typer<0.8.0,>=0.3.0 in /usr/local/lib/python3.7/dist-packages (from spacy) (0.4.2)\n",
            "Requirement already satisfied: requests<3.0.0,>=2.13.0 in /usr/local/lib/python3.7/dist-packages (from spacy) (2.23.0)\n",
            "Collecting srsly<3.0.0,>=2.4.3\n",
            "  Using cached srsly-2.4.5-cp37-cp37m-manylinux_2_17_x86_64.manylinux2014_x86_64.whl (490 kB)\n",
            "Requirement already satisfied: spacy-loggers<2.0.0,>=1.0.0 in /usr/local/lib/python3.7/dist-packages (from spacy) (1.0.3)\n",
            "Requirement already satisfied: setuptools in /usr/local/lib/python3.7/dist-packages (from spacy) (65.5.1)\n",
            "Requirement already satisfied: wasabi<1.1.0,>=0.9.1 in /usr/local/lib/python3.7/dist-packages (from spacy) (0.10.1)\n",
            "Requirement already satisfied: langcodes<4.0.0,>=3.2.0 in /usr/local/lib/python3.7/dist-packages (from spacy) (3.3.0)\n",
            "Requirement already satisfied: spacy-legacy<3.1.0,>=3.0.10 in /usr/local/lib/python3.7/dist-packages (from spacy) (3.0.10)\n",
            "Requirement already satisfied: pathy>=0.3.5 in /usr/local/lib/python3.7/dist-packages (from spacy) (0.6.2)\n",
            "Requirement already satisfied: numpy>=1.15.0 in /usr/local/lib/python3.7/dist-packages (from spacy) (1.21.6)\n",
            "Collecting catalogue<2.1.0,>=2.0.6\n",
            "  Using cached catalogue-2.0.8-py3-none-any.whl (17 kB)\n",
            "Requirement already satisfied: pydantic!=1.8,!=1.8.1,<1.11.0,>=1.7.4 in /usr/local/lib/python3.7/dist-packages (from spacy) (1.10.2)\n",
            "Requirement already satisfied: murmurhash<1.1.0,>=0.28.0 in /usr/local/lib/python3.7/dist-packages (from spacy) (1.0.9)\n",
            "Requirement already satisfied: cymem<2.1.0,>=2.0.2 in /usr/local/lib/python3.7/dist-packages (from spacy) (2.0.7)\n",
            "Requirement already satisfied: packaging>=20.0 in /usr/local/lib/python3.7/dist-packages (from spacy) (21.3)\n",
            "Requirement already satisfied: jinja2 in /usr/local/lib/python3.7/dist-packages (from spacy) (2.11.3)\n",
            "Requirement already satisfied: zipp>=0.5 in /usr/local/lib/python3.7/dist-packages (from catalogue<2.1.0,>=2.0.6->spacy) (3.10.0)\n",
            "Requirement already satisfied: pyparsing!=3.0.5,>=2.0.2 in /usr/local/lib/python3.7/dist-packages (from packaging>=20.0->spacy) (3.0.9)\n",
            "Requirement already satisfied: smart-open<6.0.0,>=5.2.1 in /usr/local/lib/python3.7/dist-packages (from pathy>=0.3.5->spacy) (5.2.1)\n",
            "Requirement already satisfied: urllib3!=1.25.0,!=1.25.1,<1.26,>=1.21.1 in /usr/local/lib/python3.7/dist-packages (from requests<3.0.0,>=2.13.0->spacy) (1.24.3)\n",
            "Requirement already satisfied: certifi>=2017.4.17 in /usr/local/lib/python3.7/dist-packages (from requests<3.0.0,>=2.13.0->spacy) (2022.9.24)\n",
            "Requirement already satisfied: chardet<4,>=3.0.2 in /usr/local/lib/python3.7/dist-packages (from requests<3.0.0,>=2.13.0->spacy) (3.0.4)\n",
            "Requirement already satisfied: idna<3,>=2.5 in /usr/local/lib/python3.7/dist-packages (from requests<3.0.0,>=2.13.0->spacy) (2.10)\n",
            "Requirement already satisfied: blis<0.8.0,>=0.7.8 in /usr/local/lib/python3.7/dist-packages (from thinc<8.2.0,>=8.1.0->spacy) (0.7.9)\n",
            "Requirement already satisfied: confection<1.0.0,>=0.0.1 in /usr/local/lib/python3.7/dist-packages (from thinc<8.2.0,>=8.1.0->spacy) (0.0.3)\n",
            "Requirement already satisfied: click<9.0.0,>=7.1.1 in /usr/local/lib/python3.7/dist-packages (from typer<0.8.0,>=0.3.0->spacy) (7.1.2)\n",
            "Requirement already satisfied: MarkupSafe>=0.23 in /usr/local/lib/python3.7/dist-packages (from jinja2->spacy) (2.0.1)\n",
            "Installing collected packages: catalogue, srsly, thinc, spacy\n",
            "  Attempting uninstall: catalogue\n",
            "    Found existing installation: catalogue 1.0.2\n",
            "    Uninstalling catalogue-1.0.2:\n",
            "      Successfully uninstalled catalogue-1.0.2\n",
            "  Attempting uninstall: srsly\n",
            "    Found existing installation: srsly 1.0.6\n",
            "    Uninstalling srsly-1.0.6:\n",
            "      Successfully uninstalled srsly-1.0.6\n",
            "  Attempting uninstall: thinc\n",
            "    Found existing installation: thinc 7.4.6\n",
            "    Uninstalling thinc-7.4.6:\n",
            "      Successfully uninstalled thinc-7.4.6\n",
            "  Attempting uninstall: spacy\n",
            "    Found existing installation: spacy 2.3.8\n",
            "    Uninstalling spacy-2.3.8:\n",
            "      Successfully uninstalled spacy-2.3.8\n",
            "\u001b[31mERROR: pip's dependency resolver does not currently take into account all the packages that are installed. This behaviour is the source of the following dependency conflicts.\n",
            "texthero 1.1.0 requires spacy<3.0.0, but you have spacy 3.4.3 which is incompatible.\u001b[0m\u001b[31m\n",
            "\u001b[0mSuccessfully installed catalogue-2.0.8 spacy-3.4.3 srsly-2.4.5 thinc-8.1.5\n",
            "\u001b[33mWARNING: Running pip as the 'root' user can result in broken permissions and conflicting behaviour with the system package manager. It is recommended to use a virtual environment instead: https://pip.pypa.io/warnings/venv\u001b[0m\u001b[33m\n",
            "\u001b[0m"
          ]
        }
      ]
    },
    {
      "cell_type": "code",
      "source": [
        "import numpy as np\n",
        "import pandas as pd\n",
        "import texthero as hero"
      ],
      "metadata": {
        "colab": {
          "base_uri": "https://localhost:8080/"
        },
        "id": "K6RxlFsz4qof",
        "outputId": "dc268fba-47ac-4d29-c5ba-671ef228b3da"
      },
      "execution_count": 17,
      "outputs": [
        {
          "output_type": "stream",
          "name": "stdout",
          "text": [
            "\u001b[38;5;3m⚠ Skipping model package dependencies and setting `--no-deps`. You\n",
            "don't seem to have the spaCy package itself installed (maybe because you've\n",
            "built from source?), so installing the model dependencies would cause spaCy to\n",
            "be downloaded, which probably isn't what you want. If the model package has\n",
            "other dependencies, you'll have to install them manually.\u001b[0m\n",
            "\u001b[38;5;2m✔ Download and installation successful\u001b[0m\n",
            "You can now load the model via spacy.load('en_core_web_sm')\n"
          ]
        }
      ]
    },
    {
      "cell_type": "code",
      "source": [
        "pcf_gen = pd.read_csv(\"pcf-general.csv\")"
      ],
      "metadata": {
        "id": "S3ixB2Ad4w6Z"
      },
      "execution_count": 18,
      "outputs": []
    },
    {
      "cell_type": "code",
      "source": [
        "spl_gen_1 = pd.read_csv(\"spl-gen-1.csv\")\n",
        "spl_gen_2 = pd.read_csv(\"spl-gen-2.csv\")"
      ],
      "metadata": {
        "id": "kvklob8U4_Ap"
      },
      "execution_count": 19,
      "outputs": []
    },
    {
      "cell_type": "code",
      "source": [
        "spl_gen = pd.concat([spl_gen_1, spl_gen_2], axis=0, ignore_index=True)"
      ],
      "metadata": {
        "id": "6MFVJIkh5Aik"
      },
      "execution_count": 20,
      "outputs": []
    },
    {
      "cell_type": "code",
      "source": [
        "df1 = pd.DataFrame(pcf_gen)"
      ],
      "metadata": {
        "id": "ocx-agOR5B0p"
      },
      "execution_count": 21,
      "outputs": []
    },
    {
      "cell_type": "code",
      "source": [
        "df1 = df1.drop(['Attachments', 'Reactions'], axis=1)"
      ],
      "metadata": {
        "id": "epd1-xc-5DGr"
      },
      "execution_count": 22,
      "outputs": []
    },
    {
      "cell_type": "code",
      "source": [
        "new_df1 = df1.groupby(\"AuthorID\").agg(lambda x:x.tolist())"
      ],
      "metadata": {
        "id": "69RxKXqH5EeI"
      },
      "execution_count": 23,
      "outputs": []
    },
    {
      "cell_type": "code",
      "source": [
        "df2 = pd.DataFrame(spl_gen)"
      ],
      "metadata": {
        "id": "DRNqW5GF5FyT"
      },
      "execution_count": 24,
      "outputs": []
    },
    {
      "cell_type": "code",
      "source": [
        "df2 = df2.drop(['Attachments', 'Reactions'], axis=1)"
      ],
      "metadata": {
        "id": "zd6cLFon5HGt"
      },
      "execution_count": 25,
      "outputs": []
    },
    {
      "cell_type": "code",
      "source": [
        "new_df2 = df2.groupby(\"AuthorID\").agg(lambda x:x.tolist())"
      ],
      "metadata": {
        "id": "iInD3cC55IqK"
      },
      "execution_count": 26,
      "outputs": []
    },
    {
      "cell_type": "code",
      "source": [
        "common = new_df1.merge(new_df2, on=[\"AuthorID\"])"
      ],
      "metadata": {
        "id": "CKFIjy-L5KCK"
      },
      "execution_count": 27,
      "outputs": []
    },
    {
      "cell_type": "code",
      "source": [
        "pcf_gen_common = common.drop([\"Author_y\",\"Content_y\",\"Date_y\"], axis = 1)"
      ],
      "metadata": {
        "id": "kUw3QutA5LnB"
      },
      "execution_count": 28,
      "outputs": []
    },
    {
      "cell_type": "code",
      "source": [
        "spf_gen_common = common.drop([\"Author_x\",\"Content_x\",\"Date_x\"], axis = 1)"
      ],
      "metadata": {
        "id": "V8LB1bFp5NVn"
      },
      "execution_count": 29,
      "outputs": []
    },
    {
      "cell_type": "code",
      "source": [
        "pcf_gen_common[\"Author\"] = [l[0] for l in pcf_gen_common[\"Author_x\"]]"
      ],
      "metadata": {
        "id": "Wy0ZVCbV5O0q"
      },
      "execution_count": 30,
      "outputs": []
    },
    {
      "cell_type": "code",
      "source": [
        "pcf_gen_common.drop(['Author_x'], axis = 1)"
      ],
      "metadata": {
        "colab": {
          "base_uri": "https://localhost:8080/",
          "height": 455
        },
        "id": "wFa-wVxh5QVY",
        "outputId": "8214519e-1404-474c-8a6c-da68f1cdcf7d"
      },
      "execution_count": 31,
      "outputs": [
        {
          "output_type": "execute_result",
          "data": {
            "text/plain": [
              "                                                               Date_x  \\\n",
              "AuthorID                                                                \n",
              "85614143951892480   [04-Jul-18 09:37 AM, 04-Jul-18 09:37 AM, 04-Ju...   \n",
              "106634422022860800  [03-Apr-19 09:50 PM, 03-Apr-19 09:50 PM, 03-Ap...   \n",
              "155149108183695360  [14-Dec-18 03:34 PM, 14-Dec-18 03:35 PM, 07-Ja...   \n",
              "172002275412279296  [23-Feb-21 09:15 PM, 25-Feb-21 11:23 PM, 08-Ma...   \n",
              "173889000015134720  [30-Jul-20 01:07 AM, 30-Jul-20 01:08 AM, 30-Ju...   \n",
              "...                                                               ...   \n",
              "786672447935348737  [05-May-21 11:35 AM, 05-May-21 12:21 PM, 05-Ma...   \n",
              "806489789574545458                               [18-Apr-21 09:38 PM]   \n",
              "831172293945720852  [28-Apr-21 10:22 AM, 28-Apr-21 10:23 AM, 28-Ap...   \n",
              "873569055733329951                               [12-Aug-21 03:55 PM]   \n",
              "899901520701714493  [21-Oct-21 01:46 PM, 21-Oct-21 01:48 PM, 21-Oc...   \n",
              "\n",
              "                                                            Content_x  \\\n",
              "AuthorID                                                                \n",
              "85614143951892480   [woah there buttmunch tryin' to cheat the syst...   \n",
              "106634422022860800  [:javoShock: I got to think about it, Thanks!,...   \n",
              "155149108183695360  [nan, nan, Wife: Honey I’m pregnant.\\r\\n\\r\\nMe...   \n",
              "172002275412279296  [nan, nan, nan, > **Viewing server rankings • ...   \n",
              "173889000015134720  [uhh dskdjdl probably high school story and mi...   \n",
              "...                                                               ...   \n",
              "786672447935348737  [hello! glad to be here., pig practicals in bi...   \n",
              "806489789574545458                                     [sure, thanks]   \n",
              "831172293945720852  [Hiiiiiii, And we may or may not regret it lol...   \n",
              "873569055733329951  [Where’s the invite to the datamining server a...   \n",
              "899901520701714493  [that chapter was so boring, not really becaus...   \n",
              "\n",
              "                                   Author  \n",
              "AuthorID                                   \n",
              "85614143951892480           UB3R-B0T#3802  \n",
              "106634422022860800    MaralinaSakura#1304  \n",
              "155149108183695360              Dyno#3861  \n",
              "172002275412279296             Tatsu#8792  \n",
              "173889000015134720             faede#0003  \n",
              "...                                   ...  \n",
              "786672447935348737  cressidastclaire#3536  \n",
              "806489789574545458      Hell-Volhard#4976  \n",
              "831172293945720852         Yume Not.#8543  \n",
              "873569055733329951    James Hametson#9998  \n",
              "899901520701714493     Kaleen Bhaiya#5212  \n",
              "\n",
              "[67 rows x 3 columns]"
            ],
            "text/html": [
              "\n",
              "  <div id=\"df-d009e53d-b9c4-417b-8ff3-9e4ebf239fea\">\n",
              "    <div class=\"colab-df-container\">\n",
              "      <div>\n",
              "<style scoped>\n",
              "    .dataframe tbody tr th:only-of-type {\n",
              "        vertical-align: middle;\n",
              "    }\n",
              "\n",
              "    .dataframe tbody tr th {\n",
              "        vertical-align: top;\n",
              "    }\n",
              "\n",
              "    .dataframe thead th {\n",
              "        text-align: right;\n",
              "    }\n",
              "</style>\n",
              "<table border=\"1\" class=\"dataframe\">\n",
              "  <thead>\n",
              "    <tr style=\"text-align: right;\">\n",
              "      <th></th>\n",
              "      <th>Date_x</th>\n",
              "      <th>Content_x</th>\n",
              "      <th>Author</th>\n",
              "    </tr>\n",
              "    <tr>\n",
              "      <th>AuthorID</th>\n",
              "      <th></th>\n",
              "      <th></th>\n",
              "      <th></th>\n",
              "    </tr>\n",
              "  </thead>\n",
              "  <tbody>\n",
              "    <tr>\n",
              "      <th>85614143951892480</th>\n",
              "      <td>[04-Jul-18 09:37 AM, 04-Jul-18 09:37 AM, 04-Ju...</td>\n",
              "      <td>[woah there buttmunch tryin' to cheat the syst...</td>\n",
              "      <td>UB3R-B0T#3802</td>\n",
              "    </tr>\n",
              "    <tr>\n",
              "      <th>106634422022860800</th>\n",
              "      <td>[03-Apr-19 09:50 PM, 03-Apr-19 09:50 PM, 03-Ap...</td>\n",
              "      <td>[:javoShock: I got to think about it, Thanks!,...</td>\n",
              "      <td>MaralinaSakura#1304</td>\n",
              "    </tr>\n",
              "    <tr>\n",
              "      <th>155149108183695360</th>\n",
              "      <td>[14-Dec-18 03:34 PM, 14-Dec-18 03:35 PM, 07-Ja...</td>\n",
              "      <td>[nan, nan, Wife: Honey I’m pregnant.\\r\\n\\r\\nMe...</td>\n",
              "      <td>Dyno#3861</td>\n",
              "    </tr>\n",
              "    <tr>\n",
              "      <th>172002275412279296</th>\n",
              "      <td>[23-Feb-21 09:15 PM, 25-Feb-21 11:23 PM, 08-Ma...</td>\n",
              "      <td>[nan, nan, nan, &gt; **Viewing server rankings • ...</td>\n",
              "      <td>Tatsu#8792</td>\n",
              "    </tr>\n",
              "    <tr>\n",
              "      <th>173889000015134720</th>\n",
              "      <td>[30-Jul-20 01:07 AM, 30-Jul-20 01:08 AM, 30-Ju...</td>\n",
              "      <td>[uhh dskdjdl probably high school story and mi...</td>\n",
              "      <td>faede#0003</td>\n",
              "    </tr>\n",
              "    <tr>\n",
              "      <th>...</th>\n",
              "      <td>...</td>\n",
              "      <td>...</td>\n",
              "      <td>...</td>\n",
              "    </tr>\n",
              "    <tr>\n",
              "      <th>786672447935348737</th>\n",
              "      <td>[05-May-21 11:35 AM, 05-May-21 12:21 PM, 05-Ma...</td>\n",
              "      <td>[hello! glad to be here., pig practicals in bi...</td>\n",
              "      <td>cressidastclaire#3536</td>\n",
              "    </tr>\n",
              "    <tr>\n",
              "      <th>806489789574545458</th>\n",
              "      <td>[18-Apr-21 09:38 PM]</td>\n",
              "      <td>[sure, thanks]</td>\n",
              "      <td>Hell-Volhard#4976</td>\n",
              "    </tr>\n",
              "    <tr>\n",
              "      <th>831172293945720852</th>\n",
              "      <td>[28-Apr-21 10:22 AM, 28-Apr-21 10:23 AM, 28-Ap...</td>\n",
              "      <td>[Hiiiiiii, And we may or may not regret it lol...</td>\n",
              "      <td>Yume Not.#8543</td>\n",
              "    </tr>\n",
              "    <tr>\n",
              "      <th>873569055733329951</th>\n",
              "      <td>[12-Aug-21 03:55 PM]</td>\n",
              "      <td>[Where’s the invite to the datamining server a...</td>\n",
              "      <td>James Hametson#9998</td>\n",
              "    </tr>\n",
              "    <tr>\n",
              "      <th>899901520701714493</th>\n",
              "      <td>[21-Oct-21 01:46 PM, 21-Oct-21 01:48 PM, 21-Oc...</td>\n",
              "      <td>[that chapter was so boring, not really becaus...</td>\n",
              "      <td>Kaleen Bhaiya#5212</td>\n",
              "    </tr>\n",
              "  </tbody>\n",
              "</table>\n",
              "<p>67 rows × 3 columns</p>\n",
              "</div>\n",
              "      <button class=\"colab-df-convert\" onclick=\"convertToInteractive('df-d009e53d-b9c4-417b-8ff3-9e4ebf239fea')\"\n",
              "              title=\"Convert this dataframe to an interactive table.\"\n",
              "              style=\"display:none;\">\n",
              "        \n",
              "  <svg xmlns=\"http://www.w3.org/2000/svg\" height=\"24px\"viewBox=\"0 0 24 24\"\n",
              "       width=\"24px\">\n",
              "    <path d=\"M0 0h24v24H0V0z\" fill=\"none\"/>\n",
              "    <path d=\"M18.56 5.44l.94 2.06.94-2.06 2.06-.94-2.06-.94-.94-2.06-.94 2.06-2.06.94zm-11 1L8.5 8.5l.94-2.06 2.06-.94-2.06-.94L8.5 2.5l-.94 2.06-2.06.94zm10 10l.94 2.06.94-2.06 2.06-.94-2.06-.94-.94-2.06-.94 2.06-2.06.94z\"/><path d=\"M17.41 7.96l-1.37-1.37c-.4-.4-.92-.59-1.43-.59-.52 0-1.04.2-1.43.59L10.3 9.45l-7.72 7.72c-.78.78-.78 2.05 0 2.83L4 21.41c.39.39.9.59 1.41.59.51 0 1.02-.2 1.41-.59l7.78-7.78 2.81-2.81c.8-.78.8-2.07 0-2.86zM5.41 20L4 18.59l7.72-7.72 1.47 1.35L5.41 20z\"/>\n",
              "  </svg>\n",
              "      </button>\n",
              "      \n",
              "  <style>\n",
              "    .colab-df-container {\n",
              "      display:flex;\n",
              "      flex-wrap:wrap;\n",
              "      gap: 12px;\n",
              "    }\n",
              "\n",
              "    .colab-df-convert {\n",
              "      background-color: #E8F0FE;\n",
              "      border: none;\n",
              "      border-radius: 50%;\n",
              "      cursor: pointer;\n",
              "      display: none;\n",
              "      fill: #1967D2;\n",
              "      height: 32px;\n",
              "      padding: 0 0 0 0;\n",
              "      width: 32px;\n",
              "    }\n",
              "\n",
              "    .colab-df-convert:hover {\n",
              "      background-color: #E2EBFA;\n",
              "      box-shadow: 0px 1px 2px rgba(60, 64, 67, 0.3), 0px 1px 3px 1px rgba(60, 64, 67, 0.15);\n",
              "      fill: #174EA6;\n",
              "    }\n",
              "\n",
              "    [theme=dark] .colab-df-convert {\n",
              "      background-color: #3B4455;\n",
              "      fill: #D2E3FC;\n",
              "    }\n",
              "\n",
              "    [theme=dark] .colab-df-convert:hover {\n",
              "      background-color: #434B5C;\n",
              "      box-shadow: 0px 1px 3px 1px rgba(0, 0, 0, 0.15);\n",
              "      filter: drop-shadow(0px 1px 2px rgba(0, 0, 0, 0.3));\n",
              "      fill: #FFFFFF;\n",
              "    }\n",
              "  </style>\n",
              "\n",
              "      <script>\n",
              "        const buttonEl =\n",
              "          document.querySelector('#df-d009e53d-b9c4-417b-8ff3-9e4ebf239fea button.colab-df-convert');\n",
              "        buttonEl.style.display =\n",
              "          google.colab.kernel.accessAllowed ? 'block' : 'none';\n",
              "\n",
              "        async function convertToInteractive(key) {\n",
              "          const element = document.querySelector('#df-d009e53d-b9c4-417b-8ff3-9e4ebf239fea');\n",
              "          const dataTable =\n",
              "            await google.colab.kernel.invokeFunction('convertToInteractive',\n",
              "                                                     [key], {});\n",
              "          if (!dataTable) return;\n",
              "\n",
              "          const docLinkHtml = 'Like what you see? Visit the ' +\n",
              "            '<a target=\"_blank\" href=https://colab.research.google.com/notebooks/data_table.ipynb>data table notebook</a>'\n",
              "            + ' to learn more about interactive tables.';\n",
              "          element.innerHTML = '';\n",
              "          dataTable['output_type'] = 'display_data';\n",
              "          await google.colab.output.renderOutput(dataTable, element);\n",
              "          const docLink = document.createElement('div');\n",
              "          docLink.innerHTML = docLinkHtml;\n",
              "          element.appendChild(docLink);\n",
              "        }\n",
              "      </script>\n",
              "    </div>\n",
              "  </div>\n",
              "  "
            ]
          },
          "metadata": {},
          "execution_count": 31
        }
      ]
    },
    {
      "cell_type": "code",
      "source": [
        "spf_gen_common[\"Author\"] = [l[0] for l in spf_gen_common[\"Author_y\"]]"
      ],
      "metadata": {
        "id": "AmfZFNx85TQn"
      },
      "execution_count": 32,
      "outputs": []
    },
    {
      "cell_type": "code",
      "source": [
        "spf_gen_common.drop([\"Author_y\"], axis = 1)"
      ],
      "metadata": {
        "colab": {
          "base_uri": "https://localhost:8080/",
          "height": 455
        },
        "id": "Kld4d5ei5VFv",
        "outputId": "936ce35b-404c-4cbc-8e5c-f395624fe6e2"
      },
      "execution_count": 33,
      "outputs": [
        {
          "output_type": "execute_result",
          "data": {
            "text/plain": [
              "                                                               Date_y  \\\n",
              "AuthorID                                                                \n",
              "85614143951892480   [07-Sep-20 11:02 PM, 07-Sep-20 11:06 PM, 07-Se...   \n",
              "106634422022860800  [05-Sep-20 12:44 AM, 05-Sep-20 12:44 AM, 05-Se...   \n",
              "155149108183695360  [03-Oct-20 04:07 AM, 04-Oct-20 09:30 PM, 04-Oc...   \n",
              "172002275412279296  [05-Sep-20 12:56 AM, 05-Sep-20 02:03 AM, 05-Se...   \n",
              "173889000015134720  [07-Sep-20 10:37 AM, 07-Sep-20 10:39 AM, 07-Se...   \n",
              "...                                                               ...   \n",
              "786672447935348737  [06-May-21 11:48 PM, 06-May-21 11:57 PM, 06-Ma...   \n",
              "806489789574545458                               [07-Aug-21 07:32 PM]   \n",
              "831172293945720852  [21-Aug-21 04:01 PM, 25-Aug-21 11:29 AM, 25-Au...   \n",
              "873569055733329951  [14-Aug-21 07:55 PM, 14-Aug-21 07:55 PM, 22-Au...   \n",
              "899901520701714493  [21-Oct-21 01:52 PM, 21-Oct-21 01:53 PM, 23-Oc...   \n",
              "\n",
              "                                                            Content_y  \\\n",
              "AuthorID                                                                \n",
              "85614143951892480   [cool cool cool, cool cool cool, T_T, I know.,...   \n",
              "106634422022860800  [:CatriaYay:, Just ask one of us what you want...   \n",
              "155149108183695360  [Its Baby Dump without a Bump (BD), Its Baby D...   \n",
              "172002275412279296  [nan, nan, nan, nan, > **‎Viewing rank card  •...   \n",
              "173889000015134720  [omg hana my love, i go for both yea, tru, Thi...   \n",
              "...                                                               ...   \n",
              "786672447935348737  [... what. that's a joke, right?, If that's tr...   \n",
              "806489789574545458                                         [Same lol]   \n",
              "831172293945720852  [I love the channel namesssss, Whoa... This is...   \n",
              "873569055733329951  [I don’t know, Lo, Tomorrow my birthday, The o...   \n",
              "899901520701714493  [MM/DD/YY goes to #🔞cursed-chat, :angydoggo:, ...   \n",
              "\n",
              "                                   Author  \n",
              "AuthorID                                   \n",
              "85614143951892480           UB3R-B0T#3802  \n",
              "106634422022860800    MaralinaSakura#1304  \n",
              "155149108183695360              Dyno#3861  \n",
              "172002275412279296             Tatsu#8792  \n",
              "173889000015134720             faede#0003  \n",
              "...                                   ...  \n",
              "786672447935348737  cressidastclaire#3536  \n",
              "806489789574545458      Hell-Volhard#4976  \n",
              "831172293945720852         Yume Not.#8543  \n",
              "873569055733329951    James Hametson#9998  \n",
              "899901520701714493     Kaleen Bhaiya#5212  \n",
              "\n",
              "[67 rows x 3 columns]"
            ],
            "text/html": [
              "\n",
              "  <div id=\"df-bbaca1ee-d3f2-4ed6-9658-e3536b50e1e8\">\n",
              "    <div class=\"colab-df-container\">\n",
              "      <div>\n",
              "<style scoped>\n",
              "    .dataframe tbody tr th:only-of-type {\n",
              "        vertical-align: middle;\n",
              "    }\n",
              "\n",
              "    .dataframe tbody tr th {\n",
              "        vertical-align: top;\n",
              "    }\n",
              "\n",
              "    .dataframe thead th {\n",
              "        text-align: right;\n",
              "    }\n",
              "</style>\n",
              "<table border=\"1\" class=\"dataframe\">\n",
              "  <thead>\n",
              "    <tr style=\"text-align: right;\">\n",
              "      <th></th>\n",
              "      <th>Date_y</th>\n",
              "      <th>Content_y</th>\n",
              "      <th>Author</th>\n",
              "    </tr>\n",
              "    <tr>\n",
              "      <th>AuthorID</th>\n",
              "      <th></th>\n",
              "      <th></th>\n",
              "      <th></th>\n",
              "    </tr>\n",
              "  </thead>\n",
              "  <tbody>\n",
              "    <tr>\n",
              "      <th>85614143951892480</th>\n",
              "      <td>[07-Sep-20 11:02 PM, 07-Sep-20 11:06 PM, 07-Se...</td>\n",
              "      <td>[cool cool cool, cool cool cool, T_T, I know.,...</td>\n",
              "      <td>UB3R-B0T#3802</td>\n",
              "    </tr>\n",
              "    <tr>\n",
              "      <th>106634422022860800</th>\n",
              "      <td>[05-Sep-20 12:44 AM, 05-Sep-20 12:44 AM, 05-Se...</td>\n",
              "      <td>[:CatriaYay:, Just ask one of us what you want...</td>\n",
              "      <td>MaralinaSakura#1304</td>\n",
              "    </tr>\n",
              "    <tr>\n",
              "      <th>155149108183695360</th>\n",
              "      <td>[03-Oct-20 04:07 AM, 04-Oct-20 09:30 PM, 04-Oc...</td>\n",
              "      <td>[Its Baby Dump without a Bump (BD), Its Baby D...</td>\n",
              "      <td>Dyno#3861</td>\n",
              "    </tr>\n",
              "    <tr>\n",
              "      <th>172002275412279296</th>\n",
              "      <td>[05-Sep-20 12:56 AM, 05-Sep-20 02:03 AM, 05-Se...</td>\n",
              "      <td>[nan, nan, nan, nan, &gt; **‎Viewing rank card  •...</td>\n",
              "      <td>Tatsu#8792</td>\n",
              "    </tr>\n",
              "    <tr>\n",
              "      <th>173889000015134720</th>\n",
              "      <td>[07-Sep-20 10:37 AM, 07-Sep-20 10:39 AM, 07-Se...</td>\n",
              "      <td>[omg hana my love, i go for both yea, tru, Thi...</td>\n",
              "      <td>faede#0003</td>\n",
              "    </tr>\n",
              "    <tr>\n",
              "      <th>...</th>\n",
              "      <td>...</td>\n",
              "      <td>...</td>\n",
              "      <td>...</td>\n",
              "    </tr>\n",
              "    <tr>\n",
              "      <th>786672447935348737</th>\n",
              "      <td>[06-May-21 11:48 PM, 06-May-21 11:57 PM, 06-Ma...</td>\n",
              "      <td>[... what. that's a joke, right?, If that's tr...</td>\n",
              "      <td>cressidastclaire#3536</td>\n",
              "    </tr>\n",
              "    <tr>\n",
              "      <th>806489789574545458</th>\n",
              "      <td>[07-Aug-21 07:32 PM]</td>\n",
              "      <td>[Same lol]</td>\n",
              "      <td>Hell-Volhard#4976</td>\n",
              "    </tr>\n",
              "    <tr>\n",
              "      <th>831172293945720852</th>\n",
              "      <td>[21-Aug-21 04:01 PM, 25-Aug-21 11:29 AM, 25-Au...</td>\n",
              "      <td>[I love the channel namesssss, Whoa... This is...</td>\n",
              "      <td>Yume Not.#8543</td>\n",
              "    </tr>\n",
              "    <tr>\n",
              "      <th>873569055733329951</th>\n",
              "      <td>[14-Aug-21 07:55 PM, 14-Aug-21 07:55 PM, 22-Au...</td>\n",
              "      <td>[I don’t know, Lo, Tomorrow my birthday, The o...</td>\n",
              "      <td>James Hametson#9998</td>\n",
              "    </tr>\n",
              "    <tr>\n",
              "      <th>899901520701714493</th>\n",
              "      <td>[21-Oct-21 01:52 PM, 21-Oct-21 01:53 PM, 23-Oc...</td>\n",
              "      <td>[MM/DD/YY goes to #🔞cursed-chat, :angydoggo:, ...</td>\n",
              "      <td>Kaleen Bhaiya#5212</td>\n",
              "    </tr>\n",
              "  </tbody>\n",
              "</table>\n",
              "<p>67 rows × 3 columns</p>\n",
              "</div>\n",
              "      <button class=\"colab-df-convert\" onclick=\"convertToInteractive('df-bbaca1ee-d3f2-4ed6-9658-e3536b50e1e8')\"\n",
              "              title=\"Convert this dataframe to an interactive table.\"\n",
              "              style=\"display:none;\">\n",
              "        \n",
              "  <svg xmlns=\"http://www.w3.org/2000/svg\" height=\"24px\"viewBox=\"0 0 24 24\"\n",
              "       width=\"24px\">\n",
              "    <path d=\"M0 0h24v24H0V0z\" fill=\"none\"/>\n",
              "    <path d=\"M18.56 5.44l.94 2.06.94-2.06 2.06-.94-2.06-.94-.94-2.06-.94 2.06-2.06.94zm-11 1L8.5 8.5l.94-2.06 2.06-.94-2.06-.94L8.5 2.5l-.94 2.06-2.06.94zm10 10l.94 2.06.94-2.06 2.06-.94-2.06-.94-.94-2.06-.94 2.06-2.06.94z\"/><path d=\"M17.41 7.96l-1.37-1.37c-.4-.4-.92-.59-1.43-.59-.52 0-1.04.2-1.43.59L10.3 9.45l-7.72 7.72c-.78.78-.78 2.05 0 2.83L4 21.41c.39.39.9.59 1.41.59.51 0 1.02-.2 1.41-.59l7.78-7.78 2.81-2.81c.8-.78.8-2.07 0-2.86zM5.41 20L4 18.59l7.72-7.72 1.47 1.35L5.41 20z\"/>\n",
              "  </svg>\n",
              "      </button>\n",
              "      \n",
              "  <style>\n",
              "    .colab-df-container {\n",
              "      display:flex;\n",
              "      flex-wrap:wrap;\n",
              "      gap: 12px;\n",
              "    }\n",
              "\n",
              "    .colab-df-convert {\n",
              "      background-color: #E8F0FE;\n",
              "      border: none;\n",
              "      border-radius: 50%;\n",
              "      cursor: pointer;\n",
              "      display: none;\n",
              "      fill: #1967D2;\n",
              "      height: 32px;\n",
              "      padding: 0 0 0 0;\n",
              "      width: 32px;\n",
              "    }\n",
              "\n",
              "    .colab-df-convert:hover {\n",
              "      background-color: #E2EBFA;\n",
              "      box-shadow: 0px 1px 2px rgba(60, 64, 67, 0.3), 0px 1px 3px 1px rgba(60, 64, 67, 0.15);\n",
              "      fill: #174EA6;\n",
              "    }\n",
              "\n",
              "    [theme=dark] .colab-df-convert {\n",
              "      background-color: #3B4455;\n",
              "      fill: #D2E3FC;\n",
              "    }\n",
              "\n",
              "    [theme=dark] .colab-df-convert:hover {\n",
              "      background-color: #434B5C;\n",
              "      box-shadow: 0px 1px 3px 1px rgba(0, 0, 0, 0.15);\n",
              "      filter: drop-shadow(0px 1px 2px rgba(0, 0, 0, 0.3));\n",
              "      fill: #FFFFFF;\n",
              "    }\n",
              "  </style>\n",
              "\n",
              "      <script>\n",
              "        const buttonEl =\n",
              "          document.querySelector('#df-bbaca1ee-d3f2-4ed6-9658-e3536b50e1e8 button.colab-df-convert');\n",
              "        buttonEl.style.display =\n",
              "          google.colab.kernel.accessAllowed ? 'block' : 'none';\n",
              "\n",
              "        async function convertToInteractive(key) {\n",
              "          const element = document.querySelector('#df-bbaca1ee-d3f2-4ed6-9658-e3536b50e1e8');\n",
              "          const dataTable =\n",
              "            await google.colab.kernel.invokeFunction('convertToInteractive',\n",
              "                                                     [key], {});\n",
              "          if (!dataTable) return;\n",
              "\n",
              "          const docLinkHtml = 'Like what you see? Visit the ' +\n",
              "            '<a target=\"_blank\" href=https://colab.research.google.com/notebooks/data_table.ipynb>data table notebook</a>'\n",
              "            + ' to learn more about interactive tables.';\n",
              "          element.innerHTML = '';\n",
              "          dataTable['output_type'] = 'display_data';\n",
              "          await google.colab.output.renderOutput(dataTable, element);\n",
              "          const docLink = document.createElement('div');\n",
              "          docLink.innerHTML = docLinkHtml;\n",
              "          element.appendChild(docLink);\n",
              "        }\n",
              "      </script>\n",
              "    </div>\n",
              "  </div>\n",
              "  "
            ]
          },
          "metadata": {},
          "execution_count": 33
        }
      ]
    },
    {
      "cell_type": "code",
      "source": [
        "pcf_gen_common.drop([\"Date_x\", \"Author_x\"],axis = 1)"
      ],
      "metadata": {
        "colab": {
          "base_uri": "https://localhost:8080/",
          "height": 455
        },
        "id": "sBpH9nwe5Wcs",
        "outputId": "59f627ad-c44d-4171-ef03-6cf17e13ab33"
      },
      "execution_count": 34,
      "outputs": [
        {
          "output_type": "execute_result",
          "data": {
            "text/plain": [
              "                                                            Content_x  \\\n",
              "AuthorID                                                                \n",
              "85614143951892480   [woah there buttmunch tryin' to cheat the syst...   \n",
              "106634422022860800  [:javoShock: I got to think about it, Thanks!,...   \n",
              "155149108183695360  [nan, nan, Wife: Honey I’m pregnant.\\r\\n\\r\\nMe...   \n",
              "172002275412279296  [nan, nan, nan, > **Viewing server rankings • ...   \n",
              "173889000015134720  [uhh dskdjdl probably high school story and mi...   \n",
              "...                                                               ...   \n",
              "786672447935348737  [hello! glad to be here., pig practicals in bi...   \n",
              "806489789574545458                                     [sure, thanks]   \n",
              "831172293945720852  [Hiiiiiii, And we may or may not regret it lol...   \n",
              "873569055733329951  [Where’s the invite to the datamining server a...   \n",
              "899901520701714493  [that chapter was so boring, not really becaus...   \n",
              "\n",
              "                                   Author  \n",
              "AuthorID                                   \n",
              "85614143951892480           UB3R-B0T#3802  \n",
              "106634422022860800    MaralinaSakura#1304  \n",
              "155149108183695360              Dyno#3861  \n",
              "172002275412279296             Tatsu#8792  \n",
              "173889000015134720             faede#0003  \n",
              "...                                   ...  \n",
              "786672447935348737  cressidastclaire#3536  \n",
              "806489789574545458      Hell-Volhard#4976  \n",
              "831172293945720852         Yume Not.#8543  \n",
              "873569055733329951    James Hametson#9998  \n",
              "899901520701714493     Kaleen Bhaiya#5212  \n",
              "\n",
              "[67 rows x 2 columns]"
            ],
            "text/html": [
              "\n",
              "  <div id=\"df-700c71de-0a8a-4a16-884f-509b81e50e2d\">\n",
              "    <div class=\"colab-df-container\">\n",
              "      <div>\n",
              "<style scoped>\n",
              "    .dataframe tbody tr th:only-of-type {\n",
              "        vertical-align: middle;\n",
              "    }\n",
              "\n",
              "    .dataframe tbody tr th {\n",
              "        vertical-align: top;\n",
              "    }\n",
              "\n",
              "    .dataframe thead th {\n",
              "        text-align: right;\n",
              "    }\n",
              "</style>\n",
              "<table border=\"1\" class=\"dataframe\">\n",
              "  <thead>\n",
              "    <tr style=\"text-align: right;\">\n",
              "      <th></th>\n",
              "      <th>Content_x</th>\n",
              "      <th>Author</th>\n",
              "    </tr>\n",
              "    <tr>\n",
              "      <th>AuthorID</th>\n",
              "      <th></th>\n",
              "      <th></th>\n",
              "    </tr>\n",
              "  </thead>\n",
              "  <tbody>\n",
              "    <tr>\n",
              "      <th>85614143951892480</th>\n",
              "      <td>[woah there buttmunch tryin' to cheat the syst...</td>\n",
              "      <td>UB3R-B0T#3802</td>\n",
              "    </tr>\n",
              "    <tr>\n",
              "      <th>106634422022860800</th>\n",
              "      <td>[:javoShock: I got to think about it, Thanks!,...</td>\n",
              "      <td>MaralinaSakura#1304</td>\n",
              "    </tr>\n",
              "    <tr>\n",
              "      <th>155149108183695360</th>\n",
              "      <td>[nan, nan, Wife: Honey I’m pregnant.\\r\\n\\r\\nMe...</td>\n",
              "      <td>Dyno#3861</td>\n",
              "    </tr>\n",
              "    <tr>\n",
              "      <th>172002275412279296</th>\n",
              "      <td>[nan, nan, nan, &gt; **Viewing server rankings • ...</td>\n",
              "      <td>Tatsu#8792</td>\n",
              "    </tr>\n",
              "    <tr>\n",
              "      <th>173889000015134720</th>\n",
              "      <td>[uhh dskdjdl probably high school story and mi...</td>\n",
              "      <td>faede#0003</td>\n",
              "    </tr>\n",
              "    <tr>\n",
              "      <th>...</th>\n",
              "      <td>...</td>\n",
              "      <td>...</td>\n",
              "    </tr>\n",
              "    <tr>\n",
              "      <th>786672447935348737</th>\n",
              "      <td>[hello! glad to be here., pig practicals in bi...</td>\n",
              "      <td>cressidastclaire#3536</td>\n",
              "    </tr>\n",
              "    <tr>\n",
              "      <th>806489789574545458</th>\n",
              "      <td>[sure, thanks]</td>\n",
              "      <td>Hell-Volhard#4976</td>\n",
              "    </tr>\n",
              "    <tr>\n",
              "      <th>831172293945720852</th>\n",
              "      <td>[Hiiiiiii, And we may or may not regret it lol...</td>\n",
              "      <td>Yume Not.#8543</td>\n",
              "    </tr>\n",
              "    <tr>\n",
              "      <th>873569055733329951</th>\n",
              "      <td>[Where’s the invite to the datamining server a...</td>\n",
              "      <td>James Hametson#9998</td>\n",
              "    </tr>\n",
              "    <tr>\n",
              "      <th>899901520701714493</th>\n",
              "      <td>[that chapter was so boring, not really becaus...</td>\n",
              "      <td>Kaleen Bhaiya#5212</td>\n",
              "    </tr>\n",
              "  </tbody>\n",
              "</table>\n",
              "<p>67 rows × 2 columns</p>\n",
              "</div>\n",
              "      <button class=\"colab-df-convert\" onclick=\"convertToInteractive('df-700c71de-0a8a-4a16-884f-509b81e50e2d')\"\n",
              "              title=\"Convert this dataframe to an interactive table.\"\n",
              "              style=\"display:none;\">\n",
              "        \n",
              "  <svg xmlns=\"http://www.w3.org/2000/svg\" height=\"24px\"viewBox=\"0 0 24 24\"\n",
              "       width=\"24px\">\n",
              "    <path d=\"M0 0h24v24H0V0z\" fill=\"none\"/>\n",
              "    <path d=\"M18.56 5.44l.94 2.06.94-2.06 2.06-.94-2.06-.94-.94-2.06-.94 2.06-2.06.94zm-11 1L8.5 8.5l.94-2.06 2.06-.94-2.06-.94L8.5 2.5l-.94 2.06-2.06.94zm10 10l.94 2.06.94-2.06 2.06-.94-2.06-.94-.94-2.06-.94 2.06-2.06.94z\"/><path d=\"M17.41 7.96l-1.37-1.37c-.4-.4-.92-.59-1.43-.59-.52 0-1.04.2-1.43.59L10.3 9.45l-7.72 7.72c-.78.78-.78 2.05 0 2.83L4 21.41c.39.39.9.59 1.41.59.51 0 1.02-.2 1.41-.59l7.78-7.78 2.81-2.81c.8-.78.8-2.07 0-2.86zM5.41 20L4 18.59l7.72-7.72 1.47 1.35L5.41 20z\"/>\n",
              "  </svg>\n",
              "      </button>\n",
              "      \n",
              "  <style>\n",
              "    .colab-df-container {\n",
              "      display:flex;\n",
              "      flex-wrap:wrap;\n",
              "      gap: 12px;\n",
              "    }\n",
              "\n",
              "    .colab-df-convert {\n",
              "      background-color: #E8F0FE;\n",
              "      border: none;\n",
              "      border-radius: 50%;\n",
              "      cursor: pointer;\n",
              "      display: none;\n",
              "      fill: #1967D2;\n",
              "      height: 32px;\n",
              "      padding: 0 0 0 0;\n",
              "      width: 32px;\n",
              "    }\n",
              "\n",
              "    .colab-df-convert:hover {\n",
              "      background-color: #E2EBFA;\n",
              "      box-shadow: 0px 1px 2px rgba(60, 64, 67, 0.3), 0px 1px 3px 1px rgba(60, 64, 67, 0.15);\n",
              "      fill: #174EA6;\n",
              "    }\n",
              "\n",
              "    [theme=dark] .colab-df-convert {\n",
              "      background-color: #3B4455;\n",
              "      fill: #D2E3FC;\n",
              "    }\n",
              "\n",
              "    [theme=dark] .colab-df-convert:hover {\n",
              "      background-color: #434B5C;\n",
              "      box-shadow: 0px 1px 3px 1px rgba(0, 0, 0, 0.15);\n",
              "      filter: drop-shadow(0px 1px 2px rgba(0, 0, 0, 0.3));\n",
              "      fill: #FFFFFF;\n",
              "    }\n",
              "  </style>\n",
              "\n",
              "      <script>\n",
              "        const buttonEl =\n",
              "          document.querySelector('#df-700c71de-0a8a-4a16-884f-509b81e50e2d button.colab-df-convert');\n",
              "        buttonEl.style.display =\n",
              "          google.colab.kernel.accessAllowed ? 'block' : 'none';\n",
              "\n",
              "        async function convertToInteractive(key) {\n",
              "          const element = document.querySelector('#df-700c71de-0a8a-4a16-884f-509b81e50e2d');\n",
              "          const dataTable =\n",
              "            await google.colab.kernel.invokeFunction('convertToInteractive',\n",
              "                                                     [key], {});\n",
              "          if (!dataTable) return;\n",
              "\n",
              "          const docLinkHtml = 'Like what you see? Visit the ' +\n",
              "            '<a target=\"_blank\" href=https://colab.research.google.com/notebooks/data_table.ipynb>data table notebook</a>'\n",
              "            + ' to learn more about interactive tables.';\n",
              "          element.innerHTML = '';\n",
              "          dataTable['output_type'] = 'display_data';\n",
              "          await google.colab.output.renderOutput(dataTable, element);\n",
              "          const docLink = document.createElement('div');\n",
              "          docLink.innerHTML = docLinkHtml;\n",
              "          element.appendChild(docLink);\n",
              "        }\n",
              "      </script>\n",
              "    </div>\n",
              "  </div>\n",
              "  "
            ]
          },
          "metadata": {},
          "execution_count": 34
        }
      ]
    },
    {
      "cell_type": "code",
      "source": [
        "pcf_gen_common[\"Content\"] = [\",\".join(map(str, l)) for l in pcf_gen_common[\"Content_x\"]]"
      ],
      "metadata": {
        "id": "Koj9Ud1c5YWo"
      },
      "execution_count": 35,
      "outputs": []
    },
    {
      "cell_type": "code",
      "source": [
        "pcf_gen_common"
      ],
      "metadata": {
        "colab": {
          "base_uri": "https://localhost:8080/",
          "height": 655
        },
        "id": "WgTrf2x35ZuY",
        "outputId": "f181482c-3937-45d7-cfc0-2b93e248e600"
      },
      "execution_count": 36,
      "outputs": [
        {
          "output_type": "execute_result",
          "data": {
            "text/plain": [
              "                                                             Author_x  \\\n",
              "AuthorID                                                                \n",
              "85614143951892480   [UB3R-B0T#3802, UB3R-B0T#3802, UB3R-B0T#3802, ...   \n",
              "106634422022860800  [MaralinaSakura#1304, MaralinaSakura#1304, Mar...   \n",
              "155149108183695360  [Dyno#3861, Dyno#3861, Dyno#3861, Dyno#3861, D...   \n",
              "172002275412279296  [Tatsu#8792, Tatsu#8792, Tatsu#8792, Tatsu#879...   \n",
              "173889000015134720  [faede#0003, faede#0003, faede#0003, faede#000...   \n",
              "...                                                               ...   \n",
              "786672447935348737  [cressidastclaire#3536, cressidastclaire#3536,...   \n",
              "806489789574545458                                [Hell-Volhard#4976]   \n",
              "831172293945720852  [Yume Not.#8543, Yume Not.#8543, Yume Not.#854...   \n",
              "873569055733329951                              [James Hametson#9998]   \n",
              "899901520701714493  [Kaleen Bhaiya#5212, Kaleen Bhaiya#5212, Kalee...   \n",
              "\n",
              "                                                               Date_x  \\\n",
              "AuthorID                                                                \n",
              "85614143951892480   [04-Jul-18 09:37 AM, 04-Jul-18 09:37 AM, 04-Ju...   \n",
              "106634422022860800  [03-Apr-19 09:50 PM, 03-Apr-19 09:50 PM, 03-Ap...   \n",
              "155149108183695360  [14-Dec-18 03:34 PM, 14-Dec-18 03:35 PM, 07-Ja...   \n",
              "172002275412279296  [23-Feb-21 09:15 PM, 25-Feb-21 11:23 PM, 08-Ma...   \n",
              "173889000015134720  [30-Jul-20 01:07 AM, 30-Jul-20 01:08 AM, 30-Ju...   \n",
              "...                                                               ...   \n",
              "786672447935348737  [05-May-21 11:35 AM, 05-May-21 12:21 PM, 05-Ma...   \n",
              "806489789574545458                               [18-Apr-21 09:38 PM]   \n",
              "831172293945720852  [28-Apr-21 10:22 AM, 28-Apr-21 10:23 AM, 28-Ap...   \n",
              "873569055733329951                               [12-Aug-21 03:55 PM]   \n",
              "899901520701714493  [21-Oct-21 01:46 PM, 21-Oct-21 01:48 PM, 21-Oc...   \n",
              "\n",
              "                                                            Content_x  \\\n",
              "AuthorID                                                                \n",
              "85614143951892480   [woah there buttmunch tryin' to cheat the syst...   \n",
              "106634422022860800  [:javoShock: I got to think about it, Thanks!,...   \n",
              "155149108183695360  [nan, nan, Wife: Honey I’m pregnant.\\r\\n\\r\\nMe...   \n",
              "172002275412279296  [nan, nan, nan, > **Viewing server rankings • ...   \n",
              "173889000015134720  [uhh dskdjdl probably high school story and mi...   \n",
              "...                                                               ...   \n",
              "786672447935348737  [hello! glad to be here., pig practicals in bi...   \n",
              "806489789574545458                                     [sure, thanks]   \n",
              "831172293945720852  [Hiiiiiii, And we may or may not regret it lol...   \n",
              "873569055733329951  [Where’s the invite to the datamining server a...   \n",
              "899901520701714493  [that chapter was so boring, not really becaus...   \n",
              "\n",
              "                                   Author  \\\n",
              "AuthorID                                    \n",
              "85614143951892480           UB3R-B0T#3802   \n",
              "106634422022860800    MaralinaSakura#1304   \n",
              "155149108183695360              Dyno#3861   \n",
              "172002275412279296             Tatsu#8792   \n",
              "173889000015134720             faede#0003   \n",
              "...                                   ...   \n",
              "786672447935348737  cressidastclaire#3536   \n",
              "806489789574545458      Hell-Volhard#4976   \n",
              "831172293945720852         Yume Not.#8543   \n",
              "873569055733329951    James Hametson#9998   \n",
              "899901520701714493     Kaleen Bhaiya#5212   \n",
              "\n",
              "                                                              Content  \n",
              "AuthorID                                                               \n",
              "85614143951892480   woah there buttmunch tryin' to cheat the syste...  \n",
              "106634422022860800  :javoShock: I got to think about it,Thanks!,Fa...  \n",
              "155149108183695360  nan,nan,Wife: Honey I’m pregnant.\\r\\n\\r\\nMe: W...  \n",
              "172002275412279296  nan,nan,nan,> **Viewing server rankings • [** ...  \n",
              "173889000015134720  uhh dskdjdl probably high school story and mic...  \n",
              "...                                                               ...  \n",
              "786672447935348737  hello! glad to be here.,pig practicals in biol...  \n",
              "806489789574545458                                       sure, thanks  \n",
              "831172293945720852  Hiiiiiii,And we may or may not regret it lol 🤣...  \n",
              "873569055733329951  Where’s the invite to the datamining server again  \n",
              "899901520701714493  that chapter was so boring,not really because ...  \n",
              "\n",
              "[67 rows x 5 columns]"
            ],
            "text/html": [
              "\n",
              "  <div id=\"df-649cebfe-4abe-4e32-ac1c-a73005d50c1b\">\n",
              "    <div class=\"colab-df-container\">\n",
              "      <div>\n",
              "<style scoped>\n",
              "    .dataframe tbody tr th:only-of-type {\n",
              "        vertical-align: middle;\n",
              "    }\n",
              "\n",
              "    .dataframe tbody tr th {\n",
              "        vertical-align: top;\n",
              "    }\n",
              "\n",
              "    .dataframe thead th {\n",
              "        text-align: right;\n",
              "    }\n",
              "</style>\n",
              "<table border=\"1\" class=\"dataframe\">\n",
              "  <thead>\n",
              "    <tr style=\"text-align: right;\">\n",
              "      <th></th>\n",
              "      <th>Author_x</th>\n",
              "      <th>Date_x</th>\n",
              "      <th>Content_x</th>\n",
              "      <th>Author</th>\n",
              "      <th>Content</th>\n",
              "    </tr>\n",
              "    <tr>\n",
              "      <th>AuthorID</th>\n",
              "      <th></th>\n",
              "      <th></th>\n",
              "      <th></th>\n",
              "      <th></th>\n",
              "      <th></th>\n",
              "    </tr>\n",
              "  </thead>\n",
              "  <tbody>\n",
              "    <tr>\n",
              "      <th>85614143951892480</th>\n",
              "      <td>[UB3R-B0T#3802, UB3R-B0T#3802, UB3R-B0T#3802, ...</td>\n",
              "      <td>[04-Jul-18 09:37 AM, 04-Jul-18 09:37 AM, 04-Ju...</td>\n",
              "      <td>[woah there buttmunch tryin' to cheat the syst...</td>\n",
              "      <td>UB3R-B0T#3802</td>\n",
              "      <td>woah there buttmunch tryin' to cheat the syste...</td>\n",
              "    </tr>\n",
              "    <tr>\n",
              "      <th>106634422022860800</th>\n",
              "      <td>[MaralinaSakura#1304, MaralinaSakura#1304, Mar...</td>\n",
              "      <td>[03-Apr-19 09:50 PM, 03-Apr-19 09:50 PM, 03-Ap...</td>\n",
              "      <td>[:javoShock: I got to think about it, Thanks!,...</td>\n",
              "      <td>MaralinaSakura#1304</td>\n",
              "      <td>:javoShock: I got to think about it,Thanks!,Fa...</td>\n",
              "    </tr>\n",
              "    <tr>\n",
              "      <th>155149108183695360</th>\n",
              "      <td>[Dyno#3861, Dyno#3861, Dyno#3861, Dyno#3861, D...</td>\n",
              "      <td>[14-Dec-18 03:34 PM, 14-Dec-18 03:35 PM, 07-Ja...</td>\n",
              "      <td>[nan, nan, Wife: Honey I’m pregnant.\\r\\n\\r\\nMe...</td>\n",
              "      <td>Dyno#3861</td>\n",
              "      <td>nan,nan,Wife: Honey I’m pregnant.\\r\\n\\r\\nMe: W...</td>\n",
              "    </tr>\n",
              "    <tr>\n",
              "      <th>172002275412279296</th>\n",
              "      <td>[Tatsu#8792, Tatsu#8792, Tatsu#8792, Tatsu#879...</td>\n",
              "      <td>[23-Feb-21 09:15 PM, 25-Feb-21 11:23 PM, 08-Ma...</td>\n",
              "      <td>[nan, nan, nan, &gt; **Viewing server rankings • ...</td>\n",
              "      <td>Tatsu#8792</td>\n",
              "      <td>nan,nan,nan,&gt; **Viewing server rankings • [** ...</td>\n",
              "    </tr>\n",
              "    <tr>\n",
              "      <th>173889000015134720</th>\n",
              "      <td>[faede#0003, faede#0003, faede#0003, faede#000...</td>\n",
              "      <td>[30-Jul-20 01:07 AM, 30-Jul-20 01:08 AM, 30-Ju...</td>\n",
              "      <td>[uhh dskdjdl probably high school story and mi...</td>\n",
              "      <td>faede#0003</td>\n",
              "      <td>uhh dskdjdl probably high school story and mic...</td>\n",
              "    </tr>\n",
              "    <tr>\n",
              "      <th>...</th>\n",
              "      <td>...</td>\n",
              "      <td>...</td>\n",
              "      <td>...</td>\n",
              "      <td>...</td>\n",
              "      <td>...</td>\n",
              "    </tr>\n",
              "    <tr>\n",
              "      <th>786672447935348737</th>\n",
              "      <td>[cressidastclaire#3536, cressidastclaire#3536,...</td>\n",
              "      <td>[05-May-21 11:35 AM, 05-May-21 12:21 PM, 05-Ma...</td>\n",
              "      <td>[hello! glad to be here., pig practicals in bi...</td>\n",
              "      <td>cressidastclaire#3536</td>\n",
              "      <td>hello! glad to be here.,pig practicals in biol...</td>\n",
              "    </tr>\n",
              "    <tr>\n",
              "      <th>806489789574545458</th>\n",
              "      <td>[Hell-Volhard#4976]</td>\n",
              "      <td>[18-Apr-21 09:38 PM]</td>\n",
              "      <td>[sure, thanks]</td>\n",
              "      <td>Hell-Volhard#4976</td>\n",
              "      <td>sure, thanks</td>\n",
              "    </tr>\n",
              "    <tr>\n",
              "      <th>831172293945720852</th>\n",
              "      <td>[Yume Not.#8543, Yume Not.#8543, Yume Not.#854...</td>\n",
              "      <td>[28-Apr-21 10:22 AM, 28-Apr-21 10:23 AM, 28-Ap...</td>\n",
              "      <td>[Hiiiiiii, And we may or may not regret it lol...</td>\n",
              "      <td>Yume Not.#8543</td>\n",
              "      <td>Hiiiiiii,And we may or may not regret it lol 🤣...</td>\n",
              "    </tr>\n",
              "    <tr>\n",
              "      <th>873569055733329951</th>\n",
              "      <td>[James Hametson#9998]</td>\n",
              "      <td>[12-Aug-21 03:55 PM]</td>\n",
              "      <td>[Where’s the invite to the datamining server a...</td>\n",
              "      <td>James Hametson#9998</td>\n",
              "      <td>Where’s the invite to the datamining server again</td>\n",
              "    </tr>\n",
              "    <tr>\n",
              "      <th>899901520701714493</th>\n",
              "      <td>[Kaleen Bhaiya#5212, Kaleen Bhaiya#5212, Kalee...</td>\n",
              "      <td>[21-Oct-21 01:46 PM, 21-Oct-21 01:48 PM, 21-Oc...</td>\n",
              "      <td>[that chapter was so boring, not really becaus...</td>\n",
              "      <td>Kaleen Bhaiya#5212</td>\n",
              "      <td>that chapter was so boring,not really because ...</td>\n",
              "    </tr>\n",
              "  </tbody>\n",
              "</table>\n",
              "<p>67 rows × 5 columns</p>\n",
              "</div>\n",
              "      <button class=\"colab-df-convert\" onclick=\"convertToInteractive('df-649cebfe-4abe-4e32-ac1c-a73005d50c1b')\"\n",
              "              title=\"Convert this dataframe to an interactive table.\"\n",
              "              style=\"display:none;\">\n",
              "        \n",
              "  <svg xmlns=\"http://www.w3.org/2000/svg\" height=\"24px\"viewBox=\"0 0 24 24\"\n",
              "       width=\"24px\">\n",
              "    <path d=\"M0 0h24v24H0V0z\" fill=\"none\"/>\n",
              "    <path d=\"M18.56 5.44l.94 2.06.94-2.06 2.06-.94-2.06-.94-.94-2.06-.94 2.06-2.06.94zm-11 1L8.5 8.5l.94-2.06 2.06-.94-2.06-.94L8.5 2.5l-.94 2.06-2.06.94zm10 10l.94 2.06.94-2.06 2.06-.94-2.06-.94-.94-2.06-.94 2.06-2.06.94z\"/><path d=\"M17.41 7.96l-1.37-1.37c-.4-.4-.92-.59-1.43-.59-.52 0-1.04.2-1.43.59L10.3 9.45l-7.72 7.72c-.78.78-.78 2.05 0 2.83L4 21.41c.39.39.9.59 1.41.59.51 0 1.02-.2 1.41-.59l7.78-7.78 2.81-2.81c.8-.78.8-2.07 0-2.86zM5.41 20L4 18.59l7.72-7.72 1.47 1.35L5.41 20z\"/>\n",
              "  </svg>\n",
              "      </button>\n",
              "      \n",
              "  <style>\n",
              "    .colab-df-container {\n",
              "      display:flex;\n",
              "      flex-wrap:wrap;\n",
              "      gap: 12px;\n",
              "    }\n",
              "\n",
              "    .colab-df-convert {\n",
              "      background-color: #E8F0FE;\n",
              "      border: none;\n",
              "      border-radius: 50%;\n",
              "      cursor: pointer;\n",
              "      display: none;\n",
              "      fill: #1967D2;\n",
              "      height: 32px;\n",
              "      padding: 0 0 0 0;\n",
              "      width: 32px;\n",
              "    }\n",
              "\n",
              "    .colab-df-convert:hover {\n",
              "      background-color: #E2EBFA;\n",
              "      box-shadow: 0px 1px 2px rgba(60, 64, 67, 0.3), 0px 1px 3px 1px rgba(60, 64, 67, 0.15);\n",
              "      fill: #174EA6;\n",
              "    }\n",
              "\n",
              "    [theme=dark] .colab-df-convert {\n",
              "      background-color: #3B4455;\n",
              "      fill: #D2E3FC;\n",
              "    }\n",
              "\n",
              "    [theme=dark] .colab-df-convert:hover {\n",
              "      background-color: #434B5C;\n",
              "      box-shadow: 0px 1px 3px 1px rgba(0, 0, 0, 0.15);\n",
              "      filter: drop-shadow(0px 1px 2px rgba(0, 0, 0, 0.3));\n",
              "      fill: #FFFFFF;\n",
              "    }\n",
              "  </style>\n",
              "\n",
              "      <script>\n",
              "        const buttonEl =\n",
              "          document.querySelector('#df-649cebfe-4abe-4e32-ac1c-a73005d50c1b button.colab-df-convert');\n",
              "        buttonEl.style.display =\n",
              "          google.colab.kernel.accessAllowed ? 'block' : 'none';\n",
              "\n",
              "        async function convertToInteractive(key) {\n",
              "          const element = document.querySelector('#df-649cebfe-4abe-4e32-ac1c-a73005d50c1b');\n",
              "          const dataTable =\n",
              "            await google.colab.kernel.invokeFunction('convertToInteractive',\n",
              "                                                     [key], {});\n",
              "          if (!dataTable) return;\n",
              "\n",
              "          const docLinkHtml = 'Like what you see? Visit the ' +\n",
              "            '<a target=\"_blank\" href=https://colab.research.google.com/notebooks/data_table.ipynb>data table notebook</a>'\n",
              "            + ' to learn more about interactive tables.';\n",
              "          element.innerHTML = '';\n",
              "          dataTable['output_type'] = 'display_data';\n",
              "          await google.colab.output.renderOutput(dataTable, element);\n",
              "          const docLink = document.createElement('div');\n",
              "          docLink.innerHTML = docLinkHtml;\n",
              "          element.appendChild(docLink);\n",
              "        }\n",
              "      </script>\n",
              "    </div>\n",
              "  </div>\n",
              "  "
            ]
          },
          "metadata": {},
          "execution_count": 36
        }
      ]
    },
    {
      "cell_type": "code",
      "source": [
        "new_pcf_gen_common = pcf_gen_common.drop([\"Date_x\", \"Author_x\",\"Content_x\"],axis = 1)"
      ],
      "metadata": {
        "id": "LJP5slo05bB2"
      },
      "execution_count": 37,
      "outputs": []
    },
    {
      "cell_type": "code",
      "source": [
        "new_pcf_gen_common"
      ],
      "metadata": {
        "colab": {
          "base_uri": "https://localhost:8080/",
          "height": 455
        },
        "id": "NNwXf6UD5dqw",
        "outputId": "d2e7d3e1-c2c8-4106-c43b-0ccaeed952d6"
      },
      "execution_count": 38,
      "outputs": [
        {
          "output_type": "execute_result",
          "data": {
            "text/plain": [
              "                                   Author  \\\n",
              "AuthorID                                    \n",
              "85614143951892480           UB3R-B0T#3802   \n",
              "106634422022860800    MaralinaSakura#1304   \n",
              "155149108183695360              Dyno#3861   \n",
              "172002275412279296             Tatsu#8792   \n",
              "173889000015134720             faede#0003   \n",
              "...                                   ...   \n",
              "786672447935348737  cressidastclaire#3536   \n",
              "806489789574545458      Hell-Volhard#4976   \n",
              "831172293945720852         Yume Not.#8543   \n",
              "873569055733329951    James Hametson#9998   \n",
              "899901520701714493     Kaleen Bhaiya#5212   \n",
              "\n",
              "                                                              Content  \n",
              "AuthorID                                                               \n",
              "85614143951892480   woah there buttmunch tryin' to cheat the syste...  \n",
              "106634422022860800  :javoShock: I got to think about it,Thanks!,Fa...  \n",
              "155149108183695360  nan,nan,Wife: Honey I’m pregnant.\\r\\n\\r\\nMe: W...  \n",
              "172002275412279296  nan,nan,nan,> **Viewing server rankings • [** ...  \n",
              "173889000015134720  uhh dskdjdl probably high school story and mic...  \n",
              "...                                                               ...  \n",
              "786672447935348737  hello! glad to be here.,pig practicals in biol...  \n",
              "806489789574545458                                       sure, thanks  \n",
              "831172293945720852  Hiiiiiii,And we may or may not regret it lol 🤣...  \n",
              "873569055733329951  Where’s the invite to the datamining server again  \n",
              "899901520701714493  that chapter was so boring,not really because ...  \n",
              "\n",
              "[67 rows x 2 columns]"
            ],
            "text/html": [
              "\n",
              "  <div id=\"df-fdd3a916-8e61-45ea-8040-4edf2f287b86\">\n",
              "    <div class=\"colab-df-container\">\n",
              "      <div>\n",
              "<style scoped>\n",
              "    .dataframe tbody tr th:only-of-type {\n",
              "        vertical-align: middle;\n",
              "    }\n",
              "\n",
              "    .dataframe tbody tr th {\n",
              "        vertical-align: top;\n",
              "    }\n",
              "\n",
              "    .dataframe thead th {\n",
              "        text-align: right;\n",
              "    }\n",
              "</style>\n",
              "<table border=\"1\" class=\"dataframe\">\n",
              "  <thead>\n",
              "    <tr style=\"text-align: right;\">\n",
              "      <th></th>\n",
              "      <th>Author</th>\n",
              "      <th>Content</th>\n",
              "    </tr>\n",
              "    <tr>\n",
              "      <th>AuthorID</th>\n",
              "      <th></th>\n",
              "      <th></th>\n",
              "    </tr>\n",
              "  </thead>\n",
              "  <tbody>\n",
              "    <tr>\n",
              "      <th>85614143951892480</th>\n",
              "      <td>UB3R-B0T#3802</td>\n",
              "      <td>woah there buttmunch tryin' to cheat the syste...</td>\n",
              "    </tr>\n",
              "    <tr>\n",
              "      <th>106634422022860800</th>\n",
              "      <td>MaralinaSakura#1304</td>\n",
              "      <td>:javoShock: I got to think about it,Thanks!,Fa...</td>\n",
              "    </tr>\n",
              "    <tr>\n",
              "      <th>155149108183695360</th>\n",
              "      <td>Dyno#3861</td>\n",
              "      <td>nan,nan,Wife: Honey I’m pregnant.\\r\\n\\r\\nMe: W...</td>\n",
              "    </tr>\n",
              "    <tr>\n",
              "      <th>172002275412279296</th>\n",
              "      <td>Tatsu#8792</td>\n",
              "      <td>nan,nan,nan,&gt; **Viewing server rankings • [** ...</td>\n",
              "    </tr>\n",
              "    <tr>\n",
              "      <th>173889000015134720</th>\n",
              "      <td>faede#0003</td>\n",
              "      <td>uhh dskdjdl probably high school story and mic...</td>\n",
              "    </tr>\n",
              "    <tr>\n",
              "      <th>...</th>\n",
              "      <td>...</td>\n",
              "      <td>...</td>\n",
              "    </tr>\n",
              "    <tr>\n",
              "      <th>786672447935348737</th>\n",
              "      <td>cressidastclaire#3536</td>\n",
              "      <td>hello! glad to be here.,pig practicals in biol...</td>\n",
              "    </tr>\n",
              "    <tr>\n",
              "      <th>806489789574545458</th>\n",
              "      <td>Hell-Volhard#4976</td>\n",
              "      <td>sure, thanks</td>\n",
              "    </tr>\n",
              "    <tr>\n",
              "      <th>831172293945720852</th>\n",
              "      <td>Yume Not.#8543</td>\n",
              "      <td>Hiiiiiii,And we may or may not regret it lol 🤣...</td>\n",
              "    </tr>\n",
              "    <tr>\n",
              "      <th>873569055733329951</th>\n",
              "      <td>James Hametson#9998</td>\n",
              "      <td>Where’s the invite to the datamining server again</td>\n",
              "    </tr>\n",
              "    <tr>\n",
              "      <th>899901520701714493</th>\n",
              "      <td>Kaleen Bhaiya#5212</td>\n",
              "      <td>that chapter was so boring,not really because ...</td>\n",
              "    </tr>\n",
              "  </tbody>\n",
              "</table>\n",
              "<p>67 rows × 2 columns</p>\n",
              "</div>\n",
              "      <button class=\"colab-df-convert\" onclick=\"convertToInteractive('df-fdd3a916-8e61-45ea-8040-4edf2f287b86')\"\n",
              "              title=\"Convert this dataframe to an interactive table.\"\n",
              "              style=\"display:none;\">\n",
              "        \n",
              "  <svg xmlns=\"http://www.w3.org/2000/svg\" height=\"24px\"viewBox=\"0 0 24 24\"\n",
              "       width=\"24px\">\n",
              "    <path d=\"M0 0h24v24H0V0z\" fill=\"none\"/>\n",
              "    <path d=\"M18.56 5.44l.94 2.06.94-2.06 2.06-.94-2.06-.94-.94-2.06-.94 2.06-2.06.94zm-11 1L8.5 8.5l.94-2.06 2.06-.94-2.06-.94L8.5 2.5l-.94 2.06-2.06.94zm10 10l.94 2.06.94-2.06 2.06-.94-2.06-.94-.94-2.06-.94 2.06-2.06.94z\"/><path d=\"M17.41 7.96l-1.37-1.37c-.4-.4-.92-.59-1.43-.59-.52 0-1.04.2-1.43.59L10.3 9.45l-7.72 7.72c-.78.78-.78 2.05 0 2.83L4 21.41c.39.39.9.59 1.41.59.51 0 1.02-.2 1.41-.59l7.78-7.78 2.81-2.81c.8-.78.8-2.07 0-2.86zM5.41 20L4 18.59l7.72-7.72 1.47 1.35L5.41 20z\"/>\n",
              "  </svg>\n",
              "      </button>\n",
              "      \n",
              "  <style>\n",
              "    .colab-df-container {\n",
              "      display:flex;\n",
              "      flex-wrap:wrap;\n",
              "      gap: 12px;\n",
              "    }\n",
              "\n",
              "    .colab-df-convert {\n",
              "      background-color: #E8F0FE;\n",
              "      border: none;\n",
              "      border-radius: 50%;\n",
              "      cursor: pointer;\n",
              "      display: none;\n",
              "      fill: #1967D2;\n",
              "      height: 32px;\n",
              "      padding: 0 0 0 0;\n",
              "      width: 32px;\n",
              "    }\n",
              "\n",
              "    .colab-df-convert:hover {\n",
              "      background-color: #E2EBFA;\n",
              "      box-shadow: 0px 1px 2px rgba(60, 64, 67, 0.3), 0px 1px 3px 1px rgba(60, 64, 67, 0.15);\n",
              "      fill: #174EA6;\n",
              "    }\n",
              "\n",
              "    [theme=dark] .colab-df-convert {\n",
              "      background-color: #3B4455;\n",
              "      fill: #D2E3FC;\n",
              "    }\n",
              "\n",
              "    [theme=dark] .colab-df-convert:hover {\n",
              "      background-color: #434B5C;\n",
              "      box-shadow: 0px 1px 3px 1px rgba(0, 0, 0, 0.15);\n",
              "      filter: drop-shadow(0px 1px 2px rgba(0, 0, 0, 0.3));\n",
              "      fill: #FFFFFF;\n",
              "    }\n",
              "  </style>\n",
              "\n",
              "      <script>\n",
              "        const buttonEl =\n",
              "          document.querySelector('#df-fdd3a916-8e61-45ea-8040-4edf2f287b86 button.colab-df-convert');\n",
              "        buttonEl.style.display =\n",
              "          google.colab.kernel.accessAllowed ? 'block' : 'none';\n",
              "\n",
              "        async function convertToInteractive(key) {\n",
              "          const element = document.querySelector('#df-fdd3a916-8e61-45ea-8040-4edf2f287b86');\n",
              "          const dataTable =\n",
              "            await google.colab.kernel.invokeFunction('convertToInteractive',\n",
              "                                                     [key], {});\n",
              "          if (!dataTable) return;\n",
              "\n",
              "          const docLinkHtml = 'Like what you see? Visit the ' +\n",
              "            '<a target=\"_blank\" href=https://colab.research.google.com/notebooks/data_table.ipynb>data table notebook</a>'\n",
              "            + ' to learn more about interactive tables.';\n",
              "          element.innerHTML = '';\n",
              "          dataTable['output_type'] = 'display_data';\n",
              "          await google.colab.output.renderOutput(dataTable, element);\n",
              "          const docLink = document.createElement('div');\n",
              "          docLink.innerHTML = docLinkHtml;\n",
              "          element.appendChild(docLink);\n",
              "        }\n",
              "      </script>\n",
              "    </div>\n",
              "  </div>\n",
              "  "
            ]
          },
          "metadata": {},
          "execution_count": 38
        }
      ]
    },
    {
      "cell_type": "code",
      "source": [
        "new_pcf_gen_common[\"pca\"] = (new_pcf_gen_common[\"Content\"]\n",
        "                             .pipe(hero.clean)\n",
        "                             .pipe(hero.tfidf)\n",
        "                             .pipe(hero.pca)\n",
        "                             )"
      ],
      "metadata": {
        "id": "psEBxQ0L5e90"
      },
      "execution_count": 39,
      "outputs": []
    },
    {
      "cell_type": "code",
      "source": [
        "hero.scatterplot(new_pcf_gen_common, col=\"pca\", title = \"PCA for Author Attribution\")"
      ],
      "metadata": {
        "colab": {
          "base_uri": "https://localhost:8080/",
          "height": 542
        },
        "id": "C3ZpkCvr5hAV",
        "outputId": "9baa6b5f-54e4-4b24-db7b-1aa420c47e87"
      },
      "execution_count": 40,
      "outputs": [
        {
          "output_type": "display_data",
          "data": {
            "text/html": [
              "<html>\n",
              "<head><meta charset=\"utf-8\" /></head>\n",
              "<body>\n",
              "    <div>            <script src=\"https://cdnjs.cloudflare.com/ajax/libs/mathjax/2.7.5/MathJax.js?config=TeX-AMS-MML_SVG\"></script><script type=\"text/javascript\">if (window.MathJax) {MathJax.Hub.Config({SVG: {font: \"STIX-Web\"}});}</script>                <script type=\"text/javascript\">window.PlotlyConfig = {MathJaxConfig: 'local'};</script>\n",
              "        <script src=\"https://cdn.plot.ly/plotly-2.8.3.min.js\"></script>                <div id=\"0c3794e3-6604-4be4-8727-15276890a7ab\" class=\"plotly-graph-div\" style=\"height:525px; width:100%;\"></div>            <script type=\"text/javascript\">                                    window.PLOTLYENV=window.PLOTLYENV || {};                                    if (document.getElementById(\"0c3794e3-6604-4be4-8727-15276890a7ab\")) {                    Plotly.newPlot(                        \"0c3794e3-6604-4be4-8727-15276890a7ab\",                        [{\"hovertemplate\":\"x=%{x}<br>y=%{y}<extra></extra>\",\"legendgroup\":\"\",\"marker\":{\"color\":\"#636efa\",\"symbol\":\"circle\"},\"mode\":\"markers\",\"name\":\"\",\"orientation\":\"v\",\"showlegend\":false,\"x\":[0.20081694184602442,-0.2500537412284263,0.27285866592316527,0.38935021963292993,-0.46242200978727604,-0.3327810390004823,0.4635287882787915,0.24108547207988176,0.3505934542066208,-0.23393402889573423,-0.4704303992127792,0.35686337749807856,0.3093136979025858,0.4045444379941196,0.5191419738429978,0.059661257764336305,-0.42296342738526793,-0.2074775546236373,-0.3895391110364186,-0.35753330793261845,-0.2644354848326077,0.07644645732116823,-0.2631861114968159,-0.3255576176187725,0.47034981313219293,0.48783265500715217,0.279447393437337,-0.044984512725408994,-0.47165694305415956,-0.22205166337652718,-0.26325185683362456,-0.35260478036035003,0.3056878755473513,0.3651706216077191,-0.22721465482118486,0.20368801836717412,-0.4276010772220473,0.13713929273799505,0.28841003602170345,-0.19113947443735618,0.43721615506788225,0.025180101590799635,-0.4019380556060007,0.2558556948604598,-0.20527430036209138,0.29096395746808007,-0.34493960064699486,0.3853080034535857,0.10054338187856543,0.15264770704404665,-0.36672409138431145,-0.15086039326504522,-0.34378857108465327,0.32965613505259456,-0.3557192779124896,0.2900587314885876,-0.024119180530148932,-0.0456904522929496,0.19348237589296755,-0.3093537388308355,0.07813695255503891,-0.03772033065090158,-0.3002485390028196,0.351614413583326,-0.25941523561023383,0.2448274144584759,0.009189088517248506],\"xaxis\":\"x\",\"y\":[-0.05796704355342441,0.7148565161726995,0.030394144846618808,-0.11866365570477168,0.36034859986640283,-0.3474919508639975,-0.015578798909492118,0.3046477381182589,0.0012013788175741602,-0.29377216534410727,0.37827997143375,0.009284556787032779,-0.02068396121200116,0.025616820741109263,0.048987797656848256,-0.1231233125607358,0.01818318759539862,-0.28794367238902707,-0.3189146289623969,-0.33462120988851857,0.5356382560475805,-0.11374936162816754,-0.20009326353509468,-0.2967620079948975,0.043652905149924544,0.04142666036443155,-0.025856486875187795,0.06632637754857527,0.3687761703078435,-0.22729921602579792,0.009220011853681827,-0.2935261417706513,-0.004195764345276218,-0.13584177441523798,-0.3114608416797242,0.1983289082511805,-0.3261096254813117,-0.09660766250015869,-0.017594141893662173,0.44724390643209083,0.03618668296842693,0.583653388059369,0.4442294411743513,-0.022174858570584047,-0.2801297990258011,-0.02508552711306185,0.6620966937140504,0.027213983597152026,-0.11660052002580443,0.015062153706816342,-0.3152980909440088,-0.2505642800232548,-0.2821862310900708,0.013664409859901652,0.38976253330377225,-0.018616865801528364,-0.18523222275790158,-0.15400709585857741,-0.06729741168755726,-0.2790578018803425,-0.06272286441565204,-0.16400788543727204,0.4362939224193191,0.032571066916196975,-0.23815687803091598,0.37129860209810295,-0.18545176561248153],\"yaxis\":\"y\",\"type\":\"scatter\"}],                        {\"template\":{\"data\":{\"bar\":[{\"error_x\":{\"color\":\"#2a3f5f\"},\"error_y\":{\"color\":\"#2a3f5f\"},\"marker\":{\"line\":{\"color\":\"#E5ECF6\",\"width\":0.5},\"pattern\":{\"fillmode\":\"overlay\",\"size\":10,\"solidity\":0.2}},\"type\":\"bar\"}],\"barpolar\":[{\"marker\":{\"line\":{\"color\":\"#E5ECF6\",\"width\":0.5},\"pattern\":{\"fillmode\":\"overlay\",\"size\":10,\"solidity\":0.2}},\"type\":\"barpolar\"}],\"carpet\":[{\"aaxis\":{\"endlinecolor\":\"#2a3f5f\",\"gridcolor\":\"white\",\"linecolor\":\"white\",\"minorgridcolor\":\"white\",\"startlinecolor\":\"#2a3f5f\"},\"baxis\":{\"endlinecolor\":\"#2a3f5f\",\"gridcolor\":\"white\",\"linecolor\":\"white\",\"minorgridcolor\":\"white\",\"startlinecolor\":\"#2a3f5f\"},\"type\":\"carpet\"}],\"choropleth\":[{\"colorbar\":{\"outlinewidth\":0,\"ticks\":\"\"},\"type\":\"choropleth\"}],\"contour\":[{\"colorbar\":{\"outlinewidth\":0,\"ticks\":\"\"},\"colorscale\":[[0.0,\"#0d0887\"],[0.1111111111111111,\"#46039f\"],[0.2222222222222222,\"#7201a8\"],[0.3333333333333333,\"#9c179e\"],[0.4444444444444444,\"#bd3786\"],[0.5555555555555556,\"#d8576b\"],[0.6666666666666666,\"#ed7953\"],[0.7777777777777778,\"#fb9f3a\"],[0.8888888888888888,\"#fdca26\"],[1.0,\"#f0f921\"]],\"type\":\"contour\"}],\"contourcarpet\":[{\"colorbar\":{\"outlinewidth\":0,\"ticks\":\"\"},\"type\":\"contourcarpet\"}],\"heatmap\":[{\"colorbar\":{\"outlinewidth\":0,\"ticks\":\"\"},\"colorscale\":[[0.0,\"#0d0887\"],[0.1111111111111111,\"#46039f\"],[0.2222222222222222,\"#7201a8\"],[0.3333333333333333,\"#9c179e\"],[0.4444444444444444,\"#bd3786\"],[0.5555555555555556,\"#d8576b\"],[0.6666666666666666,\"#ed7953\"],[0.7777777777777778,\"#fb9f3a\"],[0.8888888888888888,\"#fdca26\"],[1.0,\"#f0f921\"]],\"type\":\"heatmap\"}],\"heatmapgl\":[{\"colorbar\":{\"outlinewidth\":0,\"ticks\":\"\"},\"colorscale\":[[0.0,\"#0d0887\"],[0.1111111111111111,\"#46039f\"],[0.2222222222222222,\"#7201a8\"],[0.3333333333333333,\"#9c179e\"],[0.4444444444444444,\"#bd3786\"],[0.5555555555555556,\"#d8576b\"],[0.6666666666666666,\"#ed7953\"],[0.7777777777777778,\"#fb9f3a\"],[0.8888888888888888,\"#fdca26\"],[1.0,\"#f0f921\"]],\"type\":\"heatmapgl\"}],\"histogram\":[{\"marker\":{\"pattern\":{\"fillmode\":\"overlay\",\"size\":10,\"solidity\":0.2}},\"type\":\"histogram\"}],\"histogram2d\":[{\"colorbar\":{\"outlinewidth\":0,\"ticks\":\"\"},\"colorscale\":[[0.0,\"#0d0887\"],[0.1111111111111111,\"#46039f\"],[0.2222222222222222,\"#7201a8\"],[0.3333333333333333,\"#9c179e\"],[0.4444444444444444,\"#bd3786\"],[0.5555555555555556,\"#d8576b\"],[0.6666666666666666,\"#ed7953\"],[0.7777777777777778,\"#fb9f3a\"],[0.8888888888888888,\"#fdca26\"],[1.0,\"#f0f921\"]],\"type\":\"histogram2d\"}],\"histogram2dcontour\":[{\"colorbar\":{\"outlinewidth\":0,\"ticks\":\"\"},\"colorscale\":[[0.0,\"#0d0887\"],[0.1111111111111111,\"#46039f\"],[0.2222222222222222,\"#7201a8\"],[0.3333333333333333,\"#9c179e\"],[0.4444444444444444,\"#bd3786\"],[0.5555555555555556,\"#d8576b\"],[0.6666666666666666,\"#ed7953\"],[0.7777777777777778,\"#fb9f3a\"],[0.8888888888888888,\"#fdca26\"],[1.0,\"#f0f921\"]],\"type\":\"histogram2dcontour\"}],\"mesh3d\":[{\"colorbar\":{\"outlinewidth\":0,\"ticks\":\"\"},\"type\":\"mesh3d\"}],\"parcoords\":[{\"line\":{\"colorbar\":{\"outlinewidth\":0,\"ticks\":\"\"}},\"type\":\"parcoords\"}],\"pie\":[{\"automargin\":true,\"type\":\"pie\"}],\"scatter\":[{\"marker\":{\"colorbar\":{\"outlinewidth\":0,\"ticks\":\"\"}},\"type\":\"scatter\"}],\"scatter3d\":[{\"line\":{\"colorbar\":{\"outlinewidth\":0,\"ticks\":\"\"}},\"marker\":{\"colorbar\":{\"outlinewidth\":0,\"ticks\":\"\"}},\"type\":\"scatter3d\"}],\"scattercarpet\":[{\"marker\":{\"colorbar\":{\"outlinewidth\":0,\"ticks\":\"\"}},\"type\":\"scattercarpet\"}],\"scattergeo\":[{\"marker\":{\"colorbar\":{\"outlinewidth\":0,\"ticks\":\"\"}},\"type\":\"scattergeo\"}],\"scattergl\":[{\"marker\":{\"colorbar\":{\"outlinewidth\":0,\"ticks\":\"\"}},\"type\":\"scattergl\"}],\"scattermapbox\":[{\"marker\":{\"colorbar\":{\"outlinewidth\":0,\"ticks\":\"\"}},\"type\":\"scattermapbox\"}],\"scatterpolar\":[{\"marker\":{\"colorbar\":{\"outlinewidth\":0,\"ticks\":\"\"}},\"type\":\"scatterpolar\"}],\"scatterpolargl\":[{\"marker\":{\"colorbar\":{\"outlinewidth\":0,\"ticks\":\"\"}},\"type\":\"scatterpolargl\"}],\"scatterternary\":[{\"marker\":{\"colorbar\":{\"outlinewidth\":0,\"ticks\":\"\"}},\"type\":\"scatterternary\"}],\"surface\":[{\"colorbar\":{\"outlinewidth\":0,\"ticks\":\"\"},\"colorscale\":[[0.0,\"#0d0887\"],[0.1111111111111111,\"#46039f\"],[0.2222222222222222,\"#7201a8\"],[0.3333333333333333,\"#9c179e\"],[0.4444444444444444,\"#bd3786\"],[0.5555555555555556,\"#d8576b\"],[0.6666666666666666,\"#ed7953\"],[0.7777777777777778,\"#fb9f3a\"],[0.8888888888888888,\"#fdca26\"],[1.0,\"#f0f921\"]],\"type\":\"surface\"}],\"table\":[{\"cells\":{\"fill\":{\"color\":\"#EBF0F8\"},\"line\":{\"color\":\"white\"}},\"header\":{\"fill\":{\"color\":\"#C8D4E3\"},\"line\":{\"color\":\"white\"}},\"type\":\"table\"}]},\"layout\":{\"annotationdefaults\":{\"arrowcolor\":\"#2a3f5f\",\"arrowhead\":0,\"arrowwidth\":1},\"autotypenumbers\":\"strict\",\"coloraxis\":{\"colorbar\":{\"outlinewidth\":0,\"ticks\":\"\"}},\"colorscale\":{\"diverging\":[[0,\"#8e0152\"],[0.1,\"#c51b7d\"],[0.2,\"#de77ae\"],[0.3,\"#f1b6da\"],[0.4,\"#fde0ef\"],[0.5,\"#f7f7f7\"],[0.6,\"#e6f5d0\"],[0.7,\"#b8e186\"],[0.8,\"#7fbc41\"],[0.9,\"#4d9221\"],[1,\"#276419\"]],\"sequential\":[[0.0,\"#0d0887\"],[0.1111111111111111,\"#46039f\"],[0.2222222222222222,\"#7201a8\"],[0.3333333333333333,\"#9c179e\"],[0.4444444444444444,\"#bd3786\"],[0.5555555555555556,\"#d8576b\"],[0.6666666666666666,\"#ed7953\"],[0.7777777777777778,\"#fb9f3a\"],[0.8888888888888888,\"#fdca26\"],[1.0,\"#f0f921\"]],\"sequentialminus\":[[0.0,\"#0d0887\"],[0.1111111111111111,\"#46039f\"],[0.2222222222222222,\"#7201a8\"],[0.3333333333333333,\"#9c179e\"],[0.4444444444444444,\"#bd3786\"],[0.5555555555555556,\"#d8576b\"],[0.6666666666666666,\"#ed7953\"],[0.7777777777777778,\"#fb9f3a\"],[0.8888888888888888,\"#fdca26\"],[1.0,\"#f0f921\"]]},\"colorway\":[\"#636efa\",\"#EF553B\",\"#00cc96\",\"#ab63fa\",\"#FFA15A\",\"#19d3f3\",\"#FF6692\",\"#B6E880\",\"#FF97FF\",\"#FECB52\"],\"font\":{\"color\":\"#2a3f5f\"},\"geo\":{\"bgcolor\":\"white\",\"lakecolor\":\"white\",\"landcolor\":\"#E5ECF6\",\"showlakes\":true,\"showland\":true,\"subunitcolor\":\"white\"},\"hoverlabel\":{\"align\":\"left\"},\"hovermode\":\"closest\",\"mapbox\":{\"style\":\"light\"},\"paper_bgcolor\":\"white\",\"plot_bgcolor\":\"#E5ECF6\",\"polar\":{\"angularaxis\":{\"gridcolor\":\"white\",\"linecolor\":\"white\",\"ticks\":\"\"},\"bgcolor\":\"#E5ECF6\",\"radialaxis\":{\"gridcolor\":\"white\",\"linecolor\":\"white\",\"ticks\":\"\"}},\"scene\":{\"xaxis\":{\"backgroundcolor\":\"#E5ECF6\",\"gridcolor\":\"white\",\"gridwidth\":2,\"linecolor\":\"white\",\"showbackground\":true,\"ticks\":\"\",\"zerolinecolor\":\"white\"},\"yaxis\":{\"backgroundcolor\":\"#E5ECF6\",\"gridcolor\":\"white\",\"gridwidth\":2,\"linecolor\":\"white\",\"showbackground\":true,\"ticks\":\"\",\"zerolinecolor\":\"white\"},\"zaxis\":{\"backgroundcolor\":\"#E5ECF6\",\"gridcolor\":\"white\",\"gridwidth\":2,\"linecolor\":\"white\",\"showbackground\":true,\"ticks\":\"\",\"zerolinecolor\":\"white\"}},\"shapedefaults\":{\"line\":{\"color\":\"#2a3f5f\"}},\"ternary\":{\"aaxis\":{\"gridcolor\":\"white\",\"linecolor\":\"white\",\"ticks\":\"\"},\"baxis\":{\"gridcolor\":\"white\",\"linecolor\":\"white\",\"ticks\":\"\"},\"bgcolor\":\"#E5ECF6\",\"caxis\":{\"gridcolor\":\"white\",\"linecolor\":\"white\",\"ticks\":\"\"}},\"title\":{\"x\":0.05},\"xaxis\":{\"automargin\":true,\"gridcolor\":\"white\",\"linecolor\":\"white\",\"ticks\":\"\",\"title\":{\"standoff\":15},\"zerolinecolor\":\"white\",\"zerolinewidth\":2},\"yaxis\":{\"automargin\":true,\"gridcolor\":\"white\",\"linecolor\":\"white\",\"ticks\":\"\",\"title\":{\"standoff\":15},\"zerolinecolor\":\"white\",\"zerolinewidth\":2}}},\"xaxis\":{\"anchor\":\"y\",\"domain\":[0.0,1.0],\"title\":{\"text\":\"x\"}},\"yaxis\":{\"anchor\":\"x\",\"domain\":[0.0,1.0],\"title\":{\"text\":\"y\"}},\"legend\":{\"tracegroupgap\":0},\"title\":{\"text\":\"PCA for Author Attribution\"}},                        {\"responsive\": true}                    ).then(function(){\n",
              "                            \n",
              "var gd = document.getElementById('0c3794e3-6604-4be4-8727-15276890a7ab');\n",
              "var x = new MutationObserver(function (mutations, observer) {{\n",
              "        var display = window.getComputedStyle(gd).display;\n",
              "        if (!display || display === 'none') {{\n",
              "            console.log([gd, 'removed!']);\n",
              "            Plotly.purge(gd);\n",
              "            observer.disconnect();\n",
              "        }}\n",
              "}});\n",
              "\n",
              "// Listen for the removal of the full notebook cells\n",
              "var notebookContainer = gd.closest('#notebook-container');\n",
              "if (notebookContainer) {{\n",
              "    x.observe(notebookContainer, {childList: true});\n",
              "}}\n",
              "\n",
              "// Listen for the clearing of the current output cell\n",
              "var outputEl = gd.closest('.output');\n",
              "if (outputEl) {{\n",
              "    x.observe(outputEl, {childList: true});\n",
              "}}\n",
              "\n",
              "                        })                };                            </script>        </div>\n",
              "</body>\n",
              "</html>"
            ]
          },
          "metadata": {}
        }
      ]
    },
    {
      "cell_type": "code",
      "source": [
        "from sklearn.feature_extraction.text import TfidfVectorizer"
      ],
      "metadata": {
        "id": "KMSAfMwb5mdN"
      },
      "execution_count": 41,
      "outputs": []
    },
    {
      "cell_type": "code",
      "source": [
        "docs = new_pcf_gen_common[\"Content\"].values.astype(\"U\")"
      ],
      "metadata": {
        "id": "I55YP1lD50l9"
      },
      "execution_count": 42,
      "outputs": []
    },
    {
      "cell_type": "code",
      "source": [
        "vectorizer = TfidfVectorizer(stop_words='english')\n",
        "features = vectorizer.fit_transform(docs)"
      ],
      "metadata": {
        "id": "rfUFADbZ52wG"
      },
      "execution_count": 43,
      "outputs": []
    },
    {
      "cell_type": "code",
      "source": [
        "features.shape"
      ],
      "metadata": {
        "colab": {
          "base_uri": "https://localhost:8080/"
        },
        "id": "SIAmwVap54Tc",
        "outputId": "4f5873db-aab2-419b-e06f-490c4c102f4a"
      },
      "execution_count": 44,
      "outputs": [
        {
          "output_type": "execute_result",
          "data": {
            "text/plain": [
              "(67, 46840)"
            ]
          },
          "metadata": {},
          "execution_count": 44
        }
      ]
    },
    {
      "cell_type": "code",
      "source": [
        "from sklearn.cluster import DBSCAN"
      ],
      "metadata": {
        "id": "d0d5cnR455ms"
      },
      "execution_count": 45,
      "outputs": []
    },
    {
      "cell_type": "code",
      "source": [
        "import pandas as pd\n",
        "from sklearn.cluster import DBSCAN\n",
        "from sklearn.neighbors import NearestNeighbors\n",
        "import matplotlib.pyplot as plt\n",
        "%matplotlib inline"
      ],
      "metadata": {
        "id": "q0F47ejp6D1V"
      },
      "execution_count": 46,
      "outputs": []
    },
    {
      "cell_type": "code",
      "source": [
        "min_samples = new_pcf_gen_common.shape[1]*2\n",
        "clustering = DBSCAN(eps=0.7,min_samples=min_samples).fit(features)\n",
        "cluster = clustering.labels_"
      ],
      "metadata": {
        "id": "XUkNb0As6KKk"
      },
      "execution_count": 47,
      "outputs": []
    },
    {
      "cell_type": "code",
      "source": [
        "cluster"
      ],
      "metadata": {
        "colab": {
          "base_uri": "https://localhost:8080/"
        },
        "id": "Ztz4Ao8K6d1W",
        "outputId": "314668a8-2b7f-492b-8451-17b9d2f89867"
      },
      "execution_count": 48,
      "outputs": [
        {
          "output_type": "execute_result",
          "data": {
            "text/plain": [
              "array([-1, -1, -1, -1, -1, -1, -1, -1, -1, -1,  0, -1, -1, -1, -1, -1, -1,\n",
              "       -1,  0,  0, -1, -1, -1, -1, -1, -1, -1, -1,  0, -1, -1, -1, -1, -1,\n",
              "       -1, -1,  0, -1, -1, -1, -1, -1, -1, -1, -1, -1, -1, -1, -1, -1, -1,\n",
              "       -1,  0, -1, -1, -1, -1, -1, -1, -1, -1, -1, -1, -1, -1, -1, -1])"
            ]
          },
          "metadata": {},
          "execution_count": 48
        }
      ]
    },
    {
      "cell_type": "code",
      "source": [
        "k = min_samples if min_samples > 2 else 2\n",
        "nbrs = NearestNeighbors(n_neighbors=k).fit(features)\n",
        "distances, indices = nbrs.kneighbors(features)"
      ],
      "metadata": {
        "id": "R73VAWL26fZD"
      },
      "execution_count": 49,
      "outputs": []
    },
    {
      "cell_type": "code",
      "source": [
        "distances.shape"
      ],
      "metadata": {
        "colab": {
          "base_uri": "https://localhost:8080/"
        },
        "id": "Y_Q0YjZ56lOn",
        "outputId": "e2d0bfe2-8873-493d-85f0-0de91013569e"
      },
      "execution_count": 50,
      "outputs": [
        {
          "output_type": "execute_result",
          "data": {
            "text/plain": [
              "(67, 6)"
            ]
          },
          "metadata": {},
          "execution_count": 50
        }
      ]
    },
    {
      "cell_type": "code",
      "source": [
        "for enum, row in enumerate(distances[:]):\n",
        "    print('observation' + str(enum)+ ':' + str([round(x,2) for x in row]))"
      ],
      "metadata": {
        "colab": {
          "base_uri": "https://localhost:8080/"
        },
        "id": "A3vSIN8b6m_N",
        "outputId": "5ce6c224-2123-4e5e-eb6b-064ec02d0774"
      },
      "execution_count": 51,
      "outputs": [
        {
          "output_type": "stream",
          "name": "stdout",
          "text": [
            "observation0:[0.0, 1.27, 1.27, 1.28, 1.28, 1.28]\n",
            "observation1:[0.0, 0.86, 0.86, 0.89, 0.89, 0.9]\n",
            "observation2:[0.0, 1.08, 1.09, 1.27, 1.29, 1.3]\n",
            "observation3:[0.0, 0.33, 1.08, 1.19, 1.2, 1.22]\n",
            "observation4:[0.0, 0.66, 0.7, 0.7, 0.71, 0.76]\n",
            "observation5:[0.0, 0.69, 0.75, 0.78, 0.8, 0.8]\n",
            "observation6:[0.0, 1.2, 1.21, 1.22, 1.29, 1.32]\n",
            "observation7:[0.0, 1.35, 1.36, 1.36, 1.36, 1.36]\n",
            "observation8:[0.0, 1.33, 1.35, 1.36, 1.36, 1.37]\n",
            "observation9:[0.0, 0.93, 0.93, 0.95, 0.95, 0.96]\n",
            "observation10:[0.0, 0.68, 0.69, 0.7, 0.7, 0.71]\n",
            "observation11:[0.0, 1.37, 1.38, 1.38, 1.38, 1.38]\n",
            "observation12:[0.0, 1.33, 1.34, 1.34, 1.34, 1.34]\n",
            "observation13:[0.0, 1.29, 1.33, 1.35, 1.36, 1.37]\n",
            "observation14:[0.0, 0.95, 1.08, 1.12, 1.22, 1.27]\n",
            "observation15:[0.0, 1.15, 1.15, 1.17, 1.17, 1.18]\n",
            "observation16:[0.0, 0.78, 0.8, 0.8, 0.81, 0.82]\n",
            "observation17:[0.0, 0.9, 0.9, 0.92, 0.92, 0.95]\n",
            "observation18:[0.0, 0.65, 0.66, 0.68, 0.69, 0.71]\n",
            "observation19:[0.0, 0.58, 0.73, 0.74, 0.75, 0.75]\n",
            "observation20:[0.0, 0.95, 0.96, 0.99, 1.02, 1.03]\n",
            "observation21:[0.0, 1.19, 1.2, 1.2, 1.21, 1.21]\n",
            "observation22:[0.0, 0.79, 0.85, 0.87, 0.88, 0.9]\n",
            "observation23:[0.0, 0.76, 0.77, 0.77, 0.78, 0.78]\n",
            "observation24:[0.0, 1.08, 1.2, 1.27, 1.32, 1.35]\n",
            "observation25:[0.0, 0.95, 1.2, 1.23, 1.29, 1.33]\n",
            "observation26:[0.0, 1.34, 1.34, 1.34, 1.35, 1.35]\n",
            "observation27:[0.0, 1.11, 1.11, 1.13, 1.15, 1.16]\n",
            "observation28:[0.0, 0.68, 0.7, 0.71, 0.71, 0.73]\n",
            "observation29:[0.0, 0.8, 0.88, 0.91, 0.91, 0.94]\n",
            "observation30:[0.0, 0.9, 0.95, 0.96, 0.98, 0.98]\n",
            "observation31:[0.0, 0.72, 0.74, 0.8, 0.81, 0.82]\n",
            "observation32:[0.0, 1.33, 1.34, 1.36, 1.36, 1.36]\n",
            "observation33:[0.0, 0.33, 1.09, 1.17, 1.19, 1.21]\n",
            "observation34:[0.0, 0.83, 0.85, 0.86, 0.87, 0.9]\n",
            "observation35:[0.0, 1.3, 1.33, 1.33, 1.33, 1.34]\n",
            "observation36:[0.0, 0.58, 0.65, 0.67, 0.68, 0.7]\n",
            "observation37:[0.0, 1.22, 1.23, 1.24, 1.24, 1.25]\n",
            "observation38:[0.0, 1.33, 1.33, 1.34, 1.34, 1.34]\n",
            "observation39:[0.0, 1.12, 1.14, 1.14, 1.15, 1.15]\n",
            "observation40:[0.0, 1.12, 1.23, 1.24, 1.27, 1.33]\n",
            "observation41:[0.0, 1.26, 1.27, 1.28, 1.28, 1.28]\n",
            "observation42:[0.0, 0.78, 0.81, 0.82, 0.82, 0.83]\n",
            "observation43:[0.0, 1.3, 1.31, 1.32, 1.32, 1.32]\n",
            "observation44:[0.0, 0.79, 0.9, 0.92, 0.95, 0.97]\n",
            "observation45:[0.0, 1.32, 1.32, 1.33, 1.33, 1.33]\n",
            "observation46:[0.0, 0.69, 0.7, 0.7, 0.71, 0.73]\n",
            "observation47:[0.0, 1.35, 1.36, 1.36, 1.37, 1.38]\n",
            "observation48:[0.0, 1.15, 1.19, 1.2, 1.2, 1.21]\n",
            "observation49:[0.0, 1.28, 1.29, 1.29, 1.29, 1.29]\n",
            "observation50:[0.0, 0.7, 0.72, 0.75, 0.77, 0.79]\n",
            "observation51:[0.0, 0.9, 0.92, 0.94, 0.95, 0.96]\n",
            "observation52:[0.0, 0.67, 0.75, 0.77, 0.78, 0.82]\n",
            "observation53:[0.0, 1.34, 1.35, 1.35, 1.36, 1.37]\n",
            "observation54:[0.0, 0.8, 0.89, 0.92, 0.92, 0.92]\n",
            "observation55:[0.0, 1.33, 1.34, 1.34, 1.34, 1.35]\n",
            "observation56:[0.0, 1.07, 1.11, 1.13, 1.14, 1.17]\n",
            "observation57:[0.0, 1.08, 1.11, 1.11, 1.12, 1.12]\n",
            "observation58:[0.0, 1.26, 1.28, 1.29, 1.29, 1.3]\n",
            "observation59:[0.0, 0.8, 0.8, 0.84, 0.85, 0.85]\n",
            "observation60:[0.0, 1.18, 1.19, 1.19, 1.19, 1.21]\n",
            "observation61:[0.0, 1.07, 1.08, 1.1, 1.11, 1.11]\n",
            "observation62:[0.0, 0.96, 0.99, 1.0, 1.0, 1.01]\n",
            "observation63:[0.0, 1.32, 1.35, 1.36, 1.36, 1.36]\n",
            "observation64:[0.0, 0.87, 0.89, 0.91, 0.93, 0.93]\n",
            "observation65:[0.0, 1.24, 1.39, 1.39, 1.39, 1.4]\n",
            "observation66:[0.0, 1.12, 1.13, 1.16, 1.16, 1.16]\n"
          ]
        }
      ]
    },
    {
      "cell_type": "code",
      "source": [
        "new_pcf_gen_common[\"knn_farthest_dist\"] = distances[:,-1]"
      ],
      "metadata": {
        "id": "M4GJn7Dn6xBo"
      },
      "execution_count": 52,
      "outputs": []
    },
    {
      "cell_type": "code",
      "source": [
        "new_pcf_gen_common"
      ],
      "metadata": {
        "colab": {
          "base_uri": "https://localhost:8080/",
          "height": 455
        },
        "id": "OVTodHzb61fe",
        "outputId": "88ccfd22-fa66-424d-ca90-287314263d73"
      },
      "execution_count": 53,
      "outputs": [
        {
          "output_type": "execute_result",
          "data": {
            "text/plain": [
              "                                   Author  \\\n",
              "AuthorID                                    \n",
              "85614143951892480           UB3R-B0T#3802   \n",
              "106634422022860800    MaralinaSakura#1304   \n",
              "155149108183695360              Dyno#3861   \n",
              "172002275412279296             Tatsu#8792   \n",
              "173889000015134720             faede#0003   \n",
              "...                                   ...   \n",
              "786672447935348737  cressidastclaire#3536   \n",
              "806489789574545458      Hell-Volhard#4976   \n",
              "831172293945720852         Yume Not.#8543   \n",
              "873569055733329951    James Hametson#9998   \n",
              "899901520701714493     Kaleen Bhaiya#5212   \n",
              "\n",
              "                                                              Content  \\\n",
              "AuthorID                                                                \n",
              "85614143951892480   woah there buttmunch tryin' to cheat the syste...   \n",
              "106634422022860800  :javoShock: I got to think about it,Thanks!,Fa...   \n",
              "155149108183695360  nan,nan,Wife: Honey I’m pregnant.\\r\\n\\r\\nMe: W...   \n",
              "172002275412279296  nan,nan,nan,> **Viewing server rankings • [** ...   \n",
              "173889000015134720  uhh dskdjdl probably high school story and mic...   \n",
              "...                                                               ...   \n",
              "786672447935348737  hello! glad to be here.,pig practicals in biol...   \n",
              "806489789574545458                                       sure, thanks   \n",
              "831172293945720852  Hiiiiiii,And we may or may not regret it lol 🤣...   \n",
              "873569055733329951  Where’s the invite to the datamining server again   \n",
              "899901520701714493  that chapter was so boring,not really because ...   \n",
              "\n",
              "                                                             pca  \\\n",
              "AuthorID                                                           \n",
              "85614143951892480    [0.20081694184602442, -0.05796704355342441]   \n",
              "106634422022860800     [-0.2500537412284263, 0.7148565161726995]   \n",
              "155149108183695360   [0.27285866592316527, 0.030394144846618808]   \n",
              "172002275412279296   [0.38935021963292993, -0.11866365570477168]   \n",
              "173889000015134720   [-0.46242200978727604, 0.36034859986640283]   \n",
              "...                                                          ...   \n",
              "786672447935348737     [-0.3002485390028196, 0.4362939224193191]   \n",
              "806489789574545458     [0.351614413583326, 0.032571066916196975]   \n",
              "831172293945720852  [-0.25941523561023383, -0.23815687803091598]   \n",
              "873569055733329951     [0.2448274144584759, 0.37129860209810295]   \n",
              "899901520701714493  [0.009189088517248506, -0.18545176561248153]   \n",
              "\n",
              "                    knn_farthest_dist  \n",
              "AuthorID                               \n",
              "85614143951892480            1.280868  \n",
              "106634422022860800           0.903635  \n",
              "155149108183695360           1.301514  \n",
              "172002275412279296           1.222167  \n",
              "173889000015134720           0.758832  \n",
              "...                               ...  \n",
              "786672447935348737           1.009300  \n",
              "806489789574545458           1.364847  \n",
              "831172293945720852           0.933755  \n",
              "873569055733329951           1.396754  \n",
              "899901520701714493           1.164715  \n",
              "\n",
              "[67 rows x 4 columns]"
            ],
            "text/html": [
              "\n",
              "  <div id=\"df-c45b4489-8614-4b11-b9ae-92cecf1af7e2\">\n",
              "    <div class=\"colab-df-container\">\n",
              "      <div>\n",
              "<style scoped>\n",
              "    .dataframe tbody tr th:only-of-type {\n",
              "        vertical-align: middle;\n",
              "    }\n",
              "\n",
              "    .dataframe tbody tr th {\n",
              "        vertical-align: top;\n",
              "    }\n",
              "\n",
              "    .dataframe thead th {\n",
              "        text-align: right;\n",
              "    }\n",
              "</style>\n",
              "<table border=\"1\" class=\"dataframe\">\n",
              "  <thead>\n",
              "    <tr style=\"text-align: right;\">\n",
              "      <th></th>\n",
              "      <th>Author</th>\n",
              "      <th>Content</th>\n",
              "      <th>pca</th>\n",
              "      <th>knn_farthest_dist</th>\n",
              "    </tr>\n",
              "    <tr>\n",
              "      <th>AuthorID</th>\n",
              "      <th></th>\n",
              "      <th></th>\n",
              "      <th></th>\n",
              "      <th></th>\n",
              "    </tr>\n",
              "  </thead>\n",
              "  <tbody>\n",
              "    <tr>\n",
              "      <th>85614143951892480</th>\n",
              "      <td>UB3R-B0T#3802</td>\n",
              "      <td>woah there buttmunch tryin' to cheat the syste...</td>\n",
              "      <td>[0.20081694184602442, -0.05796704355342441]</td>\n",
              "      <td>1.280868</td>\n",
              "    </tr>\n",
              "    <tr>\n",
              "      <th>106634422022860800</th>\n",
              "      <td>MaralinaSakura#1304</td>\n",
              "      <td>:javoShock: I got to think about it,Thanks!,Fa...</td>\n",
              "      <td>[-0.2500537412284263, 0.7148565161726995]</td>\n",
              "      <td>0.903635</td>\n",
              "    </tr>\n",
              "    <tr>\n",
              "      <th>155149108183695360</th>\n",
              "      <td>Dyno#3861</td>\n",
              "      <td>nan,nan,Wife: Honey I’m pregnant.\\r\\n\\r\\nMe: W...</td>\n",
              "      <td>[0.27285866592316527, 0.030394144846618808]</td>\n",
              "      <td>1.301514</td>\n",
              "    </tr>\n",
              "    <tr>\n",
              "      <th>172002275412279296</th>\n",
              "      <td>Tatsu#8792</td>\n",
              "      <td>nan,nan,nan,&gt; **Viewing server rankings • [** ...</td>\n",
              "      <td>[0.38935021963292993, -0.11866365570477168]</td>\n",
              "      <td>1.222167</td>\n",
              "    </tr>\n",
              "    <tr>\n",
              "      <th>173889000015134720</th>\n",
              "      <td>faede#0003</td>\n",
              "      <td>uhh dskdjdl probably high school story and mic...</td>\n",
              "      <td>[-0.46242200978727604, 0.36034859986640283]</td>\n",
              "      <td>0.758832</td>\n",
              "    </tr>\n",
              "    <tr>\n",
              "      <th>...</th>\n",
              "      <td>...</td>\n",
              "      <td>...</td>\n",
              "      <td>...</td>\n",
              "      <td>...</td>\n",
              "    </tr>\n",
              "    <tr>\n",
              "      <th>786672447935348737</th>\n",
              "      <td>cressidastclaire#3536</td>\n",
              "      <td>hello! glad to be here.,pig practicals in biol...</td>\n",
              "      <td>[-0.3002485390028196, 0.4362939224193191]</td>\n",
              "      <td>1.009300</td>\n",
              "    </tr>\n",
              "    <tr>\n",
              "      <th>806489789574545458</th>\n",
              "      <td>Hell-Volhard#4976</td>\n",
              "      <td>sure, thanks</td>\n",
              "      <td>[0.351614413583326, 0.032571066916196975]</td>\n",
              "      <td>1.364847</td>\n",
              "    </tr>\n",
              "    <tr>\n",
              "      <th>831172293945720852</th>\n",
              "      <td>Yume Not.#8543</td>\n",
              "      <td>Hiiiiiii,And we may or may not regret it lol 🤣...</td>\n",
              "      <td>[-0.25941523561023383, -0.23815687803091598]</td>\n",
              "      <td>0.933755</td>\n",
              "    </tr>\n",
              "    <tr>\n",
              "      <th>873569055733329951</th>\n",
              "      <td>James Hametson#9998</td>\n",
              "      <td>Where’s the invite to the datamining server again</td>\n",
              "      <td>[0.2448274144584759, 0.37129860209810295]</td>\n",
              "      <td>1.396754</td>\n",
              "    </tr>\n",
              "    <tr>\n",
              "      <th>899901520701714493</th>\n",
              "      <td>Kaleen Bhaiya#5212</td>\n",
              "      <td>that chapter was so boring,not really because ...</td>\n",
              "      <td>[0.009189088517248506, -0.18545176561248153]</td>\n",
              "      <td>1.164715</td>\n",
              "    </tr>\n",
              "  </tbody>\n",
              "</table>\n",
              "<p>67 rows × 4 columns</p>\n",
              "</div>\n",
              "      <button class=\"colab-df-convert\" onclick=\"convertToInteractive('df-c45b4489-8614-4b11-b9ae-92cecf1af7e2')\"\n",
              "              title=\"Convert this dataframe to an interactive table.\"\n",
              "              style=\"display:none;\">\n",
              "        \n",
              "  <svg xmlns=\"http://www.w3.org/2000/svg\" height=\"24px\"viewBox=\"0 0 24 24\"\n",
              "       width=\"24px\">\n",
              "    <path d=\"M0 0h24v24H0V0z\" fill=\"none\"/>\n",
              "    <path d=\"M18.56 5.44l.94 2.06.94-2.06 2.06-.94-2.06-.94-.94-2.06-.94 2.06-2.06.94zm-11 1L8.5 8.5l.94-2.06 2.06-.94-2.06-.94L8.5 2.5l-.94 2.06-2.06.94zm10 10l.94 2.06.94-2.06 2.06-.94-2.06-.94-.94-2.06-.94 2.06-2.06.94z\"/><path d=\"M17.41 7.96l-1.37-1.37c-.4-.4-.92-.59-1.43-.59-.52 0-1.04.2-1.43.59L10.3 9.45l-7.72 7.72c-.78.78-.78 2.05 0 2.83L4 21.41c.39.39.9.59 1.41.59.51 0 1.02-.2 1.41-.59l7.78-7.78 2.81-2.81c.8-.78.8-2.07 0-2.86zM5.41 20L4 18.59l7.72-7.72 1.47 1.35L5.41 20z\"/>\n",
              "  </svg>\n",
              "      </button>\n",
              "      \n",
              "  <style>\n",
              "    .colab-df-container {\n",
              "      display:flex;\n",
              "      flex-wrap:wrap;\n",
              "      gap: 12px;\n",
              "    }\n",
              "\n",
              "    .colab-df-convert {\n",
              "      background-color: #E8F0FE;\n",
              "      border: none;\n",
              "      border-radius: 50%;\n",
              "      cursor: pointer;\n",
              "      display: none;\n",
              "      fill: #1967D2;\n",
              "      height: 32px;\n",
              "      padding: 0 0 0 0;\n",
              "      width: 32px;\n",
              "    }\n",
              "\n",
              "    .colab-df-convert:hover {\n",
              "      background-color: #E2EBFA;\n",
              "      box-shadow: 0px 1px 2px rgba(60, 64, 67, 0.3), 0px 1px 3px 1px rgba(60, 64, 67, 0.15);\n",
              "      fill: #174EA6;\n",
              "    }\n",
              "\n",
              "    [theme=dark] .colab-df-convert {\n",
              "      background-color: #3B4455;\n",
              "      fill: #D2E3FC;\n",
              "    }\n",
              "\n",
              "    [theme=dark] .colab-df-convert:hover {\n",
              "      background-color: #434B5C;\n",
              "      box-shadow: 0px 1px 3px 1px rgba(0, 0, 0, 0.15);\n",
              "      filter: drop-shadow(0px 1px 2px rgba(0, 0, 0, 0.3));\n",
              "      fill: #FFFFFF;\n",
              "    }\n",
              "  </style>\n",
              "\n",
              "      <script>\n",
              "        const buttonEl =\n",
              "          document.querySelector('#df-c45b4489-8614-4b11-b9ae-92cecf1af7e2 button.colab-df-convert');\n",
              "        buttonEl.style.display =\n",
              "          google.colab.kernel.accessAllowed ? 'block' : 'none';\n",
              "\n",
              "        async function convertToInteractive(key) {\n",
              "          const element = document.querySelector('#df-c45b4489-8614-4b11-b9ae-92cecf1af7e2');\n",
              "          const dataTable =\n",
              "            await google.colab.kernel.invokeFunction('convertToInteractive',\n",
              "                                                     [key], {});\n",
              "          if (!dataTable) return;\n",
              "\n",
              "          const docLinkHtml = 'Like what you see? Visit the ' +\n",
              "            '<a target=\"_blank\" href=https://colab.research.google.com/notebooks/data_table.ipynb>data table notebook</a>'\n",
              "            + ' to learn more about interactive tables.';\n",
              "          element.innerHTML = '';\n",
              "          dataTable['output_type'] = 'display_data';\n",
              "          await google.colab.output.renderOutput(dataTable, element);\n",
              "          const docLink = document.createElement('div');\n",
              "          docLink.innerHTML = docLinkHtml;\n",
              "          element.appendChild(docLink);\n",
              "        }\n",
              "      </script>\n",
              "    </div>\n",
              "  </div>\n",
              "  "
            ]
          },
          "metadata": {},
          "execution_count": 53
        }
      ]
    },
    {
      "cell_type": "code",
      "source": [
        "new_pcf_gen_common.sort_values(\"knn_farthest_dist\", ascending = False).reset_index()[[\"knn_farthest_dist\"]].plot()\n",
        "plt.xlabel(\"index\")\n",
        "plt.ylabel(\"distance\")\n",
        "plt.grid(True)\n",
        "plt.show()"
      ],
      "metadata": {
        "colab": {
          "base_uri": "https://localhost:8080/",
          "height": 279
        },
        "id": "GhUxSKye62sD",
        "outputId": "b809fdf4-522c-4478-c0b9-8c51cdb7f2ab"
      },
      "execution_count": 54,
      "outputs": [
        {
          "output_type": "display_data",
          "data": {
            "text/plain": [
              "<Figure size 432x288 with 1 Axes>"
            ],
            "image/png": "[encoded data removed]"
          },
          "metadata": {
            "needs_background": "light"
          }
        }
      ]
    },
    {
      "cell_type": "code",
      "source": [
        "km = DBSCAN(eps = 1, min_samples = min_samples)\n",
        "cluster_dbscan = km.fit(features)\n",
        "cluster = cluster_dbscan.labels_"
      ],
      "metadata": {
        "id": "9nJsuLGV64rJ"
      },
      "execution_count": 55,
      "outputs": []
    },
    {
      "cell_type": "code",
      "source": [
        "cluster"
      ],
      "metadata": {
        "colab": {
          "base_uri": "https://localhost:8080/"
        },
        "id": "4Z9rWhI46-UA",
        "outputId": "7af4b6f5-3e40-459b-d5e3-4e8b6da24312"
      },
      "execution_count": 56,
      "outputs": [
        {
          "output_type": "execute_result",
          "data": {
            "text/plain": [
              "array([-1,  0, -1, -1,  0,  0, -1, -1, -1,  0,  0, -1, -1, -1, -1, -1,  0,\n",
              "        0,  0,  0,  0, -1,  0,  0, -1, -1, -1, -1,  0,  0,  0,  0, -1, -1,\n",
              "        0, -1,  0, -1, -1, -1, -1, -1,  0, -1,  0, -1,  0, -1, -1, -1,  0,\n",
              "        0,  0, -1,  0, -1, -1, -1, -1,  0, -1, -1,  0, -1,  0, -1, -1])"
            ]
          },
          "metadata": {},
          "execution_count": 56
        }
      ]
    },
    {
      "cell_type": "code",
      "source": [
        "from sklearn import metrics"
      ],
      "metadata": {
        "id": "XJ7eyWmK7Ac6"
      },
      "execution_count": 57,
      "outputs": []
    },
    {
      "cell_type": "code",
      "source": [
        "ss = metrics.silhouette_score(features.toarray(),cluster, metric = \"euclidean\",sample_size = 1000, random_state = 200)"
      ],
      "metadata": {
        "id": "rge2z5947F4b"
      },
      "execution_count": 58,
      "outputs": []
    },
    {
      "cell_type": "code",
      "source": [
        "print(ss)"
      ],
      "metadata": {
        "colab": {
          "base_uri": "https://localhost:8080/"
        },
        "id": "iNZiS1mN7K-n",
        "outputId": "22ed7db1-08f0-457b-f4ea-e56c4b9968a5"
      },
      "execution_count": 59,
      "outputs": [
        {
          "output_type": "stream",
          "name": "stdout",
          "text": [
            "0.08860815116020929\n"
          ]
        }
      ]
    },
    {
      "cell_type": "code",
      "source": [
        "dbi = metrics.davies_bouldin_score(features.toarray(),cluster)"
      ],
      "metadata": {
        "id": "75wJBPmR7NLr"
      },
      "execution_count": 61,
      "outputs": []
    },
    {
      "cell_type": "code",
      "source": [
        "print(dbi)"
      ],
      "metadata": {
        "colab": {
          "base_uri": "https://localhost:8080/"
        },
        "id": "eTdXuS587P46",
        "outputId": "fcb16ece-bbbc-45f8-9887-cc01f25a74cc"
      },
      "execution_count": 62,
      "outputs": [
        {
          "output_type": "stream",
          "name": "stdout",
          "text": [
            "2.6859493321358814\n"
          ]
        }
      ]
    },
    {
      "cell_type": "code",
      "source": [],
      "metadata": {
        "id": "Pn0bQUq47Uiy"
      },
      "execution_count": null,
      "outputs": []
    }
  ]
}