{
 "cells": [
  {
   "cell_type": "markdown",
   "metadata": {},
   "source": [
    "# Implementing common ML and DL models"
   ]
  },
  {
   "cell_type": "markdown",
   "metadata": {},
   "source": [
    "## Import Stuff"
   ]
  },
  {
   "cell_type": "code",
   "execution_count": 1,
   "metadata": {},
   "outputs": [],
   "source": [
    "# import stuff\n",
    "import pandas as pd\n",
    "import numpy as np\n",
    "# import matplotlib.pyplot as plt\n",
    "# %matplotlib inline\n",
    "# import seaborn as sns\n",
    "\n",
    "import warnings\n",
    "warnings.filterwarnings(\"ignore\")\n",
    "\n",
    "import os\n",
    "import re\n",
    "import string\n",
    "import nltk\n",
    "from nltk.corpus import stopwords\n",
    "from nltk.stem import PorterStemmer\n",
    "from nltk.tokenize import word_tokenize\n",
    "\n",
    "from sklearn.feature_extraction.text import CountVectorizer"
   ]
  },
  {
   "cell_type": "code",
   "execution_count": null,
   "metadata": {},
   "outputs": [],
   "source": []
  },
  {
   "cell_type": "markdown",
   "metadata": {},
   "source": [
    "## Load Data"
   ]
  },
  {
   "cell_type": "code",
   "execution_count": 2,
   "metadata": {},
   "outputs": [],
   "source": [
    "pcf_gen = pd.read_csv(\"./Data/pcf-general.csv\")\n",
    "spl_gen_1 = pd.read_csv(\"./Data/spl-gen-1.csv\")\n",
    "spl_gen_2 = pd.read_csv(\"./Data/spl-gen-2.csv\")\n",
    "spl_gen = pd.concat([spl_gen_1, spl_gen_2], axis=0, ignore_index=True)"
   ]
  },
  {
   "cell_type": "code",
   "execution_count": 3,
   "metadata": {},
   "outputs": [],
   "source": [
    "authorID = list(set(pcf_gen['AuthorID']).intersection(set(spl_gen['AuthorID'])))"
   ]
  },
  {
   "cell_type": "code",
   "execution_count": 4,
   "metadata": {},
   "outputs": [],
   "source": [
    "# this is our training set, AuthorID is the label and Content is the feature\n",
    "pcf_gen_common = pcf_gen[pcf_gen['AuthorID'].isin(authorID)]\n",
    "pcf_gen_common = pcf_gen_common.drop(['Reactions', 'Attachments'], axis=1)"
   ]
  },
  {
   "cell_type": "markdown",
   "metadata": {},
   "source": [
    "## Combining texts to make a singular author profile"
   ]
  },
  {
   "cell_type": "code",
   "execution_count": 5,
   "metadata": {},
   "outputs": [],
   "source": [
    "# create new txt file with content of each author\n",
    "for i in authorID:\n",
    "    with open('./Data/pcf_gen_common/'+str(i)+'.txt', 'w') as f:\n",
    "        message = pcf_gen_common[pcf_gen_common['AuthorID'] == i]['Content'].str.cat(sep=' ')\n",
    "        # check if message has any character that cannot be encoded\n",
    "        # if yes, remove that character\n",
    "        # if no, write the message to the file\n",
    "\n",
    "        try:\n",
    "            f.write(message)\n",
    "        except UnicodeEncodeError:\n",
    "            message = message.encode('ascii', 'ignore').decode('ascii')\n",
    "            f.write(message)\n",
    "    f.close()"
   ]
  },
  {
   "cell_type": "code",
   "execution_count": 6,
   "metadata": {},
   "outputs": [],
   "source": [
    "# create new txt file with content of each author\n",
    "for i in authorID:\n",
    "    with open('./Data/spl_gen/'+str(i)+'.txt', 'w') as f:\n",
    "        message = spl_gen[spl_gen['AuthorID'] == i]['Content'].str.cat(sep=' ')\n",
    "        # check if message has any character that cannot be encoded\n",
    "        # if yes, remove that character\n",
    "        # if no, write the message to the file\n",
    "\n",
    "        try:\n",
    "            f.write(message)\n",
    "        except UnicodeEncodeError:\n",
    "            message = message.encode('ascii', 'ignore').decode('ascii')\n",
    "            f.write(message)\n",
    "    f.close()"
   ]
  },
  {
   "cell_type": "code",
   "execution_count": 7,
   "metadata": {},
   "outputs": [],
   "source": [
    "# read the training data\n",
    "\n",
    "# create a list of all the files in the folder\n",
    "files = os.listdir('./Data/pcf_gen_common/')\n",
    "# create a list of all the file names\n",
    "file_names = [file.split('.')[0] for file in files]\n",
    "# create a list of all the file paths\n",
    "file_paths = ['./Data/pcf_gen_common/'+file for file in files]\n",
    "\n",
    "# create a dataframe with file names and file paths\n",
    "df = pd.DataFrame({'AuthorID': file_names, 'File_Path': file_paths})\n",
    "\n",
    "# read the content of each file and store it in a list\n",
    "content = []\n",
    "for file in file_paths:\n",
    "    with open(file, 'r') as f:\n",
    "        content.append(f.read())\n",
    "    f.close()\n",
    "\n",
    "# add the content to the dataframe\n",
    "df['Content'] = content"
   ]
  },
  {
   "cell_type": "code",
   "execution_count": 8,
   "metadata": {},
   "outputs": [],
   "source": [
    "# read the test data\n",
    "\n",
    "# create a list of all the files in the folder\n",
    "files = os.listdir('./Data/spl_gen/')\n",
    "# create a list of all the file names\n",
    "file_names = [file.split('.')[0] for file in files]\n",
    "# create a list of all the file paths\n",
    "file_paths = ['./Data/spl_gen/'+file for file in files]\n",
    "\n",
    "# create a dataframe with file names and file paths\n",
    "df_test = pd.DataFrame({'AuthorID': file_names, 'File_Path': file_paths})\n",
    "\n",
    "# read the content of each file and store it in a list\n",
    "content = []\n",
    "for file in file_paths:\n",
    "    with open(file, 'r') as f:\n",
    "        content.append(f.read())\n",
    "    f.close()\n",
    "\n",
    "# add the content to the dataframe\n",
    "df_test['Content'] = content"
   ]
  },
  {
   "cell_type": "markdown",
   "metadata": {},
   "source": [
    "## Models"
   ]
  },
  {
   "cell_type": "markdown",
   "metadata": {},
   "source": [
    "### 1. Multinomial Naive Bayes"
   ]
  },
  {
   "cell_type": "code",
   "execution_count": 9,
   "metadata": {},
   "outputs": [],
   "source": [
    "#import stuff\n",
    "from sklearn.naive_bayes import MultinomialNB\n",
    "from sklearn.metrics import accuracy_score, f1_score, precision_score, recall_score\n",
    "\n",
    "def MultiNB(X, y, X_test, y_test):\n",
    "    # create the model\n",
    "    model = MultinomialNB()\n",
    "    # fit the model to the training data\n",
    "    model.fit(X, y)\n",
    "    # predict the labels for the test data\n",
    "    y_pred = model.predict(X_test)\n",
    "\n",
    "    # # evaluate the model using accuracy percentage\n",
    "    # print('Accuracy: ', accuracy_score(y_test, y_pred)*100, '%')\n",
    "\n",
    "    # #evaluate the model using f1 score\n",
    "    # from sklearn.metrics import f1_score\n",
    "    # print('F1 Score: ', f1_score(y_test, y_pred, average='weighted'))\n",
    "\n",
    "    # #evaluate the model using precision score\n",
    "    # from sklearn.metrics import precision_score\n",
    "    # print('Precision Score: ', precision_score(y_test, y_pred, average='weighted'))\n",
    "\n",
    "    # #evaluate the model using recall score\n",
    "    # from sklearn.metrics import recall_score\n",
    "    # print('Recall Score: ', recall_score(y_test, y_pred, average='weighted'))\n",
    "\n",
    "    return accuracy_score(y_test, y_pred)*100, f1_score(y_test, y_pred, average='weighted'), precision_score(y_test, y_pred, average='weighted'), recall_score(y_test, y_pred, average='weighted')\n",
    "\n"
   ]
  },
  {
   "cell_type": "markdown",
   "metadata": {},
   "source": [
    "### 2. Logistic Regression"
   ]
  },
  {
   "cell_type": "code",
   "execution_count": 10,
   "metadata": {},
   "outputs": [],
   "source": [
    "from sklearn.linear_model import LogisticRegression\n",
    "\n",
    "def Logistic(X, y, X_test, y_test):\n",
    "    # create the model\n",
    "    model = LogisticRegression()\n",
    "    # fit the model to the training data\n",
    "    model.fit(X, y)\n",
    "    # predict the labels for the test data\n",
    "    y_pred = model.predict(X_test)\n",
    "\n",
    "    # # evaluate the model using accuracy percentage\n",
    "    # print('Accuracy: ', accuracy_score(y_test, y_pred)*100, '%')\n",
    "\n",
    "    # #evaluate the model using f1 score\n",
    "    # from sklearn.metrics import f1_score\n",
    "    # print('F1 Score: ', f1_score(y_test, y_pred, average='weighted'))\n",
    "\n",
    "    # #evaluate the model using precision score\n",
    "    # from sklearn.metrics import precision_score\n",
    "    # print('Precision Score: ', precision_score(y_test, y_pred, average='weighted'))\n",
    "\n",
    "    # #evaluate the model using recall score\n",
    "    # from sklearn.metrics import recall_score\n",
    "    # print('Recall Score: ', recall_score(y_test, y_pred, average='weighted'))\n",
    "\n",
    "    return accuracy_score(y_test, y_pred)*100, f1_score(y_test, y_pred, average='weighted'), precision_score(y_test, y_pred, average='weighted'), recall_score(y_test, y_pred, average='weighted')\n"
   ]
  },
  {
   "cell_type": "markdown",
   "metadata": {},
   "source": [
    "### 3. SVM"
   ]
  },
  {
   "cell_type": "code",
   "execution_count": 11,
   "metadata": {},
   "outputs": [],
   "source": [
    "# import stuff\n",
    "from sklearn.svm import SVC\n",
    "\n",
    "def SVM(X, y, X_test, y_test):\n",
    "    # create the model\n",
    "    model = SVC()\n",
    "    # fit the model to the training data\n",
    "    model.fit(X, y)\n",
    "    # predict the labels for the test data\n",
    "    y_pred = model.predict(X_test)\n",
    "\n",
    "    # # evaluate the model using accuracy percentage\n",
    "    # print('Accuracy: ', accuracy_score(y_test, y_pred)*100, '%')\n",
    "\n",
    "    # #evaluate the model using f1 score\n",
    "    # from sklearn.metrics import f1_score\n",
    "    # print('F1 Score: ', f1_score(y_test, y_pred, average='weighted'))\n",
    "\n",
    "    # #evaluate the model using precision score\n",
    "    # from sklearn.metrics import precision_score\n",
    "    # print('Precision Score: ', precision_score(y_test, y_pred, average='weighted'))\n",
    "\n",
    "    # #evaluate the model using recall score\n",
    "    # from sklearn.metrics import recall_score\n",
    "    # print('Recall Score: ', recall_score(y_test, y_pred, average='weighted'))\n",
    "\n",
    "    return accuracy_score(y_test, y_pred)*100, f1_score(y_test, y_pred, average='weighted'), precision_score(y_test, y_pred, average='weighted'), recall_score(y_test, y_pred, average='weighted')"
   ]
  },
  {
   "cell_type": "markdown",
   "metadata": {},
   "source": [
    "### 4. Random Forest"
   ]
  },
  {
   "cell_type": "code",
   "execution_count": 12,
   "metadata": {},
   "outputs": [],
   "source": [
    "# import stuff\n",
    "from sklearn.ensemble import RandomForestClassifier\n",
    "\n",
    "def RandomForest(X, y, X_test, y_test):\n",
    "    # create the model\n",
    "    model = RandomForestClassifier()\n",
    "    # fit the model to the training data\n",
    "    model.fit(X, y)\n",
    "    # predict the labels for the test data\n",
    "    y_pred = model.predict(X_test)\n",
    "\n",
    "    # # evaluate the model using accuracy percentage\n",
    "    # print('Accuracy: ', accuracy_score(y_test, y_pred)*100, '%')\n",
    "\n",
    "    # #evaluate the model using f1 score\n",
    "    # from sklearn.metrics import f1_score\n",
    "    # print('F1 Score: ', f1_score(y_test, y_pred, average='weighted'))\n",
    "\n",
    "    # #evaluate the model using precision score\n",
    "    # from sklearn.metrics import precision_score\n",
    "    # print('Precision Score: ', precision_score(y_test, y_pred, average='weighted'))\n",
    "\n",
    "    # #evaluate the model using recall score\n",
    "    # from sklearn.metrics import recall_score\n",
    "    # print('Recall Score: ', recall_score(y_test, y_pred, average='weighted'))\n",
    "\n",
    "    return accuracy_score(y_test, y_pred)*100, f1_score(y_test, y_pred, average='weighted'), precision_score(y_test, y_pred, average='weighted'), recall_score(y_test, y_pred, average='weighted')"
   ]
  },
  {
   "cell_type": "markdown",
   "metadata": {},
   "source": [
    "### 5. XGBoost"
   ]
  },
  {
   "cell_type": "code",
   "execution_count": 13,
   "metadata": {},
   "outputs": [],
   "source": [
    "# import stuff\n",
    "from sklearn.ensemble import GradientBoostingClassifier\n",
    "\n",
    "def GradientBoosting(X, y, X_test, y_test):\n",
    "    # create the model\n",
    "    model = GradientBoostingClassifier()\n",
    "    # fit the model to the training data\n",
    "    model.fit(X, y)\n",
    "    # predict the labels for the test data\n",
    "    y_pred = model.predict(X_test)\n",
    "\n",
    "    # # evaluate the model using accuracy percentage\n",
    "    # print('Accuracy: ', accuracy_score(y_test, y_pred)*100, '%')\n",
    "\n",
    "    # #evaluate the model using f1 score\n",
    "    # from sklearn.metrics import f1_score\n",
    "    # print('F1 Score: ', f1_score(y_test, y_pred, average='weighted'))\n",
    "\n",
    "    # #evaluate the model using precision score\n",
    "    # from sklearn.metrics import precision_score\n",
    "    # print('Precision Score: ', precision_score(y_test, y_pred, average='weighted'))\n",
    "\n",
    "    # #evaluate the model using recall score\n",
    "    # from sklearn.metrics import recall_score\n",
    "    # print('Recall Score: ', recall_score(y_test, y_pred, average='weighted'))\n",
    "\n",
    "    return accuracy_score(y_test, y_pred)*100, f1_score(y_test, y_pred, average='weighted'), precision_score(y_test, y_pred, average='weighted'), recall_score(y_test, y_pred, average='weighted')"
   ]
  },
  {
   "cell_type": "markdown",
   "metadata": {},
   "source": [
    "### 6. KNN"
   ]
  },
  {
   "cell_type": "code",
   "execution_count": 14,
   "metadata": {},
   "outputs": [],
   "source": [
    "from sklearn.neighbors import KNeighborsClassifier\n",
    "\n",
    "def KNN(X, y, X_test, y_test):\n",
    "    # create the model\n",
    "    model = KNeighborsClassifier()\n",
    "    # fit the model to the training data\n",
    "    model.fit(X, y)\n",
    "    # predict the labels for the test data\n",
    "    y_pred = model.predict(X_test)\n",
    "\n",
    "    # # evaluate the model using accuracy percentage\n",
    "    # print('Accuracy: ', accuracy_score(y_test, y_pred)*100, '%')\n",
    "\n",
    "    # #evaluate the model using f1 score\n",
    "    # from sklearn.metrics import f1_score\n",
    "    # print('F1 Score: ', f1_score(y_test, y_pred, average='weighted'))\n",
    "\n",
    "    # #evaluate the model using precision score\n",
    "    # from sklearn.metrics import precision_score\n",
    "    # print('Precision Score: ', precision_score(y_test, y_pred, average='weighted'))\n",
    "\n",
    "    # #evaluate the model using recall score\n",
    "    # from sklearn.metrics import recall_score\n",
    "    # print('Recall Score: ', recall_score(y_test, y_pred, average='weighted'))\n",
    "\n",
    "    return accuracy_score(y_test, y_pred)*100, f1_score(y_test, y_pred, average='weighted'), precision_score(y_test, y_pred, average='weighted'), recall_score(y_test, y_pred, average='weighted')"
   ]
  },
  {
   "cell_type": "markdown",
   "metadata": {},
   "source": [
    "### 7. Decision Tree"
   ]
  },
  {
   "cell_type": "code",
   "execution_count": 15,
   "metadata": {},
   "outputs": [],
   "source": [
    "### 7. Decision Tree\n",
    "\n",
    "# import stuff\n",
    "from sklearn.tree import DecisionTreeClassifier\n",
    "\n",
    "def DecisionTree(X, y, X_test, y_test):\n",
    "    # create the model\n",
    "    model = DecisionTreeClassifier()\n",
    "    # fit the model to the training data\n",
    "    model.fit(X, y)\n",
    "    # predict the labels for the test data\n",
    "    y_pred = model.predict(X_test)\n",
    "\n",
    "    # # evaluate the model using accuracy percentage\n",
    "    # print('Accuracy: ', accuracy_score(y_test, y_pred)*100, '%')\n",
    "\n",
    "    # #evaluate the model using f1 score\n",
    "    # from sklearn.metrics import f1_score\n",
    "    # print('F1 Score: ', f1_score(y_test, y_pred, average='weighted'))\n",
    "\n",
    "    # #evaluate the model using precision score\n",
    "    # from sklearn.metrics import precision_score\n",
    "    # print('Precision Score: ', precision_score(y_test, y_pred, average='weighted'))\n",
    "\n",
    "    # #evaluate the model using recall score\n",
    "    # from sklearn.metrics import recall_score\n",
    "    # print('Recall Score: ', recall_score(y_test, y_pred, average='weighted'))\n",
    "\n",
    "    return accuracy_score(y_test, y_pred)*100, f1_score(y_test, y_pred, average='weighted'), precision_score(y_test, y_pred, average='weighted'), recall_score(y_test, y_pred, average='weighted')"
   ]
  },
  {
   "cell_type": "markdown",
   "metadata": {},
   "source": [
    "## DL Models"
   ]
  },
  {
   "cell_type": "markdown",
   "metadata": {},
   "source": [
    "### 1. Artificial Neural Network"
   ]
  },
  {
   "cell_type": "code",
   "execution_count": 16,
   "metadata": {},
   "outputs": [],
   "source": [
    "# import stuff\n",
    "from tensorflow import keras\n",
    "from tensorflow.keras import layers\n",
    "\n",
    "def NeuralNetwork(X, y, X_test, y_test):\n",
    "    # create the model\n",
    "    model = keras.Sequential([\n",
    "        layers.Dense(64, activation='relu', input_shape=[len(X.keys())]),\n",
    "        layers.Dense(64, activation='relu'),\n",
    "        layers.Dense(1)\n",
    "    ])\n",
    "\n",
    "    # compile the model\n",
    "    model.compile(loss='mean_absolute_error',\n",
    "                optimizer='adam',\n",
    "                metrics=['accuracy'])\n",
    "\n",
    "    # fit the model to the training data\n",
    "    model.fit(X, y, epochs=100, verbose=0)\n",
    "\n",
    "    # predict the labels for the test data\n",
    "    y_pred = model.predict(X_test)\n",
    "\n",
    "    # # evaluate the model using accuracy percentage\n",
    "    # print('Accuracy: ', accuracy_score(y_test, y_pred)*100, '%')\n",
    "\n",
    "    # #evaluate the model using f1 score\n",
    "    # from sklearn.metrics import f1_score\n",
    "    # print('F1 Score: ', f1_score(y_test, y_pred, average='weighted'))\n",
    "\n",
    "    # #evaluate the model using precision score\n",
    "    # from sklearn.metrics import precision_score\n",
    "    # print('Precision Score: ', precision_score(y_test, y_pred, average='weighted'))\n",
    "\n",
    "    # #evaluate the model using recall score\n",
    "    # from sklearn.metrics import recall_score\n",
    "    # print('Recall Score: ', recall_score(y_test, y_pred, average='weighted'))\n",
    "\n",
    "    return accuracy_score(y_test, y_pred)*100, f1_score(y_test, y_pred, average='weighted'), precision_score(y_test, y_pred, average='weighted'), recall_score(y_test, y_pred, average='weighted')\n"
   ]
  },
  {
   "cell_type": "markdown",
   "metadata": {},
   "source": [
    "### 2. LSTM"
   ]
  },
  {
   "cell_type": "code",
   "execution_count": 17,
   "metadata": {},
   "outputs": [],
   "source": [
    "# import stuff\n",
    "from tensorflow import keras\n",
    "from tensorflow.keras import layers\n",
    "\n",
    "def LSTM(X, y, X_test, y_test):\n",
    "    # create the model\n",
    "    model = keras.Sequential([\n",
    "        layers.LSTM(64, activation='relu', input_shape=[len(X.keys())]),\n",
    "        layers.LSTM(64, activation='relu'),\n",
    "        layers.Dense(1)\n",
    "    ])\n",
    "\n",
    "    # compile the model\n",
    "    model.compile(loss='mean_absolute_error',\n",
    "                optimizer='adam',\n",
    "                metrics=['accuracy'])\n",
    "\n",
    "    # fit the model to the training data\n",
    "    model.fit(X, y, epochs=100, verbose=0)\n",
    "\n",
    "    # predict the labels for the test data\n",
    "    y_pred = model.predict(X_test)\n",
    "\n",
    "    # # evaluate the model using accuracy percentage\n",
    "    # print('Accuracy: ', accuracy_score(y_test, y_pred)*100, '%')\n",
    "\n",
    "    # #evaluate the model using f1 score\n",
    "    # from sklearn.metrics import f1_score\n",
    "    # print('F1 Score: ', f1_score(y_test, y_pred, average='weighted'))\n",
    "\n",
    "    # #evaluate the model using precision score\n",
    "    # from sklearn.metrics import precision_score\n",
    "    # print('Precision Score: ', precision_score(y_test, y_pred, average='weighted'))\n",
    "\n",
    "    # #evaluate the model using recall score\n",
    "    # from sklearn.metrics import recall_score\n",
    "    # print('Recall Score: ', recall_score(y_test, y_pred, average='weighted'))\n",
    "\n",
    "    return accuracy_score(y_test, y_pred)*100, f1_score(y_test, y_pred, average='weighted'), precision_score(y_test, y_pred, average='weighted'), recall_score(y_test, y_pred, average='weighted')"
   ]
  },
  {
   "cell_type": "markdown",
   "metadata": {},
   "source": [
    "### 3. GRU"
   ]
  },
  {
   "cell_type": "code",
   "execution_count": 18,
   "metadata": {},
   "outputs": [],
   "source": [
    "# import stuff\n",
    "from tensorflow import keras\n",
    "from tensorflow.keras import layers\n",
    "\n",
    "def GRU(X, y, X_test, y_test):\n",
    "    # create the model\n",
    "    model = keras.Sequential([\n",
    "        layers.GRU(64, activation='relu', input_shape=[len(X.keys())]),\n",
    "        layers.GRU(64, activation='relu'),\n",
    "        layers.Dense(1)\n",
    "    ])\n",
    "\n",
    "    # compile the model\n",
    "    model.compile(loss='mean_absolute_error',\n",
    "                optimizer='adam',\n",
    "                metrics=['accuracy'])\n",
    "\n",
    "    # fit the model to the training data\n",
    "    model.fit(X, y, epochs=100, verbose=0)\n",
    "\n",
    "    # predict the labels for the test data\n",
    "    y_pred = model.predict(X_test)\n",
    "\n",
    "    # # evaluate the model using accuracy percentage\n",
    "    # print('Accuracy: ', accuracy_score(y_test, y_pred)*100, '%')\n",
    "\n",
    "    # #evaluate the model using f1 score\n",
    "    # from sklearn.metrics import f1_score\n",
    "    # print('F1 Score: ', f1_score(y_test, y_pred, average='weighted'))\n",
    "\n",
    "    # #evaluate the model using precision score\n",
    "    # from sklearn.metrics import precision_score\n",
    "    # print('Precision Score: ', precision_score(y_test, y_pred, average='weighted'))\n",
    "\n",
    "    # #evaluate the model using recall score\n",
    "    # from sklearn.metrics import recall_score\n",
    "    # print('Recall Score: ', recall_score(y_test, y_pred, average='weighted'))\n",
    "\n",
    "    return accuracy_score(y_test, y_pred)*100, f1_score(y_test, y_pred, average='weighted'), precision_score(y_test, y_pred, average='weighted'), recall_score(y_test, y_pred, average='weighted')"
   ]
  },
  {
   "cell_type": "markdown",
   "metadata": {},
   "source": [
    "### 4. Bidirectional LSTM"
   ]
  },
  {
   "cell_type": "code",
   "execution_count": 19,
   "metadata": {},
   "outputs": [],
   "source": [
    "#Bidirectional LSTM\n",
    "# import stuff\n",
    "from tensorflow import keras\n",
    "from tensorflow.keras import layers\n",
    "\n",
    "def BiLSTM(X, y, X_test, y_test):\n",
    "    # create the model\n",
    "    model = keras.Sequential([\n",
    "        layers.Bidirectional(layers.LSTM(64, activation='relu'), input_shape=[len(X.keys())]),\n",
    "        layers.Bidirectional(layers.LSTM(64, activation='relu')),\n",
    "        layers.Dense(1)\n",
    "    ])\n",
    "\n",
    "    # compile the model\n",
    "    model.compile(loss='mean_absolute_error',\n",
    "                optimizer='adam',\n",
    "                metrics=['accuracy'])\n",
    "\n",
    "    # fit the model to the training data\n",
    "    model.fit(X, y, epochs=100, verbose=0)\n",
    "\n",
    "    # predict the labels for the test data\n",
    "    y_pred = model.predict(X_test)\n",
    "\n",
    "    # # evaluate the model using accuracy percentage\n",
    "    # print('Accuracy: ', accuracy_score(y_test, y_pred)*100, '%')\n",
    "\n",
    "    # #evaluate the model using f1 score\n",
    "    # from sklearn.metrics import f1_score\n",
    "    # print('F1 Score: ', f1_score(y_test, y_pred, average='weighted'))\n",
    "\n",
    "    # #evaluate the model using precision score\n",
    "    # from sklearn.metrics import precision_score\n",
    "    # print('Precision Score: ', precision_score(y_test, y_pred, average='weighted'))\n",
    "\n",
    "    # #evaluate the model using recall score\n",
    "    # from sklearn.metrics import recall_score\n",
    "    # print('Recall Score: ', recall_score(y_test, y_pred, average='weighted'))\n",
    "\n",
    "    return accuracy_score(y_test, y_pred)*100, f1_score(y_test, y_pred, average='weighted'), precision_score(y_test, y_pred, average='weighted'), recall_score(y_test, y_pred, average='weighted')"
   ]
  },
  {
   "cell_type": "markdown",
   "metadata": {},
   "source": [
    "### 5. RNN with bidirectional LSTM"
   ]
  },
  {
   "cell_type": "code",
   "execution_count": 20,
   "metadata": {},
   "outputs": [],
   "source": [
    "#RNN with bidirectional LSTM\n",
    "# import stuff\n",
    "from tensorflow import keras\n",
    "from tensorflow.keras import layers\n",
    "\n",
    "def RNN_BiLSTM(X, y, X_test, y_test):\n",
    "    # create the model\n",
    "    model = keras.Sequential([\n",
    "        layers.SimpleRNN(64, activation='relu', input_shape=[len(X.keys())]),\n",
    "        layers.SimpleRNN(64, activation='relu'),\n",
    "        layers.Bidirectional(layers.LSTM(64, activation='relu')),\n",
    "        layers.Dense(1)\n",
    "    ])\n",
    "\n",
    "    # compile the model\n",
    "    model.compile(loss='mean_absolute_error',\n",
    "                optimizer='adam',\n",
    "                metrics=['accuracy'])\n",
    "\n",
    "    # fit the model to the training data\n",
    "    model.fit(X, y, epochs=100, verbose=0)\n",
    "\n",
    "    # predict the labels for the test data\n",
    "    y_pred = model.predict(X_test)\n",
    "\n",
    "    # # evaluate the model using accuracy percentage\n",
    "    # print('Accuracy: ', accuracy_score(y_test, y_pred)*100, '%')\n",
    "\n",
    "    # #evaluate the model using f1 score\n",
    "    # from sklearn.metrics import f1_score\n",
    "    # print('F1 Score: ', f1_score(y_test, y_pred, average='weighted'))\n",
    "\n",
    "    # #evaluate the model using precision score\n",
    "    # from sklearn.metrics import precision_score\n",
    "    # print('Precision Score: ', precision_score(y_test, y_pred, average='weighted'))\n",
    "\n",
    "    # #evaluate the model using recall score\n",
    "    # from sklearn.metrics import recall_score\n",
    "    # print('Recall Score: ', recall_score(y_test, y_pred, average='weighted'))\n",
    "\n",
    "    return accuracy_score(y_test, y_pred)*100, f1_score(y_test, y_pred, average='weighted'), precision_score(y_test, y_pred, average='weighted'), recall_score(y_test, y_pred, average='weighted')"
   ]
  },
  {
   "cell_type": "markdown",
   "metadata": {},
   "source": [
    "### 6. CNN"
   ]
  },
  {
   "cell_type": "code",
   "execution_count": 21,
   "metadata": {},
   "outputs": [],
   "source": [
    "#CNN\n",
    "# import stuff\n",
    "from tensorflow import keras\n",
    "from tensorflow.keras import layers\n",
    "\n",
    "def CNN(X, y, X_test, y_test):\n",
    "    # create the model\n",
    "    model = keras.Sequential([\n",
    "        layers.Conv1D(64, 3, activation='relu', input_shape=[len(X.keys())]),\n",
    "        layers.Conv1D(64, 3, activation='relu'),\n",
    "        layers.MaxPooling1D(),\n",
    "        layers.Conv1D(64, 3, activation='relu'),\n",
    "        layers.Conv1D(64, 3, activation='relu'),\n",
    "        layers.GlobalMaxPooling1D(),\n",
    "        layers.Dense(1)\n",
    "    ])\n",
    "\n",
    "    # compile the model\n",
    "    model.compile(loss='mean_absolute_error',\n",
    "                optimizer='adam',\n",
    "                metrics=['accuracy'])\n",
    "\n",
    "    # fit the model to the training data\n",
    "    model.fit(X, y, epochs=100, verbose=0)\n",
    "\n",
    "    # predict the labels for the test data\n",
    "    y_pred = model.predict(X_test)\n",
    "\n",
    "    # # evaluate the model using accuracy percentage\n",
    "    # print('Accuracy: ', accuracy_score(y_test, y_pred)*100, '%')\n",
    "\n",
    "    # #evaluate the model using f1 score\n",
    "    # from sklearn.metrics import f1_score\n",
    "    # print('F1 Score: ', f1_score(y_test, y_pred, average='weighted'))\n",
    "\n",
    "    # #evaluate the model using precision score\n",
    "    # from sklearn.metrics import precision_score\n",
    "    # print('Precision Score: ', precision_score(y_test, y_pred, average='weighted'))\n",
    "\n",
    "    # #evaluate the model using recall score\n",
    "    # from sklearn.metrics import recall_score\n",
    "    # print('Recall Score: ', recall_score(y_test, y_pred, average='weighted'))\n",
    "\n",
    "    return accuracy_score(y_test, y_pred)*100, f1_score(y_test, y_pred, average='weighted'), precision_score(y_test, y_pred, average='weighted'), recall_score(y_test, y_pred, average='weighted')"
   ]
  },
  {
   "cell_type": "markdown",
   "metadata": {},
   "source": [
    "## Alphabets, Numbers, Punctuations"
   ]
  },
  {
   "cell_type": "code",
   "execution_count": 22,
   "metadata": {},
   "outputs": [],
   "source": [
    "os.chdir(os.getcwd()+\"/graphs\")"
   ]
  },
  {
   "cell_type": "code",
   "execution_count": 25,
   "metadata": {},
   "outputs": [
    {
     "name": "stdout",
     "output_type": "stream",
     "text": [
      "(67, 418)\n",
      "(67, 418)\n",
      "Pre-processing Technique     LNPCount\n",
      "Model                             SVM\n",
      "Max Features                (67, 418)\n",
      "Accuracy                     4.477612\n",
      "F1 Score                     0.023383\n",
      "Precision                    0.016169\n",
      "Recall                       0.044776\n",
      "Name: 2, dtype: object\n",
      "Pre-processing Technique            LNPCount\n",
      "Model                       GradientBoosting\n",
      "Max Features                       (67, 418)\n",
      "Accuracy                            2.985075\n",
      "F1 Score                            0.029851\n",
      "Precision                           0.029851\n",
      "Recall                              0.029851\n",
      "Name: 4, dtype: object\n",
      "Pre-processing Technique            LNPCount\n",
      "Model                       GradientBoosting\n",
      "Max Features                       (67, 418)\n",
      "Accuracy                            2.985075\n",
      "F1 Score                            0.029851\n",
      "Precision                           0.029851\n",
      "Recall                              0.029851\n",
      "Name: 4, dtype: object\n",
      "Pre-processing Technique     LNPCount\n",
      "Model                             SVM\n",
      "Max Features                (67, 418)\n",
      "Accuracy                     4.477612\n",
      "F1 Score                     0.023383\n",
      "Precision                    0.016169\n",
      "Recall                       0.044776\n",
      "Name: 2, dtype: object\n"
     ]
    },
    {
     "data": {
      "image/png": "[encoded data removed]",
      "text/plain": [
       "<Figure size 720x432 with 1 Axes>"
      ]
     },
     "metadata": {
      "needs_background": "light"
     },
     "output_type": "display_data"
    },
    {
     "data": {
      "image/png": "[encoded data removed]",
      "text/plain": [
       "<Figure size 720x432 with 1 Axes>"
      ]
     },
     "metadata": {
      "needs_background": "light"
     },
     "output_type": "display_data"
    },
    {
     "data": {
      "image/png": "[encoded data removed]",
      "text/plain": [
       "<Figure size 720x432 with 1 Axes>"
      ]
     },
     "metadata": {
      "needs_background": "light"
     },
     "output_type": "display_data"
    },
    {
     "data": {
      "image/png": "[encoded data removed]",
      "text/plain": [
       "<Figure size 720x432 with 1 Axes>"
      ]
     },
     "metadata": {
      "needs_background": "light"
     },
     "output_type": "display_data"
    }
   ],
   "source": [
    "#import counter\n",
    "from collections import Counter\n",
    "# Store evaluation metrics in a dataframe\n",
    "eval_metrics = pd.DataFrame(columns=['Pre-processing Technique', 'Model', 'Max Features', 'Accuracy', 'F1 Score', 'Precision', 'Recall'])\n",
    "\n",
    "# Create a list of models and DL Models\n",
    "models = [MultiNB, Logistic, SVM, RandomForest, GradientBoosting, KNN, DecisionTree, NeuralNetwork, LSTM, GRU, BiLSTM, RNN_BiLSTM, CNN]\n",
    "\n",
    "DL_models = [NeuralNetwork, LSTM, GRU, BiLSTM, RNN_BiLSTM, CNN]\n",
    "\n",
    "# Create feature set using frequency of top 100 letters, nuumbers, punctuations\n",
    "X = df['Content'].apply(lambda x: pd.Series(Counter(x)))\n",
    "X = X.fillna(0)\n",
    "\n",
    "y = df['AuthorID']\n",
    "\n",
    "X_test = df_test['Content'].apply(lambda x: pd.Series(Counter(x)))\n",
    "X_test.fillna(0, inplace=True)\n",
    "\n",
    "y_test = df_test['AuthorID']\n",
    "\n",
    "#remove columns that are not in X or X_test\n",
    "X = X[X.columns.intersection(X_test.columns)]\n",
    "X_test = X_test[X_test.columns.intersection(X.columns)]\n",
    "print(X.shape)\n",
    "print(X_test.shape)\n",
    "\n",
    "for model in models[:-6]:\n",
    "        # if model in DL_models:\n",
    "        #     X = X.to_numpy() \n",
    "        #     X_test = X_test.to_numpy()\n",
    "        acc, f1, prec, rec = model(X, y, X_test, y_test)\n",
    "        eval_metrics = eval_metrics.append({'Pre-processing Technique': 'LNPCount', 'Model': model.__name__, 'Max Features': X.shape, 'Accuracy': acc, 'F1 Score': f1, 'Precision': prec, 'Recall': rec}, ignore_index=True)\n",
    "\n",
    "#plot the evaluation metrics\n",
    "import matplotlib.pyplot as plt\n",
    "import seaborn as sns\n",
    "\n",
    "#plot accuracy\n",
    "plt.figure(figsize=(10, 6))\n",
    "sns.barplot(x='Model', y='Accuracy', hue='Pre-processing Technique', data=eval_metrics)\n",
    "plt.title('Accuracy of different models')\n",
    "plt.savefig('Accuracy.png')\n",
    "\n",
    "#plot f1 score\n",
    "plt.figure(figsize=(10, 6))\n",
    "sns.barplot(x='Model', y='F1 Score', hue='Pre-processing Technique', data=eval_metrics)\n",
    "plt.title('F1 Score of different models')\n",
    "plt.savefig('F1 Score.png')\n",
    "\n",
    "#plot precision\n",
    "plt.figure(figsize=(10, 6))\n",
    "sns.barplot(x='Model', y='Precision', hue='Pre-processing Technique', data=eval_metrics)\n",
    "plt.title('Precision of different models')\n",
    "plt.savefig('Precision.png')\n",
    "\n",
    "#plot recall\n",
    "plt.figure(figsize=(10, 6))\n",
    "sns.barplot(x='Model', y='Recall', hue='Pre-processing Technique', data=eval_metrics)\n",
    "plt.title('Recall of different models')\n",
    "plt.savefig('Recall.png')\n",
    "\n",
    "#print model and max features with best evaluation metrics\n",
    "print(eval_metrics.loc[eval_metrics['Accuracy'].idxmax()])\n",
    "print(eval_metrics.loc[eval_metrics['F1 Score'].idxmax()])\n",
    "print(eval_metrics.loc[eval_metrics['Precision'].idxmax()])\n",
    "print(eval_metrics.loc[eval_metrics['Recall'].idxmax()])\n"
   ]
  },
  {
   "cell_type": "markdown",
   "metadata": {},
   "source": [
    "## Character n-grams"
   ]
  },
  {
   "cell_type": "code",
   "execution_count": 24,
   "metadata": {},
   "outputs": [
    {
     "ename": "KeyboardInterrupt",
     "evalue": "",
     "output_type": "error",
     "traceback": [
      "\u001b[0;31m---------------------------------------------------------------------------\u001b[0m",
      "\u001b[0;31mKeyboardInterrupt\u001b[0m                         Traceback (most recent call last)",
      "\u001b[1;32m/Users/devprisha/Documents/GitHub/Author-Attribution-DL/basic_ml_models.ipynb Cell 46\u001b[0m in \u001b[0;36m<cell line: 1>\u001b[0;34m()\u001b[0m\n\u001b[1;32m     <a href='vscode-notebook-cell:/Users/devprisha/Documents/GitHub/Author-Attribution-DL/basic_ml_models.ipynb#Y166sZmlsZQ%3D%3D?line=16'>17</a>\u001b[0m             X \u001b[39m=\u001b[39m X\u001b[39m.\u001b[39mtoarray() \n\u001b[1;32m     <a href='vscode-notebook-cell:/Users/devprisha/Documents/GitHub/Author-Attribution-DL/basic_ml_models.ipynb#Y166sZmlsZQ%3D%3D?line=17'>18</a>\u001b[0m             X_test \u001b[39m=\u001b[39m X_test\u001b[39m.\u001b[39mtoarray()\n\u001b[0;32m---> <a href='vscode-notebook-cell:/Users/devprisha/Documents/GitHub/Author-Attribution-DL/basic_ml_models.ipynb#Y166sZmlsZQ%3D%3D?line=18'>19</a>\u001b[0m         acc, f1, prec, rec \u001b[39m=\u001b[39m model(X, y, X_test, y_test)\n\u001b[1;32m     <a href='vscode-notebook-cell:/Users/devprisha/Documents/GitHub/Author-Attribution-DL/basic_ml_models.ipynb#Y166sZmlsZQ%3D%3D?line=19'>20</a>\u001b[0m         eval_metrics \u001b[39m=\u001b[39m eval_metrics\u001b[39m.\u001b[39mappend({\u001b[39m'\u001b[39m\u001b[39mPre-processing Technique\u001b[39m\u001b[39m'\u001b[39m: \u001b[39m'\u001b[39m\u001b[39mCharacter n-grams\u001b[39m\u001b[39m'\u001b[39m, \u001b[39m'\u001b[39m\u001b[39mModel\u001b[39m\u001b[39m'\u001b[39m: model\u001b[39m.\u001b[39m\u001b[39m__name__\u001b[39m, \u001b[39m'\u001b[39m\u001b[39mMax Features\u001b[39m\u001b[39m'\u001b[39m: features, \u001b[39m'\u001b[39m\u001b[39mAccuracy\u001b[39m\u001b[39m'\u001b[39m: acc, \u001b[39m'\u001b[39m\u001b[39mF1 Score\u001b[39m\u001b[39m'\u001b[39m: f1, \u001b[39m'\u001b[39m\u001b[39mPrecision\u001b[39m\u001b[39m'\u001b[39m: prec, \u001b[39m'\u001b[39m\u001b[39mRecall\u001b[39m\u001b[39m'\u001b[39m: rec}, ignore_index\u001b[39m=\u001b[39m\u001b[39mTrue\u001b[39;00m)\n\u001b[1;32m     <a href='vscode-notebook-cell:/Users/devprisha/Documents/GitHub/Author-Attribution-DL/basic_ml_models.ipynb#Y166sZmlsZQ%3D%3D?line=21'>22</a>\u001b[0m \u001b[39m#plot the evaluation metrics\u001b[39;00m\n",
      "\u001b[1;32m/Users/devprisha/Documents/GitHub/Author-Attribution-DL/basic_ml_models.ipynb Cell 46\u001b[0m in \u001b[0;36mGradientBoosting\u001b[0;34m(X, y, X_test, y_test)\u001b[0m\n\u001b[1;32m      <a href='vscode-notebook-cell:/Users/devprisha/Documents/GitHub/Author-Attribution-DL/basic_ml_models.ipynb#Y166sZmlsZQ%3D%3D?line=5'>6</a>\u001b[0m model \u001b[39m=\u001b[39m GradientBoostingClassifier()\n\u001b[1;32m      <a href='vscode-notebook-cell:/Users/devprisha/Documents/GitHub/Author-Attribution-DL/basic_ml_models.ipynb#Y166sZmlsZQ%3D%3D?line=6'>7</a>\u001b[0m \u001b[39m# fit the model to the training data\u001b[39;00m\n\u001b[0;32m----> <a href='vscode-notebook-cell:/Users/devprisha/Documents/GitHub/Author-Attribution-DL/basic_ml_models.ipynb#Y166sZmlsZQ%3D%3D?line=7'>8</a>\u001b[0m model\u001b[39m.\u001b[39;49mfit(X, y)\n\u001b[1;32m      <a href='vscode-notebook-cell:/Users/devprisha/Documents/GitHub/Author-Attribution-DL/basic_ml_models.ipynb#Y166sZmlsZQ%3D%3D?line=8'>9</a>\u001b[0m \u001b[39m# predict the labels for the test data\u001b[39;00m\n\u001b[1;32m     <a href='vscode-notebook-cell:/Users/devprisha/Documents/GitHub/Author-Attribution-DL/basic_ml_models.ipynb#Y166sZmlsZQ%3D%3D?line=9'>10</a>\u001b[0m y_pred \u001b[39m=\u001b[39m model\u001b[39m.\u001b[39mpredict(X_test)\n",
      "File \u001b[0;32m/opt/homebrew/lib/python3.8/site-packages/sklearn/ensemble/_gb.py:668\u001b[0m, in \u001b[0;36mBaseGradientBoosting.fit\u001b[0;34m(self, X, y, sample_weight, monitor)\u001b[0m\n\u001b[1;32m    665\u001b[0m     \u001b[39mself\u001b[39m\u001b[39m.\u001b[39m_resize_state()\n\u001b[1;32m    667\u001b[0m \u001b[39m# fit the boosting stages\u001b[39;00m\n\u001b[0;32m--> 668\u001b[0m n_stages \u001b[39m=\u001b[39m \u001b[39mself\u001b[39;49m\u001b[39m.\u001b[39;49m_fit_stages(\n\u001b[1;32m    669\u001b[0m     X,\n\u001b[1;32m    670\u001b[0m     y,\n\u001b[1;32m    671\u001b[0m     raw_predictions,\n\u001b[1;32m    672\u001b[0m     sample_weight,\n\u001b[1;32m    673\u001b[0m     \u001b[39mself\u001b[39;49m\u001b[39m.\u001b[39;49m_rng,\n\u001b[1;32m    674\u001b[0m     X_val,\n\u001b[1;32m    675\u001b[0m     y_val,\n\u001b[1;32m    676\u001b[0m     sample_weight_val,\n\u001b[1;32m    677\u001b[0m     begin_at_stage,\n\u001b[1;32m    678\u001b[0m     monitor,\n\u001b[1;32m    679\u001b[0m )\n\u001b[1;32m    681\u001b[0m \u001b[39m# change shape of arrays after fit (early-stopping or additional ests)\u001b[39;00m\n\u001b[1;32m    682\u001b[0m \u001b[39mif\u001b[39;00m n_stages \u001b[39m!=\u001b[39m \u001b[39mself\u001b[39m\u001b[39m.\u001b[39mestimators_\u001b[39m.\u001b[39mshape[\u001b[39m0\u001b[39m]:\n",
      "File \u001b[0;32m/opt/homebrew/lib/python3.8/site-packages/sklearn/ensemble/_gb.py:745\u001b[0m, in \u001b[0;36mBaseGradientBoosting._fit_stages\u001b[0;34m(self, X, y, raw_predictions, sample_weight, random_state, X_val, y_val, sample_weight_val, begin_at_stage, monitor)\u001b[0m\n\u001b[1;32m    738\u001b[0m     old_oob_score \u001b[39m=\u001b[39m loss_(\n\u001b[1;32m    739\u001b[0m         y[\u001b[39m~\u001b[39msample_mask],\n\u001b[1;32m    740\u001b[0m         raw_predictions[\u001b[39m~\u001b[39msample_mask],\n\u001b[1;32m    741\u001b[0m         sample_weight[\u001b[39m~\u001b[39msample_mask],\n\u001b[1;32m    742\u001b[0m     )\n\u001b[1;32m    744\u001b[0m \u001b[39m# fit next stage of trees\u001b[39;00m\n\u001b[0;32m--> 745\u001b[0m raw_predictions \u001b[39m=\u001b[39m \u001b[39mself\u001b[39;49m\u001b[39m.\u001b[39;49m_fit_stage(\n\u001b[1;32m    746\u001b[0m     i,\n\u001b[1;32m    747\u001b[0m     X,\n\u001b[1;32m    748\u001b[0m     y,\n\u001b[1;32m    749\u001b[0m     raw_predictions,\n\u001b[1;32m    750\u001b[0m     sample_weight,\n\u001b[1;32m    751\u001b[0m     sample_mask,\n\u001b[1;32m    752\u001b[0m     random_state,\n\u001b[1;32m    753\u001b[0m     X_csc,\n\u001b[1;32m    754\u001b[0m     X_csr,\n\u001b[1;32m    755\u001b[0m )\n\u001b[1;32m    757\u001b[0m \u001b[39m# track deviance (= loss)\u001b[39;00m\n\u001b[1;32m    758\u001b[0m \u001b[39mif\u001b[39;00m do_oob:\n",
      "File \u001b[0;32m/opt/homebrew/lib/python3.8/site-packages/sklearn/ensemble/_gb.py:247\u001b[0m, in \u001b[0;36mBaseGradientBoosting._fit_stage\u001b[0;34m(self, i, X, y, raw_predictions, sample_weight, sample_mask, random_state, X_csc, X_csr)\u001b[0m\n\u001b[1;32m    244\u001b[0m     sample_weight \u001b[39m=\u001b[39m sample_weight \u001b[39m*\u001b[39m sample_mask\u001b[39m.\u001b[39mastype(np\u001b[39m.\u001b[39mfloat64)\n\u001b[1;32m    246\u001b[0m X \u001b[39m=\u001b[39m X_csr \u001b[39mif\u001b[39;00m X_csr \u001b[39mis\u001b[39;00m \u001b[39mnot\u001b[39;00m \u001b[39mNone\u001b[39;00m \u001b[39melse\u001b[39;00m X\n\u001b[0;32m--> 247\u001b[0m tree\u001b[39m.\u001b[39;49mfit(X, residual, sample_weight\u001b[39m=\u001b[39;49msample_weight, check_input\u001b[39m=\u001b[39;49m\u001b[39mFalse\u001b[39;49;00m)\n\u001b[1;32m    249\u001b[0m \u001b[39m# update tree leaves\u001b[39;00m\n\u001b[1;32m    250\u001b[0m loss\u001b[39m.\u001b[39mupdate_terminal_regions(\n\u001b[1;32m    251\u001b[0m     tree\u001b[39m.\u001b[39mtree_,\n\u001b[1;32m    252\u001b[0m     X,\n\u001b[0;32m   (...)\u001b[0m\n\u001b[1;32m    259\u001b[0m     k\u001b[39m=\u001b[39mk,\n\u001b[1;32m    260\u001b[0m )\n",
      "File \u001b[0;32m/opt/homebrew/lib/python3.8/site-packages/sklearn/tree/_classes.py:1342\u001b[0m, in \u001b[0;36mDecisionTreeRegressor.fit\u001b[0;34m(self, X, y, sample_weight, check_input)\u001b[0m\n\u001b[1;32m   1313\u001b[0m \u001b[39mdef\u001b[39;00m \u001b[39mfit\u001b[39m(\u001b[39mself\u001b[39m, X, y, sample_weight\u001b[39m=\u001b[39m\u001b[39mNone\u001b[39;00m, check_input\u001b[39m=\u001b[39m\u001b[39mTrue\u001b[39;00m):\n\u001b[1;32m   1314\u001b[0m     \u001b[39m\"\"\"Build a decision tree regressor from the training set (X, y).\u001b[39;00m\n\u001b[1;32m   1315\u001b[0m \n\u001b[1;32m   1316\u001b[0m \u001b[39m    Parameters\u001b[39;00m\n\u001b[0;32m   (...)\u001b[0m\n\u001b[1;32m   1339\u001b[0m \u001b[39m        Fitted estimator.\u001b[39;00m\n\u001b[1;32m   1340\u001b[0m \u001b[39m    \"\"\"\u001b[39;00m\n\u001b[0;32m-> 1342\u001b[0m     \u001b[39msuper\u001b[39;49m()\u001b[39m.\u001b[39;49mfit(\n\u001b[1;32m   1343\u001b[0m         X,\n\u001b[1;32m   1344\u001b[0m         y,\n\u001b[1;32m   1345\u001b[0m         sample_weight\u001b[39m=\u001b[39;49msample_weight,\n\u001b[1;32m   1346\u001b[0m         check_input\u001b[39m=\u001b[39;49mcheck_input,\n\u001b[1;32m   1347\u001b[0m     )\n\u001b[1;32m   1348\u001b[0m     \u001b[39mreturn\u001b[39;00m \u001b[39mself\u001b[39m\n",
      "File \u001b[0;32m/opt/homebrew/lib/python3.8/site-packages/sklearn/tree/_classes.py:458\u001b[0m, in \u001b[0;36mBaseDecisionTree.fit\u001b[0;34m(self, X, y, sample_weight, check_input)\u001b[0m\n\u001b[1;32m    447\u001b[0m \u001b[39melse\u001b[39;00m:\n\u001b[1;32m    448\u001b[0m     builder \u001b[39m=\u001b[39m BestFirstTreeBuilder(\n\u001b[1;32m    449\u001b[0m         splitter,\n\u001b[1;32m    450\u001b[0m         min_samples_split,\n\u001b[0;32m   (...)\u001b[0m\n\u001b[1;32m    455\u001b[0m         \u001b[39mself\u001b[39m\u001b[39m.\u001b[39mmin_impurity_decrease,\n\u001b[1;32m    456\u001b[0m     )\n\u001b[0;32m--> 458\u001b[0m builder\u001b[39m.\u001b[39;49mbuild(\u001b[39mself\u001b[39;49m\u001b[39m.\u001b[39;49mtree_, X, y, sample_weight)\n\u001b[1;32m    460\u001b[0m \u001b[39mif\u001b[39;00m \u001b[39mself\u001b[39m\u001b[39m.\u001b[39mn_outputs_ \u001b[39m==\u001b[39m \u001b[39m1\u001b[39m \u001b[39mand\u001b[39;00m is_classifier(\u001b[39mself\u001b[39m):\n\u001b[1;32m    461\u001b[0m     \u001b[39mself\u001b[39m\u001b[39m.\u001b[39mn_classes_ \u001b[39m=\u001b[39m \u001b[39mself\u001b[39m\u001b[39m.\u001b[39mn_classes_[\u001b[39m0\u001b[39m]\n",
      "\u001b[0;31mKeyboardInterrupt\u001b[0m: "
     ]
    }
   ],
   "source": [
    "for features in range(500,10000, 500):\n",
    "    # create the feature set using 1000 most frequently ranked character n-grams\n",
    "    c_vectorizer = CountVectorizer(analyzer='char', ngram_range=(2,3), max_features=features)\n",
    "    # fit the vectorizer to the training data\n",
    "    c_vectorizer.fit(df['Content'])\n",
    "    # transform the training data\n",
    "    X_test = c_vectorizer.transform(df['Content'])\n",
    "\n",
    "    # create the label set\n",
    "    y_test = df['AuthorID']\n",
    "\n",
    "    X = c_vectorizer.transform(df_test['Content'])\n",
    "    y = df_test['AuthorID']\n",
    "\n",
    "    for model in models[:-6]:\n",
    "        if model in DL_models:\n",
    "            X = X.toarray() \n",
    "            X_test = X_test.toarray()\n",
    "        acc, f1, prec, rec = model(X, y, X_test, y_test)\n",
    "        eval_metrics = eval_metrics.append({'Pre-processing Technique': 'Character n-grams', 'Model': model.__name__, 'Max Features': features, 'Accuracy': acc, 'F1 Score': f1, 'Precision': prec, 'Recall': rec}, ignore_index=True)\n",
    "\n",
    "#plot the evaluation metrics\n",
    "import matplotlib.pyplot as plt\n",
    "import seaborn as sns\n",
    "\n",
    "eval_metrics.to_csv('eval_metrics_char_gram.csv')\n",
    "\n",
    "#plot the accuracy\n",
    "plt.figure(figsize=(20,10))\n",
    "sns.lineplot(x='Max Features', y='Accuracy', hue='Model', data=eval_metrics[eval_metrics['Pre-processing Technique'] == 'Character n-grams'])\n",
    "plt.title('Accuracy of Models using Character n-grams')\n",
    "plt.savefig('Accuracy of Models using Character n-grams.png')\n",
    "\n",
    "#plot the f1 score\n",
    "plt.figure(figsize=(20,10))\n",
    "sns.lineplot(x='Max Features', y='F1 Score', hue='Model', data=eval_metrics[eval_metrics['Pre-processing Technique'] == 'Character n-grams'])\n",
    "plt.title('F1 Score of Models using Character n-grams')\n",
    "plt.savefig('F1 Score of Models using Character n-grams.png')\n",
    "\n",
    "#plot the precision\n",
    "plt.figure(figsize=(20,10))\n",
    "sns.lineplot(x='Max Features', y='Precision', hue='Model', data=eval_metrics[eval_metrics['Pre-processing Technique'] == 'Character n-grams'])\n",
    "plt.title('Precision of Models using Character n-grams')\n",
    "plt.savefig('Precision of Models using Character n-grams.png')\n",
    "\n",
    "#plot the recall\n",
    "plt.figure(figsize=(20,10))\n",
    "sns.lineplot(x='Max Features', y='Recall', hue='Model', data=eval_metrics[eval_metrics['Pre-processing Technique'] == 'Character n-grams']) \n",
    "plt.title('Recall of Models using Character n-grams')\n",
    "plt.savefig('Recall of Models using Character n-grams.png')\n",
    "\n",
    "\n",
    "#print model and max features with best evaluation metrics\n",
    "print(eval_metrics.loc[eval_metrics['Accuracy'].idxmax()])\n",
    "print(eval_metrics.loc[eval_metrics['F1 Score'].idxmax()])\n",
    "print(eval_metrics.loc[eval_metrics['Precision'].idxmax()])\n",
    "print(eval_metrics.loc[eval_metrics['Recall'].idxmax()])\n",
    "\n"
   ]
  },
  {
   "cell_type": "markdown",
   "metadata": {},
   "source": [
    "## Word n-grams"
   ]
  },
  {
   "cell_type": "code",
   "execution_count": null,
   "metadata": {},
   "outputs": [],
   "source": [
    "#word n-grams\n",
    "for features in range(500,5000, 250):\n",
    "    # create the feature set using 1000 most frequently ranked character n-grams\n",
    "    w_vectorizer = CountVectorizer(analyzer='word', ngram_range=(1,3), max_features=features)\n",
    "    # fit the vectorizer to the training data\n",
    "    w_vectorizer.fit(df['Content'])\n",
    "    # transform the training data\n",
    "    X_test = w_vectorizer.transform(df['Content'])\n",
    "\n",
    "    # create the label set\n",
    "    y_test = df['AuthorID']\n",
    "\n",
    "    X = w_vectorizer.transform(df_test['Content'])\n",
    "    y = df_test['AuthorID']\n",
    "\n",
    "    for model in models[:-6]:\n",
    "        if model in DL_models:\n",
    "            X = X.toarray() \n",
    "            X_test = X_test.toarray()\n",
    "        acc, f1, prec, rec = model(X, y, X_test, y_test)\n",
    "        eval_metrics = eval_metrics.append({'Pre-processing Technique': 'Word n-grams', 'Model': model.__name__, 'Max Features': features, 'Accuracy': acc, 'F1 Score': f1, 'Precision': prec, 'Recall': rec}, ignore_index=True)\n",
    "\n",
    "#plot the evaluation metrics\n",
    "import matplotlib.pyplot as plt\n",
    "import seaborn as sns\n",
    "\n",
    "eval_metrics.to_csv('eval_metrics_word_gram.csv')\n",
    "\n",
    "#plot the accuracy\n",
    "plt.figure(figsize=(20,10))\n",
    "sns.lineplot(x='Max Features', y='Accuracy', hue='Model', data=eval_metrics[eval_metrics['Pre-processing Technique'] == 'Word n-grams'])\n",
    "plt.title('Accuracy of Models using Word n-grams')\n",
    "plt.savefig('Accuracy of Models using Word n-grams.png')\n",
    "\n",
    "#plot the f1 score\n",
    "plt.figure(figsize=(20,10))\n",
    "sns.lineplot(x='Max Features', y='F1 Score', hue='Model', data=eval_metrics[eval_metrics['Pre-processing Technique'] == 'Word n-grams'])\n",
    "plt.title('F1 Score of Models using Word n-grams')\n",
    "plt.savefig('F1 Score of Models using Word n-grams.png')\n",
    "\n",
    "#plot the precision\n",
    "plt.figure(figsize=(20,10))\n",
    "sns.lineplot(x='Max Features', y='Precision', hue='Model', data=eval_metrics[eval_metrics['Pre-processing Technique'] == 'Word n-grams'])\n",
    "plt.title('Precision of Models using Word n-grams')\n",
    "plt.savefig('Precision of Models using Word n-grams.png')\n",
    "\n",
    "#plot the recall\n",
    "plt.figure(figsize=(20,10))\n",
    "sns.lineplot(x='Max Features', y='Recall', hue='Model', data=eval_metrics[eval_metrics['Pre-processing Technique'] == 'Word n-grams'])\n",
    "plt.title('Recall of Models using Word n-grams')\n",
    "plt.savefig('Recall of Models using Word n-grams.png')\n",
    "\n",
    "#print model and max features with best evaluation metrics\n",
    "print(eval_metrics.loc[eval_metrics['Accuracy'].idxmax()])\n",
    "print(eval_metrics.loc[eval_metrics['F1 Score'].idxmax()])\n",
    "print(eval_metrics.loc[eval_metrics['Precision'].idxmax()])\n",
    "print(eval_metrics.loc[eval_metrics['Recall'].idxmax()])"
   ]
  },
  {
   "cell_type": "code",
   "execution_count": null,
   "metadata": {},
   "outputs": [],
   "source": [
    "   "
   ]
  }
 ],
 "metadata": {
  "kernelspec": {
   "display_name": "Python 3.8.15 64-bit",
   "language": "python",
   "name": "python3"
  },
  "language_info": {
   "codemirror_mode": {
    "name": "ipython",
    "version": 3
   },
   "file_extension": ".py",
   "mimetype": "text/x-python",
   "name": "python",
   "nbconvert_exporter": "python",
   "pygments_lexer": "ipython3",
   "version": "3.8.15"
  },
  "orig_nbformat": 4,
  "vscode": {
   "interpreter": {
    "hash": "5b6e8fba36db23bc4d54e0302cd75fdd75c29d9edcbab68d6cfc74e7e4b30305"
   }
  }
 },
 "nbformat": 4,
 "nbformat_minor": 2
}
